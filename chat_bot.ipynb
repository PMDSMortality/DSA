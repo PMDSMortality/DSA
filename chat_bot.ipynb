{
 "cells": [
  {
   "cell_type": "code",
   "execution_count": 7,
   "metadata": {},
   "outputs": [],
   "source": [
    "import argparse\n",
    "import os\n",
    "import shutil\n",
    "from langchain_community.document_loaders.pdf import PyPDFDirectoryLoader\n",
    "from langchain_text_splitters import RecursiveCharacterTextSplitter\n",
    "from langchain.schema.document import Document\n",
    "from langchain_community.vectorstores import Chroma\n",
    "from langchain_community.embeddings.ollama import OllamaEmbeddings\n",
    "from langchain.prompts import ChatPromptTemplate\n",
    "from langchain_community.llms.ollama import Ollama"
   ]
  },
  {
   "cell_type": "markdown",
   "metadata": {},
   "source": [
    "# Configure Model"
   ]
  },
  {
   "cell_type": "code",
   "execution_count": 8,
   "metadata": {},
   "outputs": [],
   "source": [
    "model=\"llama3:latest\"\n",
    "ollama_url=\"http://localhost:11434\"#\"http://192.168.2.2:11434\"\n",
    "embeddings = OllamaEmbeddings(model=model,base_url=ollama_url)\n",
    "ollama = Ollama(model=model,base_url=ollama_url)\n",
    "db = Chroma(persist_directory=\"./chroma\", embedding_function=embeddings)"
   ]
  },
  {
   "cell_type": "markdown",
   "metadata": {},
   "source": [
    "# Helpers"
   ]
  },
  {
   "cell_type": "code",
   "execution_count": 9,
   "metadata": {},
   "outputs": [],
   "source": [
    "def split_documents(documents: list[Document]):\n",
    "    text_splitter = RecursiveCharacterTextSplitter(\n",
    "        chunk_size=800,\n",
    "        chunk_overlap=80,\n",
    "        length_function=len,\n",
    "        is_separator_regex=False,\n",
    "    )\n",
    "    return text_splitter.split_documents(documents)\n",
    "\n",
    "def add_to_chroma(chunks: list[Document], db):\n",
    "    chunks_with_ids = calculate_chunk_ids(chunks)\n",
    "    existing_items = db.get(include=[])\n",
    "    existing_ids = set(existing_items[\"ids\"])\n",
    "    print(f\"Number of existing documents in DB: {len(existing_ids)}\")\n",
    "    new_chunks = []\n",
    "    for chunk in chunks_with_ids:\n",
    "        if chunk.metadata[\"id\"] not in existing_ids:\n",
    "            new_chunks.append(chunk)\n",
    "\n",
    "    if len(new_chunks):\n",
    "        print(f\"👉 Adding new documents: {len(new_chunks)}\")\n",
    "        new_chunk_ids = [chunk.metadata[\"id\"] for chunk in new_chunks]\n",
    "        db.add_documents(new_chunks, ids=new_chunk_ids)\n",
    "    else:\n",
    "        print(\"✅ No new documents to add\")\n",
    "\n",
    "\n",
    "def calculate_chunk_ids(chunks):\n",
    "    # This will create IDs like \"data/monopoly.pdf:6:2\"\n",
    "    # Page Source : Page Number : Chunk Index\n",
    "    last_page_id = None\n",
    "    current_chunk_index = 0\n",
    "\n",
    "    for chunk in chunks:\n",
    "        source = chunk.metadata.get(\"source\")\n",
    "        page = chunk.metadata.get(\"page\")\n",
    "        current_page_id = f\"{source}:{page}\"\n",
    "\n",
    "        # If the page ID is the same as the last one, increment the index.\n",
    "        if current_page_id == last_page_id:\n",
    "            current_chunk_index += 1\n",
    "        else:\n",
    "            current_chunk_index = 0\n",
    "\n",
    "        # Calculate the chunk ID.\n",
    "        chunk_id = f\"{current_page_id}:{current_chunk_index}\"\n",
    "        last_page_id = current_page_id\n",
    "\n",
    "        # Add it to the page meta-data.\n",
    "        chunk.metadata[\"id\"] = chunk_id\n",
    "\n",
    "    return chunks\n",
    "\n",
    "def query(query_text: str, model, db):\n",
    "    PROMPT_TEMPLATE = \"\"\"\n",
    "Beantworte die folgende Frage nur anhand des gegebenen Kontext:\n",
    "\n",
    "{context}\n",
    "\n",
    "---\n",
    "\n",
    "Beantworte folgende Frage anhand des obigen Kontext: {question}\n",
    "\"\"\"\n",
    "    # Search the DB.\n",
    "    results = db.similarity_search_with_score(query_text, k=5)\n",
    "\n",
    "    context_text = \"\\n\\n---\\n\\n\".join([doc.page_content for doc, _score in results])\n",
    "    prompt_template = ChatPromptTemplate.from_template(PROMPT_TEMPLATE)\n",
    "    prompt = prompt_template.format(context=context_text, question=query_text)\n",
    "\n",
    "    response_text = ollama.invoke(prompt)\n",
    "\n",
    "    sources = [doc.metadata.get(\"id\", None) for doc, _score in results]\n",
    "    formatted_response = f\"Response: {response_text}\\nSources: {sources}\"\n",
    "    print(formatted_response)\n",
    "    print(context_text)\n",
    "    return response_text"
   ]
  },
  {
   "cell_type": "markdown",
   "metadata": {},
   "source": [
    "# Load the PDF into the Vector Store. \n",
    "Takes reeeeeally long. Must only be done once"
   ]
  },
  {
   "cell_type": "code",
   "execution_count": 11,
   "metadata": {},
   "outputs": [
    {
     "name": "stdout",
     "output_type": "stream",
     "text": [
      "Number of existing documents in DB: 8957\n",
      "✅ No new documents to add\n"
     ]
    }
   ],
   "source": [
    "document_loader = PyPDFDirectoryLoader('./data')\n",
    "docs = document_loader.load()\n",
    "chunks = split_documents(docs)\n",
    "add_to_chroma(chunks, db)"
   ]
  },
  {
   "cell_type": "markdown",
   "metadata": {},
   "source": [
    "# Query the Model and Database"
   ]
  },
  {
   "cell_type": "code",
   "execution_count": 10,
   "metadata": {},
   "outputs": [
    {
     "name": "stdout",
     "output_type": "stream",
     "text": [
      "Response: Eine steigende Infektionsrate, eine hohe Impfrate und ein geringes Sterbegeschehen sprechen für eine Situation, in der sich die Gesellschaft langsam aber sicher wieder normalisiert. In diesem Kontext sind folgende Maßnahmen sinnvoll:\n",
      "\n",
      "1. Fortsetzung der Impfungen: Da die Impfrate hoch ist und die Nebenwirkungen der Impfstoffe bekannt sind, sollte die Impfung weiterhin als wirksames Mittel gegen die Verbreitung des Virus genutzt werden.\n",
      "2. Überwachung von Risikofaktoren: Es könnte sinnvoll sein, eine CWA-basierte Umfrage bei bestimmten Personen zu Risikofaktoren durchzuführen, um die Verbreitung des Virus besser verstehen und geeignete Maßnahmen ergreifen zu können.\n",
      "3. Erneute Öffnung von Schulen und Kitas: Da Studien zeigen, dass Kinder nicht mehr wie erwachsene Personen ansteckbar sind und auch keine anderen Personen infiziert haben, wenn sie selbst infiziert waren, könnte die Wiedereröffnung von Schulen und Kitas sinnvoll sein.\n",
      "4. Toolbox für Länder erstellen: Es wäre ratsam, ein Toolkit für Länder vorzubereiten, um die Studien zum Effekt von Schulschließungen und dem Einfluss von Kindern zu unterstützen.\n",
      "5. Fortsetzung der Überwachung von Symptomen: Obwohl die Sterbeinzidenz niedrig ist, sollte die Überwachung von Symptomen weiterhin genutzt werden, um schnelle Interventionen bei Ausbrüchen von Infektionen durchführen zu können.\n",
      "\n",
      "Insgesamt sollten die Maßnahmen auf eine Balance zwischen Schutz und Öffnung der Gesellschaft ausgerichtet sein.\n",
      "Sources: ['data/COVID-19-Krisenstabsprotokolle_Download.pdf:945:3', 'data/COVID-19-Krisenstabsprotokolle_Download.pdf:1374:1', 'data/COVID-19-Krisenstabsprotokolle_Download.pdf:10:4', 'data/COVID-19-Krisenstabsprotokolle_Download.pdf:707:2', 'data/COVID-19-Krisenstabsprotokolle_Download.pdf:2239:3']\n",
      "Sozialministerium) gewartet wird, obwohl deren Kommentare \n",
      "aufgenommen wurden \n",
      " Muss das bei fachlichen Empfehlungen sein, wenn bereits \n",
      "Stellungnahmen der Ressorts eingearbeitet wurden?\n",
      "\n",
      "---\n",
      "\n",
      "o Placebo-kontrollierte Phase 3-Studie in USA seit Ende Juli \n",
      " Moderna –mRNA-1273 - Nebenwirkungsprofil \n",
      "o Vergleich der Dosengruppen hinsichtlich den Neben-\n",
      "wirkungen \n",
      "o keine schwerwiegende Nebenwirkungen, aber im Vgl zu \n",
      "herkömmlichen Impfstoffen schon mehr \n",
      " Moderna –mRNA-1273 – Immunogenität \n",
      "o Immunogenität überzeugender als bei Oxford, nach der \n",
      "zweiten Impfung liegen Werte über denen von \n",
      "Rekonvaleszenten, sehr viel versprechend \n",
      " BioNTech-BN162b1 – DE-Studie, Neutralisierende Antikörper \n",
      "o NT unter Nutzung verschiedener Virus Varianten \n",
      " Novavax – NVX-CoV2373, adjuvantiert \n",
      "o letzte Woche erste Daten publiziert: Immunogenität 4x \n",
      "höher als Rekonvaleszenten gefunden \n",
      "o Zu klärende Frage: Schutz der Impfstoff nur vor der \n",
      "Erkrankung oder vor der Weitergabe des Virus?\n",
      "\n",
      "---\n",
      "\n",
      "management-of-novel-cov.pdf). Die Seiten des STAKOB als auch des RKI \n",
      "sollen darauf verlinken. Eine Übersetzung ins Deutsche ist derzeit nicht \n",
      "geplant. Der STAKOB tagt am 20./21.01.2020 am RKI, dort können weitere \n",
      "Bedarfe besprochen werden.\n",
      "\n",
      "---\n",
      "\n",
      "infiziertes Kind hatte Kontakt zu 150 weiteren Personen \n",
      "und hat keines davon nachweislich angesteckt. Einwand: \n",
      "Ansteckung wurde anhand von Symptomatik bestimmt, \n",
      "Kinder sind aber weniger häufig symptomatisch. \n",
      " Zunehmend Studien in Europa: in Holland Cluster-\n",
      "randomized trial: Kinder haben keine anderen Personen \n",
      "infiziert, Weitergabe der Infektion erst in höheren \n",
      "Altersgruppen, es handelt sich um vorläufige Ergebnisse. \n",
      "o In Oslo wurden die Kitas wieder eröffnet, hier wird eine \n",
      "Studie vorbereitet, so auch in Dänemark und Schweden und \n",
      "Australien.  \n",
      "o Studien zum Effekt von Schulschließungen und dem Einfluss \n",
      "von Kindern: Wer könnte das machen? Wäre es besser eine \n",
      "Art Toolbox für Länder vorzubereiten oder soll das RKI selbst \n",
      "Studien durchführen?\n",
      "\n",
      "---\n",
      "\n",
      " Es könnte diskutiert werden, ob eine CWA-basierte \n",
      "Umfrage bei bestimmten Personen zu \n",
      "Risikofaktoren genutzt werden kann \n",
      " Welche Empfehlungen können in der aktuellen \n",
      "Situation noch ausgesprochen werden (außer bei \n",
      "Symptomatik zu Hause zu bleiben)?\n"
     ]
    },
    {
     "data": {
      "text/plain": [
       "'Eine steigende Infektionsrate, eine hohe Impfrate und ein geringes Sterbegeschehen sprechen für eine Situation, in der sich die Gesellschaft langsam aber sicher wieder normalisiert. In diesem Kontext sind folgende Maßnahmen sinnvoll:\\n\\n1. Fortsetzung der Impfungen: Da die Impfrate hoch ist und die Nebenwirkungen der Impfstoffe bekannt sind, sollte die Impfung weiterhin als wirksames Mittel gegen die Verbreitung des Virus genutzt werden.\\n2. Überwachung von Risikofaktoren: Es könnte sinnvoll sein, eine CWA-basierte Umfrage bei bestimmten Personen zu Risikofaktoren durchzuführen, um die Verbreitung des Virus besser verstehen und geeignete Maßnahmen ergreifen zu können.\\n3. Erneute Öffnung von Schulen und Kitas: Da Studien zeigen, dass Kinder nicht mehr wie erwachsene Personen ansteckbar sind und auch keine anderen Personen infiziert haben, wenn sie selbst infiziert waren, könnte die Wiedereröffnung von Schulen und Kitas sinnvoll sein.\\n4. Toolbox für Länder erstellen: Es wäre ratsam, ein Toolkit für Länder vorzubereiten, um die Studien zum Effekt von Schulschließungen und dem Einfluss von Kindern zu unterstützen.\\n5. Fortsetzung der Überwachung von Symptomen: Obwohl die Sterbeinzidenz niedrig ist, sollte die Überwachung von Symptomen weiterhin genutzt werden, um schnelle Interventionen bei Ausbrüchen von Infektionen durchführen zu können.\\n\\nInsgesamt sollten die Maßnahmen auf eine Balance zwischen Schutz und Öffnung der Gesellschaft ausgerichtet sein.'"
      ]
     },
     "execution_count": 10,
     "metadata": {},
     "output_type": "execute_result"
    }
   ],
   "source": [
    "query(\"Welche Maßnahmen sind sinnvoll bei einer steigenden Infektionsrate, einer hohen Impfrate und einem geringen Sterbegeschehen?\",ollama,db)"
   ]
  }
 ],
 "metadata": {
  "kernelspec": {
   "display_name": "Python 3",
   "language": "python",
   "name": "python3"
  },
  "language_info": {
   "codemirror_mode": {
    "name": "ipython",
    "version": 3
   },
   "file_extension": ".py",
   "mimetype": "text/x-python",
   "name": "python",
   "nbconvert_exporter": "python",
   "pygments_lexer": "ipython3",
   "version": "3.10.14"
  }
 },
 "nbformat": 4,
 "nbformat_minor": 2
}
