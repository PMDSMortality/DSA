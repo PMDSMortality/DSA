{
 "cells": [
  {
   "metadata": {
    "ExecuteTime": {
     "end_time": "2024-05-15T08:23:14.915878Z",
     "start_time": "2024-05-15T08:23:14.870878Z"
    }
   },
   "cell_type": "code",
   "source": [
    "import pandas as pd\n",
    "import json\n",
    "import numpy as np\n",
    "\n",
    "f = open('happenings.json')\n",
    "happenings = json.load(f)\n",
    "f.close()\n",
    "#print(type(happenings))\n",
    "#print(happenings[0])\n",
    "happenings_converted = []\n",
    "for i in happenings:\n",
    "    happenings_converted.append(i[0:2])\n",
    "\n",
    "#print(happenings_converted)\n",
    "#for i in happenings:\n",
    "#    print(i)\n",
    "df_happenings = pd.DataFrame(happenings_converted, columns = [\"Date\", \"Title\"])\n",
    "#print(df_happenings.head())\n",
    "\n",
    "df_happenings['Date'] = pd.to_datetime(df_happenings['Date'])\n",
    "\n",
    "#print(type(df_happenings['Date'][0]))\n",
    "#print(df_happenings['Date'][0].isocalendar())\n",
    "\n",
    "week = []\n",
    "year = []\n",
    "for i in df_happenings['Date']:\n",
    "    #print(i) \n",
    "    year.append(i.isocalendar()[0])\n",
    "    week.append(i.isocalendar()[1])\n",
    "    \n",
    "#print(year)\n",
    "#print(week)\n",
    "df_happenings[\"Year\"] = year\n",
    "df_happenings[\"Week\"] = week\n",
    "\n",
    "#print(df_happenings.head())"
   ],
   "id": "da540853d7fba4fc",
   "outputs": [],
   "execution_count": 118
  },
  {
   "metadata": {
    "ExecuteTime": {
     "end_time": "2024-05-15T08:23:15.227959Z",
     "start_time": "2024-05-15T08:23:14.922884Z"
    }
   },
   "cell_type": "code",
   "source": [
    "data = pd.read_csv(\"combined.csv\", na_values = '-')\n",
    "data.fillna(0, inplace = True)\n",
    "\n",
    "#print(data)\n",
    "\n",
    "#combined_total = data\n",
    "combined_total = data.groupby(['Year', 'Week']).sum().reset_index()\n",
    "combined_total.loc[:,'Age']=\"all\"\n",
    "combined_total = combined_total.reindex(columns = [\"Year\", \"Week\", \"Age\",\"Value\",\"Value_Covid\",\"Value_Covid_total\"])\n",
    "#print(combined_total)\n",
    "\n",
    "data = data.append(combined_total, ignore_index=True).sort_values(by=['Year', 'Week']).reset_index(drop=True)\n",
    "print(data)\n",
    "\n",
    "\n",
    "\n"
   ],
   "id": "7221f3da369cbbb8",
   "outputs": [
    {
     "name": "stdout",
     "output_type": "stream",
     "text": [
      "      Year  Week    Age    Value  Value_Covid  Value_Covid_total\n",
      "0     2015     1   0-34    200.0          0.0                0.0\n",
      "1     2015     1  35-59   1637.0          0.0                0.0\n",
      "2     2015     1  60-79   6665.0          0.0                0.0\n",
      "3     2015     1    80+  10211.0          0.0                0.0\n",
      "4     2015     1    all  18713.0          0.0                0.0\n",
      "...    ...   ...    ...      ...          ...                ...\n",
      "2345  2023    52   0-34    190.0          1.0              587.0\n",
      "2346  2023    52  35-59   1394.0         15.0             8630.0\n",
      "2347  2023    52  60-79   6743.0         80.0            53861.0\n",
      "2348  2023    52    80+  13495.0        157.0           116992.0\n",
      "2349  2023    52    all  21822.0        253.0           180070.0\n",
      "\n",
      "[2350 rows x 6 columns]\n"
     ]
    }
   ],
   "execution_count": 119
  },
  {
   "cell_type": "code",
   "id": "initial_id",
   "metadata": {
    "collapsed": true,
    "ExecuteTime": {
     "end_time": "2024-05-15T09:05:20.673137Z",
     "start_time": "2024-05-15T09:05:20.415089Z"
    }
   },
   "source": [
    "year = 2023\n",
    "kalenderwochen = [1,52]\n",
    "lookback = 5\n",
    "show_events = True\n",
    "\n",
    "data_filtered = data.query(\"Year == @year and Week >= @kalenderwochen[0] and Week <= @kalenderwochen[1]\")\n",
    "#todo cumsum für alle altersgruppen für den gegebenen Zeitraum, sodass nicht nur der Grenzwert ganz am Ende ist sondern schon für den Verlauf\n",
    "\n",
    "data_filtered_all = data_filtered[data_filtered[\"Age\"] == \"all\"]\n",
    "data_filtered_all[\"Value_Total\"]= np.cumsum(data_filtered_all.loc[:,\"Value\"])\n",
    "print(data_filtered_all)\n",
    "\n",
    "data_filtered_young = data_filtered[data_filtered[\"Age\"] == \"0-34\"]\n",
    "data_filtered_young[\"Value_Total\"]= np.cumsum(data_filtered_young.loc[:,\"Value\"])\n",
    "print(data_filtered_young)\n",
    "\n",
    "data_filtered_semi = data_filtered[data_filtered[\"Age\"] == \"35-59\"]\n",
    "data_filtered_semi[\"Value_Total\"]= np.cumsum(data_filtered_semi.loc[:,\"Value\"])\n",
    "print(data_filtered_semi)\n",
    "\n",
    "data_filtered_old = data_filtered[data_filtered[\"Age\"] == \"60-79\"]\n",
    "data_filtered_old[\"Value_Total\"]= np.cumsum(data_filtered_old.loc[:,\"Value\"])\n",
    "print(data_filtered_old)\n",
    "\n",
    "data_filtered_vold = data_filtered[data_filtered[\"Age\"] == \"80+\"]\n",
    "data_filtered_vold[\"Value_Total\"]= np.cumsum(data_filtered_vold.loc[:,\"Value\"])\n",
    "print(data_filtered_vold)\n",
    "\n",
    "\n",
    "happenings_filtered = df_happenings.query(\"Year == @year and Week >= @kalenderwochen[0] and Week <= @kalenderwochen[1]\")\n",
    "#print(data_filtered)\n",
    "#print(happenings_filtered)\n"
   ],
   "outputs": [
    {
     "name": "stdout",
     "output_type": "stream",
     "text": [
      "      Year  Week  Age    Value  Value_Covid  Value_Covid_total  Value_Total\n",
      "2094  2023     1  all  25384.0       1222.0           162537.0      25384.0\n",
      "2099  2023     2  all  22695.0       1086.0           163623.0      48079.0\n",
      "2104  2023     3  all  21215.0        929.0           164552.0      69294.0\n",
      "2109  2023     4  all  20626.0        747.0           165299.0      89920.0\n",
      "2114  2023     5  all  21081.0        681.0           165980.0     111001.0\n",
      "2119  2023     6  all  20489.0        631.0           166611.0     131490.0\n",
      "2124  2023     7  all  20978.0        542.0           167153.0     152468.0\n",
      "2129  2023     8  all  20893.0        527.0           167680.0     173361.0\n",
      "2134  2023     9  all  21041.0        582.0           168262.0     194402.0\n",
      "2139  2023    10  all  21944.0        654.0           168916.0     216346.0\n",
      "2144  2023    11  all  21806.0        607.0           169523.0     238152.0\n",
      "2149  2023    12  all  21345.0        684.0           170207.0     259497.0\n",
      "2154  2023    13  all  20734.0        634.0           170841.0     280231.0\n",
      "2159  2023    14  all  19939.0        444.0           171285.0     300170.0\n",
      "2164  2023    15  all  20116.0        572.0           171857.0     320286.0\n",
      "2169  2023    16  all  19847.0        537.0           172394.0     340133.0\n",
      "2174  2023    17  all  19298.0        515.0           172909.0     359431.0\n",
      "2179  2023    18  all  19041.0        361.0           173270.0     378472.0\n",
      "2184  2023    19  all  18877.0        421.0           173691.0     397349.0\n",
      "2189  2023    20  all  18369.0        198.0           173889.0     415718.0\n",
      "2194  2023    21  all  18373.0        244.0           174133.0     434091.0\n",
      "2199  2023    22  all  17990.0        149.0           174282.0     452081.0\n",
      "2204  2023    23  all  18380.0        129.0           174411.0     470461.0\n",
      "2209  2023    24  all  17830.0        168.0           174579.0     488291.0\n",
      "2214  2023    25  all  18081.0        124.0           174703.0     506372.0\n",
      "2219  2023    26  all  17022.0        154.0           174857.0     523394.0\n",
      "2224  2023    27  all  17136.0         90.0           174947.0     540530.0\n",
      "2229  2023    28  all  17730.0         86.0           175033.0     558260.0\n",
      "2234  2023    29  all  16767.0         79.0           175112.0     575027.0\n",
      "2239  2023    30  all  16925.0         70.0           175182.0     591952.0\n",
      "2244  2023    31  all  16857.0         63.0           175245.0     608809.0\n",
      "2249  2023    32  all  17449.0         35.0           175280.0     626258.0\n",
      "2254  2023    33  all  18441.0         42.0           175322.0     644699.0\n",
      "2259  2023    34  all  18141.0         41.0           175363.0     662840.0\n",
      "2264  2023    35  all  16727.0        122.0           175485.0     679567.0\n",
      "2269  2023    36  all  18091.0         88.0           175573.0     697658.0\n",
      "2274  2023    37  all  17862.0        222.0           175795.0     715520.0\n",
      "2279  2023    38  all  17327.0        129.0           175924.0     732847.0\n",
      "2284  2023    39  all  17607.0        116.0           176040.0     750454.0\n",
      "2289  2023    40  all  18139.0        101.0           176141.0     768593.0\n",
      "2294  2023    41  all  18752.0        149.0           176290.0     787345.0\n",
      "2299  2023    42  all  19443.0        179.0           176469.0     806788.0\n",
      "2304  2023    43  all  20215.0        224.0           176693.0     827003.0\n",
      "2309  2023    44  all  20374.0        241.0           176934.0     847377.0\n",
      "2314  2023    45  all  20567.0        373.0           177307.0     867944.0\n",
      "2319  2023    46  all  20774.0        376.0           177683.0     888718.0\n",
      "2324  2023    47  all  20975.0        347.0           178030.0     909693.0\n",
      "2329  2023    48  all  21975.0        363.0           178393.0     931668.0\n",
      "2334  2023    49  all  22894.0        422.0           178815.0     954562.0\n",
      "2339  2023    50  all  22528.0        438.0           179253.0     977090.0\n",
      "2344  2023    51  all  22890.0        564.0           179817.0     999980.0\n",
      "2349  2023    52  all  21822.0        253.0           180070.0    1021802.0\n",
      "      Year  Week   Age  Value  Value_Covid  Value_Covid_total  Value_Total\n",
      "2090  2023     1  0-34  188.0          2.0              530.0        188.0\n",
      "2095  2023     2  0-34  194.0          5.0              535.0        382.0\n",
      "2100  2023     3  0-34  210.0          1.0              536.0        592.0\n",
      "2105  2023     4  0-34  195.0          3.0              539.0        787.0\n",
      "2110  2023     5  0-34  164.0          1.0              540.0        951.0\n",
      "2115  2023     6  0-34  235.0          2.0              542.0       1186.0\n",
      "2120  2023     7  0-34  217.0          2.0              544.0       1403.0\n",
      "2125  2023     8  0-34  198.0          3.0              547.0       1601.0\n",
      "2130  2023     9  0-34  192.0          2.0              549.0       1793.0\n",
      "2135  2023    10  0-34  219.0          1.0              550.0       2012.0\n",
      "2140  2023    11  0-34  213.0          3.0              553.0       2225.0\n",
      "2145  2023    12  0-34  215.0          5.0              558.0       2440.0\n",
      "2150  2023    13  0-34  195.0          0.0              558.0       2635.0\n",
      "2155  2023    14  0-34  187.0          2.0              560.0       2822.0\n",
      "2160  2023    15  0-34  199.0          1.0              561.0       3021.0\n",
      "2165  2023    16  0-34  184.0          0.0              561.0       3205.0\n",
      "2170  2023    17  0-34  193.0          0.0              561.0       3398.0\n",
      "2175  2023    18  0-34  190.0          0.0              561.0       3588.0\n",
      "2180  2023    19  0-34  185.0          1.0              562.0       3773.0\n",
      "2185  2023    20  0-34  189.0          0.0              562.0       3962.0\n",
      "2190  2023    21  0-34  193.0          0.0              562.0       4155.0\n",
      "2195  2023    22  0-34  188.0          0.0              562.0       4343.0\n",
      "2200  2023    23  0-34  213.0          0.0              562.0       4556.0\n",
      "2205  2023    24  0-34  183.0          0.0              562.0       4739.0\n",
      "2210  2023    25  0-34  216.0          0.0              562.0       4955.0\n",
      "2215  2023    26  0-34  184.0          1.0              563.0       5139.0\n",
      "2220  2023    27  0-34  195.0          0.0              563.0       5334.0\n",
      "2225  2023    28  0-34  185.0          0.0              563.0       5519.0\n",
      "2230  2023    29  0-34  171.0          1.0              564.0       5690.0\n",
      "2235  2023    30  0-34  159.0          1.0              565.0       5849.0\n",
      "2240  2023    31  0-34  171.0          0.0              565.0       6020.0\n",
      "2245  2023    32  0-34  170.0          0.0              565.0       6190.0\n",
      "2250  2023    33  0-34  178.0          0.0              565.0       6368.0\n",
      "2255  2023    34  0-34  189.0          0.0              565.0       6557.0\n",
      "2260  2023    35  0-34  185.0          1.0              566.0       6742.0\n",
      "2265  2023    36  0-34  212.0          1.0              567.0       6954.0\n",
      "2270  2023    37  0-34  201.0          3.0              570.0       7155.0\n",
      "2275  2023    38  0-34  191.0          0.0              570.0       7346.0\n",
      "2280  2023    39  0-34  187.0          1.0              571.0       7533.0\n",
      "2285  2023    40  0-34  196.0          0.0              571.0       7729.0\n",
      "2290  2023    41  0-34  192.0          1.0              572.0       7921.0\n",
      "2295  2023    42  0-34  192.0          0.0              572.0       8113.0\n",
      "2300  2023    43  0-34  186.0          0.0              572.0       8299.0\n",
      "2305  2023    44  0-34  200.0          1.0              573.0       8499.0\n",
      "2310  2023    45  0-34  216.0          1.0              574.0       8715.0\n",
      "2315  2023    46  0-34  178.0          2.0              576.0       8893.0\n",
      "2320  2023    47  0-34  205.0          1.0              577.0       9098.0\n",
      "2325  2023    48  0-34  210.0          4.0              581.0       9308.0\n",
      "2330  2023    49  0-34  208.0          1.0              582.0       9516.0\n",
      "2335  2023    50  0-34  202.0          1.0              583.0       9718.0\n",
      "2340  2023    51  0-34  188.0          3.0              586.0       9906.0\n",
      "2345  2023    52  0-34  190.0          1.0              587.0      10096.0\n",
      "      Year  Week    Age   Value  Value_Covid  Value_Covid_total  Value_Total\n",
      "2091  2023     1  35-59  1648.0         46.0             7996.0       1648.0\n",
      "2096  2023     2  35-59  1528.0         44.0             8040.0       3176.0\n",
      "2101  2023     3  35-59  1458.0         39.0             8079.0       4634.0\n",
      "2106  2023     4  35-59  1413.0         28.0             8107.0       6047.0\n",
      "2111  2023     5  35-59  1514.0         33.0             8140.0       7561.0\n",
      "2116  2023     6  35-59  1449.0         24.0             8164.0       9010.0\n",
      "2121  2023     7  35-59  1511.0         23.0             8187.0      10521.0\n",
      "2126  2023     8  35-59  1453.0         19.0             8206.0      11974.0\n",
      "2131  2023     9  35-59  1489.0         25.0             8231.0      13463.0\n",
      "2136  2023    10  35-59  1555.0         22.0             8253.0      15018.0\n",
      "2141  2023    11  35-59  1569.0         15.0             8268.0      16587.0\n",
      "2146  2023    12  35-59  1444.0         18.0             8286.0      18031.0\n",
      "2151  2023    13  35-59  1473.0         25.0             8311.0      19504.0\n",
      "2156  2023    14  35-59  1384.0         15.0             8326.0      20888.0\n",
      "2161  2023    15  35-59  1410.0         19.0             8345.0      22298.0\n",
      "2166  2023    16  35-59  1450.0         22.0             8367.0      23748.0\n",
      "2171  2023    17  35-59  1415.0         24.0             8391.0      25163.0\n",
      "2176  2023    18  35-59  1372.0         14.0             8405.0      26535.0\n",
      "2181  2023    19  35-59  1387.0         14.0             8419.0      27922.0\n",
      "2186  2023    20  35-59  1446.0          7.0             8426.0      29368.0\n",
      "2191  2023    21  35-59  1365.0          5.0             8431.0      30733.0\n",
      "2196  2023    22  35-59  1337.0          6.0             8437.0      32070.0\n",
      "2201  2023    23  35-59  1416.0          5.0             8442.0      33486.0\n",
      "2206  2023    24  35-59  1411.0          7.0             8449.0      34897.0\n",
      "2211  2023    25  35-59  1401.0          5.0             8454.0      36298.0\n",
      "2216  2023    26  35-59  1289.0          6.0             8460.0      37587.0\n",
      "2221  2023    27  35-59  1367.0          6.0             8466.0      38954.0\n",
      "2226  2023    28  35-59  1339.0          5.0             8471.0      40293.0\n",
      "2231  2023    29  35-59  1277.0          3.0             8474.0      41570.0\n",
      "2236  2023    30  35-59  1206.0          2.0             8476.0      42776.0\n",
      "2241  2023    31  35-59  1262.0          3.0             8479.0      44038.0\n",
      "2246  2023    32  35-59  1293.0          0.0             8479.0      45331.0\n",
      "2251  2023    33  35-59  1347.0          2.0             8481.0      46678.0\n",
      "2256  2023    34  35-59  1291.0          2.0             8483.0      47969.0\n",
      "2261  2023    35  35-59  1273.0          2.0             8485.0      49242.0\n",
      "2266  2023    36  35-59  1334.0          2.0             8487.0      50576.0\n",
      "2271  2023    37  35-59  1359.0         11.0             8498.0      51935.0\n",
      "2276  2023    38  35-59  1271.0          6.0             8504.0      53206.0\n",
      "2281  2023    39  35-59  1267.0          2.0             8506.0      54473.0\n",
      "2286  2023    40  35-59  1346.0          1.0             8507.0      55819.0\n",
      "2291  2023    41  35-59  1380.0          3.0             8510.0      57199.0\n",
      "2296  2023    42  35-59  1313.0          5.0             8515.0      58512.0\n",
      "2301  2023    43  35-59  1378.0          5.0             8520.0      59890.0\n",
      "2306  2023    44  35-59  1416.0          9.0             8529.0      61306.0\n",
      "2311  2023    45  35-59  1378.0         12.0             8541.0      62684.0\n",
      "2316  2023    46  35-59  1384.0          8.0             8549.0      64068.0\n",
      "2321  2023    47  35-59  1457.0         14.0             8563.0      65525.0\n",
      "2326  2023    48  35-59  1478.0          9.0             8572.0      67003.0\n",
      "2331  2023    49  35-59  1498.0          9.0             8581.0      68501.0\n",
      "2336  2023    50  35-59  1507.0         11.0             8592.0      70008.0\n",
      "2341  2023    51  35-59  1465.0         23.0             8615.0      71473.0\n",
      "2346  2023    52  35-59  1394.0         15.0             8630.0      72867.0\n",
      "      Year  Week    Age   Value  Value_Covid  Value_Covid_total  Value_Total\n",
      "2092  2023     1  60-79  7599.0        343.0            48712.0       7599.0\n",
      "2097  2023     2  60-79  7005.0        291.0            49003.0      14604.0\n",
      "2102  2023     3  60-79  6646.0        248.0            49251.0      21250.0\n",
      "2107  2023     4  60-79  6507.0        224.0            49475.0      27757.0\n",
      "2112  2023     5  60-79  6758.0        227.0            49702.0      34515.0\n",
      "2117  2023     6  60-79  6489.0        176.0            49878.0      41004.0\n",
      "2122  2023     7  60-79  6545.0        148.0            50026.0      47549.0\n",
      "2127  2023     8  60-79  6555.0        146.0            50172.0      54104.0\n",
      "2132  2023     9  60-79  6596.0        161.0            50333.0      60700.0\n",
      "2137  2023    10  60-79  6856.0        166.0            50499.0      67556.0\n",
      "2142  2023    11  60-79  6900.0        184.0            50683.0      74456.0\n",
      "2147  2023    12  60-79  6713.0        218.0            50901.0      81169.0\n",
      "2152  2023    13  60-79  6566.0        148.0            51049.0      87735.0\n",
      "2157  2023    14  60-79  6445.0        154.0            51203.0      94180.0\n",
      "2162  2023    15  60-79  6407.0        159.0            51362.0     100587.0\n",
      "2167  2023    16  60-79  6468.0        138.0            51500.0     107055.0\n",
      "2172  2023    17  60-79  6239.0        145.0            51645.0     113294.0\n",
      "2177  2023    18  60-79  6085.0        121.0            51766.0     119379.0\n",
      "2182  2023    19  60-79  6149.0        135.0            51901.0     125528.0\n",
      "2187  2023    20  60-79  6069.0         64.0            51965.0     131597.0\n",
      "2192  2023    21  60-79  5936.0         80.0            52045.0     137533.0\n",
      "2197  2023    22  60-79  5982.0         42.0            52087.0     143515.0\n",
      "2202  2023    23  60-79  5936.0         55.0            52142.0     149451.0\n",
      "2207  2023    24  60-79  5873.0         62.0            52204.0     155324.0\n",
      "2212  2023    25  60-79  6001.0         41.0            52245.0     161325.0\n",
      "2217  2023    26  60-79  5608.0         45.0            52290.0     166933.0\n",
      "2222  2023    27  60-79  5639.0         26.0            52316.0     172572.0\n",
      "2227  2023    28  60-79  5736.0         25.0            52341.0     178308.0\n",
      "2232  2023    29  60-79  5640.0         32.0            52373.0     183948.0\n",
      "2237  2023    30  60-79  5549.0         24.0            52397.0     189497.0\n",
      "2242  2023    31  60-79  5567.0         20.0            52417.0     195064.0\n",
      "2247  2023    32  60-79  5789.0         10.0            52427.0     200853.0\n",
      "2252  2023    33  60-79  6025.0         12.0            52439.0     206878.0\n",
      "2257  2023    34  60-79  5984.0         15.0            52454.0     212862.0\n",
      "2262  2023    35  60-79  5560.0         28.0            52482.0     218422.0\n",
      "2267  2023    36  60-79  5926.0         29.0            52511.0     224348.0\n",
      "2272  2023    37  60-79  5808.0         72.0            52583.0     230156.0\n",
      "2277  2023    38  60-79  5596.0         34.0            52617.0     235752.0\n",
      "2282  2023    39  60-79  5742.0         34.0            52651.0     241494.0\n",
      "2287  2023    40  60-79  5773.0         33.0            52684.0     247267.0\n",
      "2292  2023    41  60-79  5967.0         44.0            52728.0     253234.0\n",
      "2297  2023    42  60-79  6243.0         44.0            52772.0     259477.0\n",
      "2302  2023    43  60-79  6297.0         51.0            52823.0     265774.0\n",
      "2307  2023    44  60-79  6319.0         69.0            52892.0     272093.0\n",
      "2312  2023    45  60-79  6358.0        120.0            53012.0     278451.0\n",
      "2317  2023    46  60-79  6616.0         91.0            53103.0     285067.0\n",
      "2322  2023    47  60-79  6616.0        107.0            53210.0     291683.0\n",
      "2327  2023    48  60-79  7015.0        119.0            53329.0     298698.0\n",
      "2332  2023    49  60-79  7144.0        132.0            53461.0     305842.0\n",
      "2337  2023    50  60-79  7003.0        127.0            53588.0     312845.0\n",
      "2342  2023    51  60-79  7277.0        193.0            53781.0     320122.0\n",
      "2347  2023    52  60-79  6743.0         80.0            53861.0     326865.0\n",
      "      Year  Week  Age    Value  Value_Covid  Value_Covid_total  Value_Total\n",
      "2093  2023     1  80+  15949.0        831.0           105299.0      15949.0\n",
      "2098  2023     2  80+  13968.0        746.0           106045.0      29917.0\n",
      "2103  2023     3  80+  12901.0        641.0           106686.0      42818.0\n",
      "2108  2023     4  80+  12511.0        492.0           107178.0      55329.0\n",
      "2113  2023     5  80+  12645.0        420.0           107598.0      67974.0\n",
      "2118  2023     6  80+  12316.0        429.0           108027.0      80290.0\n",
      "2123  2023     7  80+  12705.0        369.0           108396.0      92995.0\n",
      "2128  2023     8  80+  12687.0        359.0           108755.0     105682.0\n",
      "2133  2023     9  80+  12764.0        394.0           109149.0     118446.0\n",
      "2138  2023    10  80+  13314.0        465.0           109614.0     131760.0\n",
      "2143  2023    11  80+  13124.0        405.0           110019.0     144884.0\n",
      "2148  2023    12  80+  12973.0        443.0           110462.0     157857.0\n",
      "2153  2023    13  80+  12500.0        461.0           110923.0     170357.0\n",
      "2158  2023    14  80+  11923.0        273.0           111196.0     182280.0\n",
      "2163  2023    15  80+  12100.0        393.0           111589.0     194380.0\n",
      "2168  2023    16  80+  11745.0        377.0           111966.0     206125.0\n",
      "2173  2023    17  80+  11451.0        346.0           112312.0     217576.0\n",
      "2178  2023    18  80+  11394.0        226.0           112538.0     228970.0\n",
      "2183  2023    19  80+  11156.0        271.0           112809.0     240126.0\n",
      "2188  2023    20  80+  10665.0        127.0           112936.0     250791.0\n",
      "2193  2023    21  80+  10879.0        159.0           113095.0     261670.0\n",
      "2198  2023    22  80+  10483.0        101.0           113196.0     272153.0\n",
      "2203  2023    23  80+  10815.0         69.0           113265.0     282968.0\n",
      "2208  2023    24  80+  10363.0         99.0           113364.0     293331.0\n",
      "2213  2023    25  80+  10463.0         78.0           113442.0     303794.0\n",
      "2218  2023    26  80+   9941.0        102.0           113544.0     313735.0\n",
      "2223  2023    27  80+   9935.0         58.0           113602.0     323670.0\n",
      "2228  2023    28  80+  10470.0         56.0           113658.0     334140.0\n",
      "2233  2023    29  80+   9679.0         43.0           113701.0     343819.0\n",
      "2238  2023    30  80+  10011.0         43.0           113744.0     353830.0\n",
      "2243  2023    31  80+   9857.0         40.0           113784.0     363687.0\n",
      "2248  2023    32  80+  10197.0         25.0           113809.0     373884.0\n",
      "2253  2023    33  80+  10891.0         28.0           113837.0     384775.0\n",
      "2258  2023    34  80+  10677.0         24.0           113861.0     395452.0\n",
      "2263  2023    35  80+   9709.0         91.0           113952.0     405161.0\n",
      "2268  2023    36  80+  10619.0         56.0           114008.0     415780.0\n",
      "2273  2023    37  80+  10494.0        136.0           114144.0     426274.0\n",
      "2278  2023    38  80+  10269.0         89.0           114233.0     436543.0\n",
      "2283  2023    39  80+  10411.0         79.0           114312.0     446954.0\n",
      "2288  2023    40  80+  10824.0         67.0           114379.0     457778.0\n",
      "2293  2023    41  80+  11213.0        101.0           114480.0     468991.0\n",
      "2298  2023    42  80+  11695.0        130.0           114610.0     480686.0\n",
      "2303  2023    43  80+  12354.0        168.0           114778.0     493040.0\n",
      "2308  2023    44  80+  12439.0        162.0           114940.0     505479.0\n",
      "2313  2023    45  80+  12615.0        240.0           115180.0     518094.0\n",
      "2318  2023    46  80+  12596.0        275.0           115455.0     530690.0\n",
      "2323  2023    47  80+  12697.0        225.0           115680.0     543387.0\n",
      "2328  2023    48  80+  13272.0        231.0           115911.0     556659.0\n",
      "2333  2023    49  80+  14044.0        280.0           116191.0     570703.0\n",
      "2338  2023    50  80+  13816.0        299.0           116490.0     584519.0\n",
      "2343  2023    51  80+  13960.0        345.0           116835.0     598479.0\n",
      "2348  2023    52  80+  13495.0        157.0           116992.0     611974.0\n"
     ]
    },
    {
     "name": "stderr",
     "output_type": "stream",
     "text": [
      "c:\\users\\jean-luc busch\\appdata\\local\\programs\\python\\python37\\lib\\site-packages\\ipykernel_launcher.py:10: SettingWithCopyWarning:\n",
      "\n",
      "\n",
      "A value is trying to be set on a copy of a slice from a DataFrame.\n",
      "Try using .loc[row_indexer,col_indexer] = value instead\n",
      "\n",
      "See the caveats in the documentation: https://pandas.pydata.org/pandas-docs/stable/user_guide/indexing.html#returning-a-view-versus-a-copy\n",
      "\n",
      "c:\\users\\jean-luc busch\\appdata\\local\\programs\\python\\python37\\lib\\site-packages\\ipykernel_launcher.py:14: SettingWithCopyWarning:\n",
      "\n",
      "\n",
      "A value is trying to be set on a copy of a slice from a DataFrame.\n",
      "Try using .loc[row_indexer,col_indexer] = value instead\n",
      "\n",
      "See the caveats in the documentation: https://pandas.pydata.org/pandas-docs/stable/user_guide/indexing.html#returning-a-view-versus-a-copy\n",
      "\n",
      "c:\\users\\jean-luc busch\\appdata\\local\\programs\\python\\python37\\lib\\site-packages\\ipykernel_launcher.py:18: SettingWithCopyWarning:\n",
      "\n",
      "\n",
      "A value is trying to be set on a copy of a slice from a DataFrame.\n",
      "Try using .loc[row_indexer,col_indexer] = value instead\n",
      "\n",
      "See the caveats in the documentation: https://pandas.pydata.org/pandas-docs/stable/user_guide/indexing.html#returning-a-view-versus-a-copy\n",
      "\n",
      "c:\\users\\jean-luc busch\\appdata\\local\\programs\\python\\python37\\lib\\site-packages\\ipykernel_launcher.py:22: SettingWithCopyWarning:\n",
      "\n",
      "\n",
      "A value is trying to be set on a copy of a slice from a DataFrame.\n",
      "Try using .loc[row_indexer,col_indexer] = value instead\n",
      "\n",
      "See the caveats in the documentation: https://pandas.pydata.org/pandas-docs/stable/user_guide/indexing.html#returning-a-view-versus-a-copy\n",
      "\n",
      "c:\\users\\jean-luc busch\\appdata\\local\\programs\\python\\python37\\lib\\site-packages\\ipykernel_launcher.py:26: SettingWithCopyWarning:\n",
      "\n",
      "\n",
      "A value is trying to be set on a copy of a slice from a DataFrame.\n",
      "Try using .loc[row_indexer,col_indexer] = value instead\n",
      "\n",
      "See the caveats in the documentation: https://pandas.pydata.org/pandas-docs/stable/user_guide/indexing.html#returning-a-view-versus-a-copy\n",
      "\n"
     ]
    }
   ],
   "execution_count": 128
  },
  {
   "metadata": {
    "ExecuteTime": {
     "end_time": "2024-05-15T09:05:23.074335Z",
     "start_time": "2024-05-15T09:05:22.913336Z"
    }
   },
   "cell_type": "code",
   "source": [
    "lookback_data = data.query(\"Year < @year and Year >= @year-@lookback and Week >= @kalenderwochen[0] and Week <= @kalenderwochen[1]\")\n",
    "print(lookback_data)\n",
    "\n",
    "lookback_data_grouped = lookback_data.groupby(['Year','Age']).sum().reset_index().drop(columns = ['Week','Value_Covid_total'])\n",
    "print(lookback_data_grouped)\n",
    "\n",
    "expected_value_per_age_group = lookback_data_grouped.groupby(['Age']).mean().reset_index().drop(\"Year\", axis = 1)\n",
    "#print(expected_value_per_age_group)\n",
    "\n",
    "std_expected_value_per_age_group = lookback_data_grouped.groupby(['Age']).std().reset_index().drop(\"Year\", axis = 1)\n",
    "#print(std_expected_value_per_age_group)\n",
    "\n",
    "expected_value_per_age_group[\"Std\"]=std_expected_value_per_age_group[\"Value\"]\n",
    "expected_value_per_age_group[\"Value_High\"]=expected_value_per_age_group[\"Value\"]+std_expected_value_per_age_group[\"Value\"]\n",
    "expected_value_per_age_group[\"Value_Low\"]=expected_value_per_age_group[\"Value\"]-std_expected_value_per_age_group[\"Value\"]\n",
    "expected_value_per_age_group.set_index(\"Age\", inplace = True)\n",
    "print(expected_value_per_age_group)\n"
   ],
   "id": "b31f91697208b9db",
   "outputs": [
    {
     "name": "stdout",
     "output_type": "stream",
     "text": [
      "      Year  Week    Age    Value  Value_Covid  Value_Covid_total\n",
      "785   2018     1   0-34    216.0          0.0                0.0\n",
      "786   2018     1  35-59   1602.0          0.0                0.0\n",
      "787   2018     1  60-79   6473.0          0.0                0.0\n",
      "788   2018     1    80+  11051.0          0.0                0.0\n",
      "789   2018     1    all  19342.0          0.0                0.0\n",
      "...    ...   ...    ...      ...          ...                ...\n",
      "2085  2022    52   0-34    237.0          1.0              528.0\n",
      "2086  2022    52  35-59   1631.0         18.0             7950.0\n",
      "2087  2022    52  60-79   8107.0        196.0            48369.0\n",
      "2088  2022    52    80+  17309.0        484.0           104468.0\n",
      "2089  2022    52    all  27284.0        699.0           161315.0\n",
      "\n",
      "[1300 rows x 6 columns]\n",
      "    Year    Age      Value  Value_Covid\n",
      "0   2018   0-34    10427.0          0.0\n",
      "1   2018  35-59    79344.0          0.0\n",
      "2   2018  60-79   327110.0          0.0\n",
      "3   2018    80+   535414.0          0.0\n",
      "4   2018    all   952295.0          0.0\n",
      "5   2019   0-34    10130.0          0.0\n",
      "6   2019  35-59    76218.0          0.0\n",
      "7   2019  60-79   316641.0          0.0\n",
      "8   2019    80+   533783.0          0.0\n",
      "9   2019    all   936772.0          0.0\n",
      "10  2020   0-34     9723.0         54.0\n",
      "11  2020  35-59    76349.0       1060.0\n",
      "12  2020  60-79   317527.0       8268.0\n",
      "13  2020    80+   572308.0      20207.0\n",
      "14  2020    all   975907.0      29589.0\n",
      "15  2021   0-34     9940.0        272.0\n",
      "16  2021  35-59    79354.0       4461.0\n",
      "17  2021  60-79   330439.0      24685.0\n",
      "18  2021    80+   599312.0      48398.0\n",
      "19  2021    all  1019045.0      77816.0\n",
      "20  2022   0-34    10300.0        200.0\n",
      "21  2022  35-59    76497.0       2305.0\n",
      "22  2022  60-79   335174.0      14298.0\n",
      "23  2022    80+   642254.0      32636.0\n",
      "24  2022    all  1064225.0      49439.0\n",
      "          Value  Value_Covid           Std    Value_High      Value_Low\n",
      "Age                                                                    \n",
      "0-34    10104.0        105.2    280.837141  1.038484e+04    9823.162859\n",
      "35-59   77552.4       1565.2   1643.035088  7.919544e+04   75909.364912\n",
      "60-79  325378.2       9450.2   8101.674685  3.334799e+05  317276.525315\n",
      "80+    576614.2      20248.2  45755.559774  6.223698e+05  530858.640226\n",
      "all    989648.8      31368.8  51975.584655  1.041624e+06  937673.215345\n"
     ]
    }
   ],
   "execution_count": 129
  },
  {
   "metadata": {
    "ExecuteTime": {
     "end_time": "2024-05-15T09:05:28.097038Z",
     "start_time": "2024-05-15T09:05:27.978527Z"
    }
   },
   "cell_type": "code",
   "source": [
    "lookback_data_new = data.query(\"Year < @year and Year >= @year-@lookback and Week >= @kalenderwochen[0] and Week <= @kalenderwochen[1]\")\n",
    "#print(lookback_data_new)\n",
    "\n",
    "lookback_data_young = lookback_data_new[lookback_data_new[\"Age\"]==\"all\"]\n",
    "print(lookback_data_young)\n",
    "#lookback_data_young[\"Value_Total\"] = lookback_data_young.groupby([\"Year\",\"Week\"])\n",
    "print(lookback_data_young)\n",
    "#lookback_data_young = lookback_data_new[lookback_data_new[\"Age\"]==\"0-34\"]\n",
    "#lookback_data_semi = lookback_data_new[lookback_data_new[\"Age\"]==\"35-59\"]\n",
    "#lookback_data_young = lookback_data_new[lookback_data_new[\"Age\"]==\"60-79\"]\n",
    "#lookback_data_young = lookback_data_new[lookback_data_new[\"Age\"]==\"80+\"]\n",
    "\n",
    "#lookback_data_new[\"Value_Total\"] = lookback_data_new.groupby([\"Year\",\"Week\"])['Value'].cumsum()\n",
    "#print(lookback_data_new)\n",
    "\n"
   ],
   "id": "e90665fa5ec2b4e",
   "outputs": [
    {
     "name": "stdout",
     "output_type": "stream",
     "text": [
      "      Year  Week  Age    Value  Value_Covid  Value_Covid_total\n",
      "789   2018     1  all  19342.0          0.0                0.0\n",
      "794   2018     2  all  18770.0          0.0                0.0\n",
      "799   2018     3  all  19187.0          0.0                0.0\n",
      "804   2018     4  all  19171.0          0.0                0.0\n",
      "809   2018     5  all  19558.0          0.0                0.0\n",
      "...    ...   ...  ...      ...          ...                ...\n",
      "2069  2022    48  all  22273.0        696.0           158034.0\n",
      "2074  2022    49  all  24125.0        780.0           158814.0\n",
      "2079  2022    50  all  25977.0        928.0           159742.0\n",
      "2084  2022    51  all  28682.0        874.0           160616.0\n",
      "2089  2022    52  all  27284.0        699.0           161315.0\n",
      "\n",
      "[260 rows x 6 columns]\n",
      "      Year  Week  Age    Value  Value_Covid  Value_Covid_total\n",
      "789   2018     1  all  19342.0          0.0                0.0\n",
      "794   2018     2  all  18770.0          0.0                0.0\n",
      "799   2018     3  all  19187.0          0.0                0.0\n",
      "804   2018     4  all  19171.0          0.0                0.0\n",
      "809   2018     5  all  19558.0          0.0                0.0\n",
      "...    ...   ...  ...      ...          ...                ...\n",
      "2069  2022    48  all  22273.0        696.0           158034.0\n",
      "2074  2022    49  all  24125.0        780.0           158814.0\n",
      "2079  2022    50  all  25977.0        928.0           159742.0\n",
      "2084  2022    51  all  28682.0        874.0           160616.0\n",
      "2089  2022    52  all  27284.0        699.0           161315.0\n",
      "\n",
      "[260 rows x 6 columns]\n"
     ]
    }
   ],
   "execution_count": 130
  },
  {
   "metadata": {
    "ExecuteTime": {
     "end_time": "2024-05-15T09:05:31.044169Z",
     "start_time": "2024-05-15T09:05:30.849103Z"
    }
   },
   "cell_type": "code",
   "source": [
    "import plotly.graph_objects as go\n",
    "\n",
    "fig_all = go.Figure()\n",
    "fig_all.add_trace(go.Scatter(x = data_filtered_all[\"Week\"], y = data_filtered_all[\"Value\"], name = \"all Cases per Week\", line = dict(color = 'blue', width = 1,dash = 'dot')))\n",
    "fig_all.add_trace(go.Scatter(x = data_filtered_all[\"Week\"], y = np.cumsum(data_filtered_all[\"Value\"]), name = \"all Cases Total\", line = dict(color = 'blue', width = 1)))\n",
    "\n",
    "\n",
    "\n",
    "\n",
    "\n",
    "#fig_all.add_hline(y=expected_value_per_age_group.loc[\"all\", \"Value\"], line_color = 'red', line_width = 1, name = \"Expected all Cases Total\")\n",
    "fig_all.add_trace(go.Scatter(x = data_filtered_all[\"Week\"],y = np.repeat(expected_value_per_age_group.loc[\"all\",\"Value\"],kalenderwochen[1]-kalenderwochen[0]+1), name = \"expected Value\", line = dict(color = 'red')))\n",
    "\n",
    "\n",
    "#fig_all.add_hrect(y0=expected_value_per_age_group.loc[\"all\",\"Value_Low\"],y1=expected_value_per_age_group.loc[\"all\",\"Value_High\"],fillcolor = \"red\", line_width = 0, opacity = 0.2)\n",
    "\n",
    "\n",
    "#print([expected_value_per_age_group.loc[\"all\",\"Value\"]]*52)\n",
    "#print([expected_value_per_age_group.loc[\"all\",\"Value_High\"]]*52)\n",
    "#print([expected_value_per_age_group.loc[\"all\",\"Value_Low\"]]*52)\n",
    "\n",
    "\n",
    "\n",
    "fig_all.add_trace(go.Scatter(\n",
    "    x = data_filtered_all[\"Week\"].tolist() + data_filtered_all[\"Week\"].tolist()[::-1] ,\n",
    "    y = [expected_value_per_age_group.loc[\"all\",\"Value_High\"]]* (kalenderwochen[1]-kalenderwochen[0]+1) + [expected_value_per_age_group.loc[\"all\",\"Value_Low\"]]*(kalenderwochen[1]-kalenderwochen[0]+1),\n",
    "    fill = 'toself',\n",
    "    fillcolor = \"red\",\n",
    "    line_color = \"red\",\n",
    "    name = \"Varianzbereich\",\n",
    "    opacity=0.2\n",
    "))\n",
    "\n",
    "\n",
    "\n",
    "#print(type(np.repeat(expected_value_per_age_group.loc[\"all\",\"Value_High\"],52) + np.repeat(expected_value_per_age_group.loc[\"all\",\"Value_Low\"],52)[::-1]))\n",
    "\n",
    "\n",
    "\n",
    "\n",
    "fig_all.update_layout(title = f\"Deaths  in {year} between week {kalenderwochen[0]} and week {kalenderwochen[1]}\",\n",
    "                        xaxis_title = \"Week\",\n",
    "                        yaxis_title = \"Deaths\")\n",
    "\n",
    "\n",
    "#print(happenings_filtered)\n",
    "\n",
    "if show_events:\n",
    "    for i in happenings_filtered.index:\n",
    "        #print(happenings_filtered.loc[i,\"Week\"])\n",
    "        #print(happenings_filtered.loc[i, \"Title\"])\n",
    "        fig_all.add_vline(x = happenings_filtered.loc[i,\"Week\"], line_width = 2, line_color = \"green\", line_dash = \"dash\")\n",
    "\n",
    "fig_all.show()"
   ],
   "id": "3de2f4d0e98e8972",
   "outputs": [
    {
     "data": {
      "application/vnd.plotly.v1+json": {
       "config": {
        "plotlyServerURL": "https://plot.ly"
       },
       "data": [
        {
         "line": {
          "color": "blue",
          "dash": "dot",
          "width": 1
         },
         "name": "all Cases per Week",
         "type": "scatter",
         "x": [
          1,
          2,
          3,
          4,
          5,
          6,
          7,
          8,
          9,
          10,
          11,
          12,
          13,
          14,
          15,
          16,
          17,
          18,
          19,
          20,
          21,
          22,
          23,
          24,
          25,
          26,
          27,
          28,
          29,
          30,
          31,
          32,
          33,
          34,
          35,
          36,
          37,
          38,
          39,
          40,
          41,
          42,
          43,
          44,
          45,
          46,
          47,
          48,
          49,
          50,
          51,
          52
         ],
         "y": [
          25384.0,
          22695.0,
          21215.0,
          20626.0,
          21081.0,
          20489.0,
          20978.0,
          20893.0,
          21041.0,
          21944.0,
          21806.0,
          21345.0,
          20734.0,
          19939.0,
          20116.0,
          19847.0,
          19298.0,
          19041.0,
          18877.0,
          18369.0,
          18373.0,
          17990.0,
          18380.0,
          17830.0,
          18081.0,
          17022.0,
          17136.0,
          17730.0,
          16767.0,
          16925.0,
          16857.0,
          17449.0,
          18441.0,
          18141.0,
          16727.0,
          18091.0,
          17862.0,
          17327.0,
          17607.0,
          18139.0,
          18752.0,
          19443.0,
          20215.0,
          20374.0,
          20567.0,
          20774.0,
          20975.0,
          21975.0,
          22894.0,
          22528.0,
          22890.0,
          21822.0
         ]
        },
        {
         "line": {
          "color": "blue",
          "width": 1
         },
         "name": "all Cases Total",
         "type": "scatter",
         "x": [
          1,
          2,
          3,
          4,
          5,
          6,
          7,
          8,
          9,
          10,
          11,
          12,
          13,
          14,
          15,
          16,
          17,
          18,
          19,
          20,
          21,
          22,
          23,
          24,
          25,
          26,
          27,
          28,
          29,
          30,
          31,
          32,
          33,
          34,
          35,
          36,
          37,
          38,
          39,
          40,
          41,
          42,
          43,
          44,
          45,
          46,
          47,
          48,
          49,
          50,
          51,
          52
         ],
         "y": [
          25384.0,
          48079.0,
          69294.0,
          89920.0,
          111001.0,
          131490.0,
          152468.0,
          173361.0,
          194402.0,
          216346.0,
          238152.0,
          259497.0,
          280231.0,
          300170.0,
          320286.0,
          340133.0,
          359431.0,
          378472.0,
          397349.0,
          415718.0,
          434091.0,
          452081.0,
          470461.0,
          488291.0,
          506372.0,
          523394.0,
          540530.0,
          558260.0,
          575027.0,
          591952.0,
          608809.0,
          626258.0,
          644699.0,
          662840.0,
          679567.0,
          697658.0,
          715520.0,
          732847.0,
          750454.0,
          768593.0,
          787345.0,
          806788.0,
          827003.0,
          847377.0,
          867944.0,
          888718.0,
          909693.0,
          931668.0,
          954562.0,
          977090.0,
          999980.0,
          1021802.0
         ]
        },
        {
         "line": {
          "color": "red"
         },
         "name": "expected Value",
         "type": "scatter",
         "x": [
          1,
          2,
          3,
          4,
          5,
          6,
          7,
          8,
          9,
          10,
          11,
          12,
          13,
          14,
          15,
          16,
          17,
          18,
          19,
          20,
          21,
          22,
          23,
          24,
          25,
          26,
          27,
          28,
          29,
          30,
          31,
          32,
          33,
          34,
          35,
          36,
          37,
          38,
          39,
          40,
          41,
          42,
          43,
          44,
          45,
          46,
          47,
          48,
          49,
          50,
          51,
          52
         ],
         "y": [
          989648.8,
          989648.8,
          989648.8,
          989648.8,
          989648.8,
          989648.8,
          989648.8,
          989648.8,
          989648.8,
          989648.8,
          989648.8,
          989648.8,
          989648.8,
          989648.8,
          989648.8,
          989648.8,
          989648.8,
          989648.8,
          989648.8,
          989648.8,
          989648.8,
          989648.8,
          989648.8,
          989648.8,
          989648.8,
          989648.8,
          989648.8,
          989648.8,
          989648.8,
          989648.8,
          989648.8,
          989648.8,
          989648.8,
          989648.8,
          989648.8,
          989648.8,
          989648.8,
          989648.8,
          989648.8,
          989648.8,
          989648.8,
          989648.8,
          989648.8,
          989648.8,
          989648.8,
          989648.8,
          989648.8,
          989648.8,
          989648.8,
          989648.8,
          989648.8,
          989648.8
         ]
        },
        {
         "fill": "toself",
         "fillcolor": "red",
         "line": {
          "color": "red"
         },
         "name": "Varianzbereich",
         "opacity": 0.2,
         "type": "scatter",
         "x": [
          1,
          2,
          3,
          4,
          5,
          6,
          7,
          8,
          9,
          10,
          11,
          12,
          13,
          14,
          15,
          16,
          17,
          18,
          19,
          20,
          21,
          22,
          23,
          24,
          25,
          26,
          27,
          28,
          29,
          30,
          31,
          32,
          33,
          34,
          35,
          36,
          37,
          38,
          39,
          40,
          41,
          42,
          43,
          44,
          45,
          46,
          47,
          48,
          49,
          50,
          51,
          52,
          52,
          51,
          50,
          49,
          48,
          47,
          46,
          45,
          44,
          43,
          42,
          41,
          40,
          39,
          38,
          37,
          36,
          35,
          34,
          33,
          32,
          31,
          30,
          29,
          28,
          27,
          26,
          25,
          24,
          23,
          22,
          21,
          20,
          19,
          18,
          17,
          16,
          15,
          14,
          13,
          12,
          11,
          10,
          9,
          8,
          7,
          6,
          5,
          4,
          3,
          2,
          1
         ],
         "y": [
          1041624.3846547203,
          1041624.3846547203,
          1041624.3846547203,
          1041624.3846547203,
          1041624.3846547203,
          1041624.3846547203,
          1041624.3846547203,
          1041624.3846547203,
          1041624.3846547203,
          1041624.3846547203,
          1041624.3846547203,
          1041624.3846547203,
          1041624.3846547203,
          1041624.3846547203,
          1041624.3846547203,
          1041624.3846547203,
          1041624.3846547203,
          1041624.3846547203,
          1041624.3846547203,
          1041624.3846547203,
          1041624.3846547203,
          1041624.3846547203,
          1041624.3846547203,
          1041624.3846547203,
          1041624.3846547203,
          1041624.3846547203,
          1041624.3846547203,
          1041624.3846547203,
          1041624.3846547203,
          1041624.3846547203,
          1041624.3846547203,
          1041624.3846547203,
          1041624.3846547203,
          1041624.3846547203,
          1041624.3846547203,
          1041624.3846547203,
          1041624.3846547203,
          1041624.3846547203,
          1041624.3846547203,
          1041624.3846547203,
          1041624.3846547203,
          1041624.3846547203,
          1041624.3846547203,
          1041624.3846547203,
          1041624.3846547203,
          1041624.3846547203,
          1041624.3846547203,
          1041624.3846547203,
          1041624.3846547203,
          1041624.3846547203,
          1041624.3846547203,
          1041624.3846547203,
          937673.2153452798,
          937673.2153452798,
          937673.2153452798,
          937673.2153452798,
          937673.2153452798,
          937673.2153452798,
          937673.2153452798,
          937673.2153452798,
          937673.2153452798,
          937673.2153452798,
          937673.2153452798,
          937673.2153452798,
          937673.2153452798,
          937673.2153452798,
          937673.2153452798,
          937673.2153452798,
          937673.2153452798,
          937673.2153452798,
          937673.2153452798,
          937673.2153452798,
          937673.2153452798,
          937673.2153452798,
          937673.2153452798,
          937673.2153452798,
          937673.2153452798,
          937673.2153452798,
          937673.2153452798,
          937673.2153452798,
          937673.2153452798,
          937673.2153452798,
          937673.2153452798,
          937673.2153452798,
          937673.2153452798,
          937673.2153452798,
          937673.2153452798,
          937673.2153452798,
          937673.2153452798,
          937673.2153452798,
          937673.2153452798,
          937673.2153452798,
          937673.2153452798,
          937673.2153452798,
          937673.2153452798,
          937673.2153452798,
          937673.2153452798,
          937673.2153452798,
          937673.2153452798,
          937673.2153452798,
          937673.2153452798,
          937673.2153452798,
          937673.2153452798,
          937673.2153452798
         ]
        }
       ],
       "layout": {
        "shapes": [
         {
          "line": {
           "color": "green",
           "dash": "dash",
           "width": 2
          },
          "type": "line",
          "x0": 7,
          "x1": 7,
          "xref": "x",
          "y0": 0,
          "y1": 1,
          "yref": "y domain"
         },
         {
          "line": {
           "color": "green",
           "dash": "dash",
           "width": 2
          },
          "type": "line",
          "x0": 9,
          "x1": 9,
          "xref": "x",
          "y0": 0,
          "y1": 1,
          "yref": "y domain"
         },
         {
          "line": {
           "color": "green",
           "dash": "dash",
           "width": 2
          },
          "type": "line",
          "x0": 5,
          "x1": 5,
          "xref": "x",
          "y0": 0,
          "y1": 1,
          "yref": "y domain"
         },
         {
          "line": {
           "color": "green",
           "dash": "dash",
           "width": 2
          },
          "type": "line",
          "x0": 3,
          "x1": 3,
          "xref": "x",
          "y0": 0,
          "y1": 1,
          "yref": "y domain"
         }
        ],
        "template": {
         "data": {
          "bar": [
           {
            "error_x": {
             "color": "#2a3f5f"
            },
            "error_y": {
             "color": "#2a3f5f"
            },
            "marker": {
             "line": {
              "color": "#E5ECF6",
              "width": 0.5
             }
            },
            "type": "bar"
           }
          ],
          "barpolar": [
           {
            "marker": {
             "line": {
              "color": "#E5ECF6",
              "width": 0.5
             }
            },
            "type": "barpolar"
           }
          ],
          "carpet": [
           {
            "aaxis": {
             "endlinecolor": "#2a3f5f",
             "gridcolor": "white",
             "linecolor": "white",
             "minorgridcolor": "white",
             "startlinecolor": "#2a3f5f"
            },
            "baxis": {
             "endlinecolor": "#2a3f5f",
             "gridcolor": "white",
             "linecolor": "white",
             "minorgridcolor": "white",
             "startlinecolor": "#2a3f5f"
            },
            "type": "carpet"
           }
          ],
          "choropleth": [
           {
            "colorbar": {
             "outlinewidth": 0,
             "ticks": ""
            },
            "type": "choropleth"
           }
          ],
          "contour": [
           {
            "colorbar": {
             "outlinewidth": 0,
             "ticks": ""
            },
            "colorscale": [
             [
              0.0,
              "#0d0887"
             ],
             [
              0.1111111111111111,
              "#46039f"
             ],
             [
              0.2222222222222222,
              "#7201a8"
             ],
             [
              0.3333333333333333,
              "#9c179e"
             ],
             [
              0.4444444444444444,
              "#bd3786"
             ],
             [
              0.5555555555555556,
              "#d8576b"
             ],
             [
              0.6666666666666666,
              "#ed7953"
             ],
             [
              0.7777777777777778,
              "#fb9f3a"
             ],
             [
              0.8888888888888888,
              "#fdca26"
             ],
             [
              1.0,
              "#f0f921"
             ]
            ],
            "type": "contour"
           }
          ],
          "contourcarpet": [
           {
            "colorbar": {
             "outlinewidth": 0,
             "ticks": ""
            },
            "type": "contourcarpet"
           }
          ],
          "heatmap": [
           {
            "colorbar": {
             "outlinewidth": 0,
             "ticks": ""
            },
            "colorscale": [
             [
              0.0,
              "#0d0887"
             ],
             [
              0.1111111111111111,
              "#46039f"
             ],
             [
              0.2222222222222222,
              "#7201a8"
             ],
             [
              0.3333333333333333,
              "#9c179e"
             ],
             [
              0.4444444444444444,
              "#bd3786"
             ],
             [
              0.5555555555555556,
              "#d8576b"
             ],
             [
              0.6666666666666666,
              "#ed7953"
             ],
             [
              0.7777777777777778,
              "#fb9f3a"
             ],
             [
              0.8888888888888888,
              "#fdca26"
             ],
             [
              1.0,
              "#f0f921"
             ]
            ],
            "type": "heatmap"
           }
          ],
          "heatmapgl": [
           {
            "colorbar": {
             "outlinewidth": 0,
             "ticks": ""
            },
            "colorscale": [
             [
              0.0,
              "#0d0887"
             ],
             [
              0.1111111111111111,
              "#46039f"
             ],
             [
              0.2222222222222222,
              "#7201a8"
             ],
             [
              0.3333333333333333,
              "#9c179e"
             ],
             [
              0.4444444444444444,
              "#bd3786"
             ],
             [
              0.5555555555555556,
              "#d8576b"
             ],
             [
              0.6666666666666666,
              "#ed7953"
             ],
             [
              0.7777777777777778,
              "#fb9f3a"
             ],
             [
              0.8888888888888888,
              "#fdca26"
             ],
             [
              1.0,
              "#f0f921"
             ]
            ],
            "type": "heatmapgl"
           }
          ],
          "histogram": [
           {
            "marker": {
             "colorbar": {
              "outlinewidth": 0,
              "ticks": ""
             }
            },
            "type": "histogram"
           }
          ],
          "histogram2d": [
           {
            "colorbar": {
             "outlinewidth": 0,
             "ticks": ""
            },
            "colorscale": [
             [
              0.0,
              "#0d0887"
             ],
             [
              0.1111111111111111,
              "#46039f"
             ],
             [
              0.2222222222222222,
              "#7201a8"
             ],
             [
              0.3333333333333333,
              "#9c179e"
             ],
             [
              0.4444444444444444,
              "#bd3786"
             ],
             [
              0.5555555555555556,
              "#d8576b"
             ],
             [
              0.6666666666666666,
              "#ed7953"
             ],
             [
              0.7777777777777778,
              "#fb9f3a"
             ],
             [
              0.8888888888888888,
              "#fdca26"
             ],
             [
              1.0,
              "#f0f921"
             ]
            ],
            "type": "histogram2d"
           }
          ],
          "histogram2dcontour": [
           {
            "colorbar": {
             "outlinewidth": 0,
             "ticks": ""
            },
            "colorscale": [
             [
              0.0,
              "#0d0887"
             ],
             [
              0.1111111111111111,
              "#46039f"
             ],
             [
              0.2222222222222222,
              "#7201a8"
             ],
             [
              0.3333333333333333,
              "#9c179e"
             ],
             [
              0.4444444444444444,
              "#bd3786"
             ],
             [
              0.5555555555555556,
              "#d8576b"
             ],
             [
              0.6666666666666666,
              "#ed7953"
             ],
             [
              0.7777777777777778,
              "#fb9f3a"
             ],
             [
              0.8888888888888888,
              "#fdca26"
             ],
             [
              1.0,
              "#f0f921"
             ]
            ],
            "type": "histogram2dcontour"
           }
          ],
          "mesh3d": [
           {
            "colorbar": {
             "outlinewidth": 0,
             "ticks": ""
            },
            "type": "mesh3d"
           }
          ],
          "parcoords": [
           {
            "line": {
             "colorbar": {
              "outlinewidth": 0,
              "ticks": ""
             }
            },
            "type": "parcoords"
           }
          ],
          "pie": [
           {
            "automargin": true,
            "type": "pie"
           }
          ],
          "scatter": [
           {
            "marker": {
             "colorbar": {
              "outlinewidth": 0,
              "ticks": ""
             }
            },
            "type": "scatter"
           }
          ],
          "scatter3d": [
           {
            "line": {
             "colorbar": {
              "outlinewidth": 0,
              "ticks": ""
             }
            },
            "marker": {
             "colorbar": {
              "outlinewidth": 0,
              "ticks": ""
             }
            },
            "type": "scatter3d"
           }
          ],
          "scattercarpet": [
           {
            "marker": {
             "colorbar": {
              "outlinewidth": 0,
              "ticks": ""
             }
            },
            "type": "scattercarpet"
           }
          ],
          "scattergeo": [
           {
            "marker": {
             "colorbar": {
              "outlinewidth": 0,
              "ticks": ""
             }
            },
            "type": "scattergeo"
           }
          ],
          "scattergl": [
           {
            "marker": {
             "colorbar": {
              "outlinewidth": 0,
              "ticks": ""
             }
            },
            "type": "scattergl"
           }
          ],
          "scattermapbox": [
           {
            "marker": {
             "colorbar": {
              "outlinewidth": 0,
              "ticks": ""
             }
            },
            "type": "scattermapbox"
           }
          ],
          "scatterpolar": [
           {
            "marker": {
             "colorbar": {
              "outlinewidth": 0,
              "ticks": ""
             }
            },
            "type": "scatterpolar"
           }
          ],
          "scatterpolargl": [
           {
            "marker": {
             "colorbar": {
              "outlinewidth": 0,
              "ticks": ""
             }
            },
            "type": "scatterpolargl"
           }
          ],
          "scatterternary": [
           {
            "marker": {
             "colorbar": {
              "outlinewidth": 0,
              "ticks": ""
             }
            },
            "type": "scatterternary"
           }
          ],
          "surface": [
           {
            "colorbar": {
             "outlinewidth": 0,
             "ticks": ""
            },
            "colorscale": [
             [
              0.0,
              "#0d0887"
             ],
             [
              0.1111111111111111,
              "#46039f"
             ],
             [
              0.2222222222222222,
              "#7201a8"
             ],
             [
              0.3333333333333333,
              "#9c179e"
             ],
             [
              0.4444444444444444,
              "#bd3786"
             ],
             [
              0.5555555555555556,
              "#d8576b"
             ],
             [
              0.6666666666666666,
              "#ed7953"
             ],
             [
              0.7777777777777778,
              "#fb9f3a"
             ],
             [
              0.8888888888888888,
              "#fdca26"
             ],
             [
              1.0,
              "#f0f921"
             ]
            ],
            "type": "surface"
           }
          ],
          "table": [
           {
            "cells": {
             "fill": {
              "color": "#EBF0F8"
             },
             "line": {
              "color": "white"
             }
            },
            "header": {
             "fill": {
              "color": "#C8D4E3"
             },
             "line": {
              "color": "white"
             }
            },
            "type": "table"
           }
          ]
         },
         "layout": {
          "annotationdefaults": {
           "arrowcolor": "#2a3f5f",
           "arrowhead": 0,
           "arrowwidth": 1
          },
          "autotypenumbers": "strict",
          "coloraxis": {
           "colorbar": {
            "outlinewidth": 0,
            "ticks": ""
           }
          },
          "colorscale": {
           "diverging": [
            [
             0,
             "#8e0152"
            ],
            [
             0.1,
             "#c51b7d"
            ],
            [
             0.2,
             "#de77ae"
            ],
            [
             0.3,
             "#f1b6da"
            ],
            [
             0.4,
             "#fde0ef"
            ],
            [
             0.5,
             "#f7f7f7"
            ],
            [
             0.6,
             "#e6f5d0"
            ],
            [
             0.7,
             "#b8e186"
            ],
            [
             0.8,
             "#7fbc41"
            ],
            [
             0.9,
             "#4d9221"
            ],
            [
             1,
             "#276419"
            ]
           ],
           "sequential": [
            [
             0.0,
             "#0d0887"
            ],
            [
             0.1111111111111111,
             "#46039f"
            ],
            [
             0.2222222222222222,
             "#7201a8"
            ],
            [
             0.3333333333333333,
             "#9c179e"
            ],
            [
             0.4444444444444444,
             "#bd3786"
            ],
            [
             0.5555555555555556,
             "#d8576b"
            ],
            [
             0.6666666666666666,
             "#ed7953"
            ],
            [
             0.7777777777777778,
             "#fb9f3a"
            ],
            [
             0.8888888888888888,
             "#fdca26"
            ],
            [
             1.0,
             "#f0f921"
            ]
           ],
           "sequentialminus": [
            [
             0.0,
             "#0d0887"
            ],
            [
             0.1111111111111111,
             "#46039f"
            ],
            [
             0.2222222222222222,
             "#7201a8"
            ],
            [
             0.3333333333333333,
             "#9c179e"
            ],
            [
             0.4444444444444444,
             "#bd3786"
            ],
            [
             0.5555555555555556,
             "#d8576b"
            ],
            [
             0.6666666666666666,
             "#ed7953"
            ],
            [
             0.7777777777777778,
             "#fb9f3a"
            ],
            [
             0.8888888888888888,
             "#fdca26"
            ],
            [
             1.0,
             "#f0f921"
            ]
           ]
          },
          "colorway": [
           "#636efa",
           "#EF553B",
           "#00cc96",
           "#ab63fa",
           "#FFA15A",
           "#19d3f3",
           "#FF6692",
           "#B6E880",
           "#FF97FF",
           "#FECB52"
          ],
          "font": {
           "color": "#2a3f5f"
          },
          "geo": {
           "bgcolor": "white",
           "lakecolor": "white",
           "landcolor": "#E5ECF6",
           "showlakes": true,
           "showland": true,
           "subunitcolor": "white"
          },
          "hoverlabel": {
           "align": "left"
          },
          "hovermode": "closest",
          "mapbox": {
           "style": "light"
          },
          "paper_bgcolor": "white",
          "plot_bgcolor": "#E5ECF6",
          "polar": {
           "angularaxis": {
            "gridcolor": "white",
            "linecolor": "white",
            "ticks": ""
           },
           "bgcolor": "#E5ECF6",
           "radialaxis": {
            "gridcolor": "white",
            "linecolor": "white",
            "ticks": ""
           }
          },
          "scene": {
           "xaxis": {
            "backgroundcolor": "#E5ECF6",
            "gridcolor": "white",
            "gridwidth": 2,
            "linecolor": "white",
            "showbackground": true,
            "ticks": "",
            "zerolinecolor": "white"
           },
           "yaxis": {
            "backgroundcolor": "#E5ECF6",
            "gridcolor": "white",
            "gridwidth": 2,
            "linecolor": "white",
            "showbackground": true,
            "ticks": "",
            "zerolinecolor": "white"
           },
           "zaxis": {
            "backgroundcolor": "#E5ECF6",
            "gridcolor": "white",
            "gridwidth": 2,
            "linecolor": "white",
            "showbackground": true,
            "ticks": "",
            "zerolinecolor": "white"
           }
          },
          "shapedefaults": {
           "line": {
            "color": "#2a3f5f"
           }
          },
          "ternary": {
           "aaxis": {
            "gridcolor": "white",
            "linecolor": "white",
            "ticks": ""
           },
           "baxis": {
            "gridcolor": "white",
            "linecolor": "white",
            "ticks": ""
           },
           "bgcolor": "#E5ECF6",
           "caxis": {
            "gridcolor": "white",
            "linecolor": "white",
            "ticks": ""
           }
          },
          "title": {
           "x": 0.05
          },
          "xaxis": {
           "automargin": true,
           "gridcolor": "white",
           "linecolor": "white",
           "ticks": "",
           "title": {
            "standoff": 15
           },
           "zerolinecolor": "white",
           "zerolinewidth": 2
          },
          "yaxis": {
           "automargin": true,
           "gridcolor": "white",
           "linecolor": "white",
           "ticks": "",
           "title": {
            "standoff": 15
           },
           "zerolinecolor": "white",
           "zerolinewidth": 2
          }
         }
        },
        "title": {
         "text": "Deaths  in 2023 between week 1 and week 52"
        },
        "xaxis": {
         "title": {
          "text": "Week"
         }
        },
        "yaxis": {
         "title": {
          "text": "Deaths"
         }
        }
       }
      },
      "text/html": [
       "<div>                            <div id=\"cddce2c1-b44f-4413-b343-9fdcff986275\" class=\"plotly-graph-div\" style=\"height:525px; width:100%;\"></div>            <script type=\"text/javascript\">                require([\"plotly\"], function(Plotly) {                    window.PLOTLYENV=window.PLOTLYENV || {};                                    if (document.getElementById(\"cddce2c1-b44f-4413-b343-9fdcff986275\")) {                    Plotly.newPlot(                        \"cddce2c1-b44f-4413-b343-9fdcff986275\",                        [{\"line\": {\"color\": \"blue\", \"dash\": \"dot\", \"width\": 1}, \"name\": \"all Cases per Week\", \"type\": \"scatter\", \"x\": [1, 2, 3, 4, 5, 6, 7, 8, 9, 10, 11, 12, 13, 14, 15, 16, 17, 18, 19, 20, 21, 22, 23, 24, 25, 26, 27, 28, 29, 30, 31, 32, 33, 34, 35, 36, 37, 38, 39, 40, 41, 42, 43, 44, 45, 46, 47, 48, 49, 50, 51, 52], \"y\": [25384.0, 22695.0, 21215.0, 20626.0, 21081.0, 20489.0, 20978.0, 20893.0, 21041.0, 21944.0, 21806.0, 21345.0, 20734.0, 19939.0, 20116.0, 19847.0, 19298.0, 19041.0, 18877.0, 18369.0, 18373.0, 17990.0, 18380.0, 17830.0, 18081.0, 17022.0, 17136.0, 17730.0, 16767.0, 16925.0, 16857.0, 17449.0, 18441.0, 18141.0, 16727.0, 18091.0, 17862.0, 17327.0, 17607.0, 18139.0, 18752.0, 19443.0, 20215.0, 20374.0, 20567.0, 20774.0, 20975.0, 21975.0, 22894.0, 22528.0, 22890.0, 21822.0]}, {\"line\": {\"color\": \"blue\", \"width\": 1}, \"name\": \"all Cases Total\", \"type\": \"scatter\", \"x\": [1, 2, 3, 4, 5, 6, 7, 8, 9, 10, 11, 12, 13, 14, 15, 16, 17, 18, 19, 20, 21, 22, 23, 24, 25, 26, 27, 28, 29, 30, 31, 32, 33, 34, 35, 36, 37, 38, 39, 40, 41, 42, 43, 44, 45, 46, 47, 48, 49, 50, 51, 52], \"y\": [25384.0, 48079.0, 69294.0, 89920.0, 111001.0, 131490.0, 152468.0, 173361.0, 194402.0, 216346.0, 238152.0, 259497.0, 280231.0, 300170.0, 320286.0, 340133.0, 359431.0, 378472.0, 397349.0, 415718.0, 434091.0, 452081.0, 470461.0, 488291.0, 506372.0, 523394.0, 540530.0, 558260.0, 575027.0, 591952.0, 608809.0, 626258.0, 644699.0, 662840.0, 679567.0, 697658.0, 715520.0, 732847.0, 750454.0, 768593.0, 787345.0, 806788.0, 827003.0, 847377.0, 867944.0, 888718.0, 909693.0, 931668.0, 954562.0, 977090.0, 999980.0, 1021802.0]}, {\"line\": {\"color\": \"red\"}, \"name\": \"expected Value\", \"type\": \"scatter\", \"x\": [1, 2, 3, 4, 5, 6, 7, 8, 9, 10, 11, 12, 13, 14, 15, 16, 17, 18, 19, 20, 21, 22, 23, 24, 25, 26, 27, 28, 29, 30, 31, 32, 33, 34, 35, 36, 37, 38, 39, 40, 41, 42, 43, 44, 45, 46, 47, 48, 49, 50, 51, 52], \"y\": [989648.8, 989648.8, 989648.8, 989648.8, 989648.8, 989648.8, 989648.8, 989648.8, 989648.8, 989648.8, 989648.8, 989648.8, 989648.8, 989648.8, 989648.8, 989648.8, 989648.8, 989648.8, 989648.8, 989648.8, 989648.8, 989648.8, 989648.8, 989648.8, 989648.8, 989648.8, 989648.8, 989648.8, 989648.8, 989648.8, 989648.8, 989648.8, 989648.8, 989648.8, 989648.8, 989648.8, 989648.8, 989648.8, 989648.8, 989648.8, 989648.8, 989648.8, 989648.8, 989648.8, 989648.8, 989648.8, 989648.8, 989648.8, 989648.8, 989648.8, 989648.8, 989648.8]}, {\"fill\": \"toself\", \"fillcolor\": \"red\", \"line\": {\"color\": \"red\"}, \"name\": \"Varianzbereich\", \"opacity\": 0.2, \"type\": \"scatter\", \"x\": [1, 2, 3, 4, 5, 6, 7, 8, 9, 10, 11, 12, 13, 14, 15, 16, 17, 18, 19, 20, 21, 22, 23, 24, 25, 26, 27, 28, 29, 30, 31, 32, 33, 34, 35, 36, 37, 38, 39, 40, 41, 42, 43, 44, 45, 46, 47, 48, 49, 50, 51, 52, 52, 51, 50, 49, 48, 47, 46, 45, 44, 43, 42, 41, 40, 39, 38, 37, 36, 35, 34, 33, 32, 31, 30, 29, 28, 27, 26, 25, 24, 23, 22, 21, 20, 19, 18, 17, 16, 15, 14, 13, 12, 11, 10, 9, 8, 7, 6, 5, 4, 3, 2, 1], \"y\": [1041624.3846547203, 1041624.3846547203, 1041624.3846547203, 1041624.3846547203, 1041624.3846547203, 1041624.3846547203, 1041624.3846547203, 1041624.3846547203, 1041624.3846547203, 1041624.3846547203, 1041624.3846547203, 1041624.3846547203, 1041624.3846547203, 1041624.3846547203, 1041624.3846547203, 1041624.3846547203, 1041624.3846547203, 1041624.3846547203, 1041624.3846547203, 1041624.3846547203, 1041624.3846547203, 1041624.3846547203, 1041624.3846547203, 1041624.3846547203, 1041624.3846547203, 1041624.3846547203, 1041624.3846547203, 1041624.3846547203, 1041624.3846547203, 1041624.3846547203, 1041624.3846547203, 1041624.3846547203, 1041624.3846547203, 1041624.3846547203, 1041624.3846547203, 1041624.3846547203, 1041624.3846547203, 1041624.3846547203, 1041624.3846547203, 1041624.3846547203, 1041624.3846547203, 1041624.3846547203, 1041624.3846547203, 1041624.3846547203, 1041624.3846547203, 1041624.3846547203, 1041624.3846547203, 1041624.3846547203, 1041624.3846547203, 1041624.3846547203, 1041624.3846547203, 1041624.3846547203, 937673.2153452798, 937673.2153452798, 937673.2153452798, 937673.2153452798, 937673.2153452798, 937673.2153452798, 937673.2153452798, 937673.2153452798, 937673.2153452798, 937673.2153452798, 937673.2153452798, 937673.2153452798, 937673.2153452798, 937673.2153452798, 937673.2153452798, 937673.2153452798, 937673.2153452798, 937673.2153452798, 937673.2153452798, 937673.2153452798, 937673.2153452798, 937673.2153452798, 937673.2153452798, 937673.2153452798, 937673.2153452798, 937673.2153452798, 937673.2153452798, 937673.2153452798, 937673.2153452798, 937673.2153452798, 937673.2153452798, 937673.2153452798, 937673.2153452798, 937673.2153452798, 937673.2153452798, 937673.2153452798, 937673.2153452798, 937673.2153452798, 937673.2153452798, 937673.2153452798, 937673.2153452798, 937673.2153452798, 937673.2153452798, 937673.2153452798, 937673.2153452798, 937673.2153452798, 937673.2153452798, 937673.2153452798, 937673.2153452798, 937673.2153452798, 937673.2153452798, 937673.2153452798]}],                        {\"shapes\": [{\"line\": {\"color\": \"green\", \"dash\": \"dash\", \"width\": 2}, \"type\": \"line\", \"x0\": 7, \"x1\": 7, \"xref\": \"x\", \"y0\": 0, \"y1\": 1, \"yref\": \"y domain\"}, {\"line\": {\"color\": \"green\", \"dash\": \"dash\", \"width\": 2}, \"type\": \"line\", \"x0\": 9, \"x1\": 9, \"xref\": \"x\", \"y0\": 0, \"y1\": 1, \"yref\": \"y domain\"}, {\"line\": {\"color\": \"green\", \"dash\": \"dash\", \"width\": 2}, \"type\": \"line\", \"x0\": 5, \"x1\": 5, \"xref\": \"x\", \"y0\": 0, \"y1\": 1, \"yref\": \"y domain\"}, {\"line\": {\"color\": \"green\", \"dash\": \"dash\", \"width\": 2}, \"type\": \"line\", \"x0\": 3, \"x1\": 3, \"xref\": \"x\", \"y0\": 0, \"y1\": 1, \"yref\": \"y domain\"}], \"template\": {\"data\": {\"bar\": [{\"error_x\": {\"color\": \"#2a3f5f\"}, \"error_y\": {\"color\": \"#2a3f5f\"}, \"marker\": {\"line\": {\"color\": \"#E5ECF6\", \"width\": 0.5}}, \"type\": \"bar\"}], \"barpolar\": [{\"marker\": {\"line\": {\"color\": \"#E5ECF6\", \"width\": 0.5}}, \"type\": \"barpolar\"}], \"carpet\": [{\"aaxis\": {\"endlinecolor\": \"#2a3f5f\", \"gridcolor\": \"white\", \"linecolor\": \"white\", \"minorgridcolor\": \"white\", \"startlinecolor\": \"#2a3f5f\"}, \"baxis\": {\"endlinecolor\": \"#2a3f5f\", \"gridcolor\": \"white\", \"linecolor\": \"white\", \"minorgridcolor\": \"white\", \"startlinecolor\": \"#2a3f5f\"}, \"type\": \"carpet\"}], \"choropleth\": [{\"colorbar\": {\"outlinewidth\": 0, \"ticks\": \"\"}, \"type\": \"choropleth\"}], \"contour\": [{\"colorbar\": {\"outlinewidth\": 0, \"ticks\": \"\"}, \"colorscale\": [[0.0, \"#0d0887\"], [0.1111111111111111, \"#46039f\"], [0.2222222222222222, \"#7201a8\"], [0.3333333333333333, \"#9c179e\"], [0.4444444444444444, \"#bd3786\"], [0.5555555555555556, \"#d8576b\"], [0.6666666666666666, \"#ed7953\"], [0.7777777777777778, \"#fb9f3a\"], [0.8888888888888888, \"#fdca26\"], [1.0, \"#f0f921\"]], \"type\": \"contour\"}], \"contourcarpet\": [{\"colorbar\": {\"outlinewidth\": 0, \"ticks\": \"\"}, \"type\": \"contourcarpet\"}], \"heatmap\": [{\"colorbar\": {\"outlinewidth\": 0, \"ticks\": \"\"}, \"colorscale\": [[0.0, \"#0d0887\"], [0.1111111111111111, \"#46039f\"], [0.2222222222222222, \"#7201a8\"], [0.3333333333333333, \"#9c179e\"], [0.4444444444444444, \"#bd3786\"], [0.5555555555555556, \"#d8576b\"], [0.6666666666666666, \"#ed7953\"], [0.7777777777777778, \"#fb9f3a\"], [0.8888888888888888, \"#fdca26\"], [1.0, \"#f0f921\"]], \"type\": \"heatmap\"}], \"heatmapgl\": [{\"colorbar\": {\"outlinewidth\": 0, \"ticks\": \"\"}, \"colorscale\": [[0.0, \"#0d0887\"], [0.1111111111111111, \"#46039f\"], [0.2222222222222222, \"#7201a8\"], [0.3333333333333333, \"#9c179e\"], [0.4444444444444444, \"#bd3786\"], [0.5555555555555556, \"#d8576b\"], [0.6666666666666666, \"#ed7953\"], [0.7777777777777778, \"#fb9f3a\"], [0.8888888888888888, \"#fdca26\"], [1.0, \"#f0f921\"]], \"type\": \"heatmapgl\"}], \"histogram\": [{\"marker\": {\"colorbar\": {\"outlinewidth\": 0, \"ticks\": \"\"}}, \"type\": \"histogram\"}], \"histogram2d\": [{\"colorbar\": {\"outlinewidth\": 0, \"ticks\": \"\"}, \"colorscale\": [[0.0, \"#0d0887\"], [0.1111111111111111, \"#46039f\"], [0.2222222222222222, \"#7201a8\"], [0.3333333333333333, \"#9c179e\"], [0.4444444444444444, \"#bd3786\"], [0.5555555555555556, \"#d8576b\"], [0.6666666666666666, \"#ed7953\"], [0.7777777777777778, \"#fb9f3a\"], [0.8888888888888888, \"#fdca26\"], [1.0, \"#f0f921\"]], \"type\": \"histogram2d\"}], \"histogram2dcontour\": [{\"colorbar\": {\"outlinewidth\": 0, \"ticks\": \"\"}, \"colorscale\": [[0.0, \"#0d0887\"], [0.1111111111111111, \"#46039f\"], [0.2222222222222222, \"#7201a8\"], [0.3333333333333333, \"#9c179e\"], [0.4444444444444444, \"#bd3786\"], [0.5555555555555556, \"#d8576b\"], [0.6666666666666666, \"#ed7953\"], [0.7777777777777778, \"#fb9f3a\"], [0.8888888888888888, \"#fdca26\"], [1.0, \"#f0f921\"]], \"type\": \"histogram2dcontour\"}], \"mesh3d\": [{\"colorbar\": {\"outlinewidth\": 0, \"ticks\": \"\"}, \"type\": \"mesh3d\"}], \"parcoords\": [{\"line\": {\"colorbar\": {\"outlinewidth\": 0, \"ticks\": \"\"}}, \"type\": \"parcoords\"}], \"pie\": [{\"automargin\": true, \"type\": \"pie\"}], \"scatter\": [{\"marker\": {\"colorbar\": {\"outlinewidth\": 0, \"ticks\": \"\"}}, \"type\": \"scatter\"}], \"scatter3d\": [{\"line\": {\"colorbar\": {\"outlinewidth\": 0, \"ticks\": \"\"}}, \"marker\": {\"colorbar\": {\"outlinewidth\": 0, \"ticks\": \"\"}}, \"type\": \"scatter3d\"}], \"scattercarpet\": [{\"marker\": {\"colorbar\": {\"outlinewidth\": 0, \"ticks\": \"\"}}, \"type\": \"scattercarpet\"}], \"scattergeo\": [{\"marker\": {\"colorbar\": {\"outlinewidth\": 0, \"ticks\": \"\"}}, \"type\": \"scattergeo\"}], \"scattergl\": [{\"marker\": {\"colorbar\": {\"outlinewidth\": 0, \"ticks\": \"\"}}, \"type\": \"scattergl\"}], \"scattermapbox\": [{\"marker\": {\"colorbar\": {\"outlinewidth\": 0, \"ticks\": \"\"}}, \"type\": \"scattermapbox\"}], \"scatterpolar\": [{\"marker\": {\"colorbar\": {\"outlinewidth\": 0, \"ticks\": \"\"}}, \"type\": \"scatterpolar\"}], \"scatterpolargl\": [{\"marker\": {\"colorbar\": {\"outlinewidth\": 0, \"ticks\": \"\"}}, \"type\": \"scatterpolargl\"}], \"scatterternary\": [{\"marker\": {\"colorbar\": {\"outlinewidth\": 0, \"ticks\": \"\"}}, \"type\": \"scatterternary\"}], \"surface\": [{\"colorbar\": {\"outlinewidth\": 0, \"ticks\": \"\"}, \"colorscale\": [[0.0, \"#0d0887\"], [0.1111111111111111, \"#46039f\"], [0.2222222222222222, \"#7201a8\"], [0.3333333333333333, \"#9c179e\"], [0.4444444444444444, \"#bd3786\"], [0.5555555555555556, \"#d8576b\"], [0.6666666666666666, \"#ed7953\"], [0.7777777777777778, \"#fb9f3a\"], [0.8888888888888888, \"#fdca26\"], [1.0, \"#f0f921\"]], \"type\": \"surface\"}], \"table\": [{\"cells\": {\"fill\": {\"color\": \"#EBF0F8\"}, \"line\": {\"color\": \"white\"}}, \"header\": {\"fill\": {\"color\": \"#C8D4E3\"}, \"line\": {\"color\": \"white\"}}, \"type\": \"table\"}]}, \"layout\": {\"annotationdefaults\": {\"arrowcolor\": \"#2a3f5f\", \"arrowhead\": 0, \"arrowwidth\": 1}, \"autotypenumbers\": \"strict\", \"coloraxis\": {\"colorbar\": {\"outlinewidth\": 0, \"ticks\": \"\"}}, \"colorscale\": {\"diverging\": [[0, \"#8e0152\"], [0.1, \"#c51b7d\"], [0.2, \"#de77ae\"], [0.3, \"#f1b6da\"], [0.4, \"#fde0ef\"], [0.5, \"#f7f7f7\"], [0.6, \"#e6f5d0\"], [0.7, \"#b8e186\"], [0.8, \"#7fbc41\"], [0.9, \"#4d9221\"], [1, \"#276419\"]], \"sequential\": [[0.0, \"#0d0887\"], [0.1111111111111111, \"#46039f\"], [0.2222222222222222, \"#7201a8\"], [0.3333333333333333, \"#9c179e\"], [0.4444444444444444, \"#bd3786\"], [0.5555555555555556, \"#d8576b\"], [0.6666666666666666, \"#ed7953\"], [0.7777777777777778, \"#fb9f3a\"], [0.8888888888888888, \"#fdca26\"], [1.0, \"#f0f921\"]], \"sequentialminus\": [[0.0, \"#0d0887\"], [0.1111111111111111, \"#46039f\"], [0.2222222222222222, \"#7201a8\"], [0.3333333333333333, \"#9c179e\"], [0.4444444444444444, \"#bd3786\"], [0.5555555555555556, \"#d8576b\"], [0.6666666666666666, \"#ed7953\"], [0.7777777777777778, \"#fb9f3a\"], [0.8888888888888888, \"#fdca26\"], [1.0, \"#f0f921\"]]}, \"colorway\": [\"#636efa\", \"#EF553B\", \"#00cc96\", \"#ab63fa\", \"#FFA15A\", \"#19d3f3\", \"#FF6692\", \"#B6E880\", \"#FF97FF\", \"#FECB52\"], \"font\": {\"color\": \"#2a3f5f\"}, \"geo\": {\"bgcolor\": \"white\", \"lakecolor\": \"white\", \"landcolor\": \"#E5ECF6\", \"showlakes\": true, \"showland\": true, \"subunitcolor\": \"white\"}, \"hoverlabel\": {\"align\": \"left\"}, \"hovermode\": \"closest\", \"mapbox\": {\"style\": \"light\"}, \"paper_bgcolor\": \"white\", \"plot_bgcolor\": \"#E5ECF6\", \"polar\": {\"angularaxis\": {\"gridcolor\": \"white\", \"linecolor\": \"white\", \"ticks\": \"\"}, \"bgcolor\": \"#E5ECF6\", \"radialaxis\": {\"gridcolor\": \"white\", \"linecolor\": \"white\", \"ticks\": \"\"}}, \"scene\": {\"xaxis\": {\"backgroundcolor\": \"#E5ECF6\", \"gridcolor\": \"white\", \"gridwidth\": 2, \"linecolor\": \"white\", \"showbackground\": true, \"ticks\": \"\", \"zerolinecolor\": \"white\"}, \"yaxis\": {\"backgroundcolor\": \"#E5ECF6\", \"gridcolor\": \"white\", \"gridwidth\": 2, \"linecolor\": \"white\", \"showbackground\": true, \"ticks\": \"\", \"zerolinecolor\": \"white\"}, \"zaxis\": {\"backgroundcolor\": \"#E5ECF6\", \"gridcolor\": \"white\", \"gridwidth\": 2, \"linecolor\": \"white\", \"showbackground\": true, \"ticks\": \"\", \"zerolinecolor\": \"white\"}}, \"shapedefaults\": {\"line\": {\"color\": \"#2a3f5f\"}}, \"ternary\": {\"aaxis\": {\"gridcolor\": \"white\", \"linecolor\": \"white\", \"ticks\": \"\"}, \"baxis\": {\"gridcolor\": \"white\", \"linecolor\": \"white\", \"ticks\": \"\"}, \"bgcolor\": \"#E5ECF6\", \"caxis\": {\"gridcolor\": \"white\", \"linecolor\": \"white\", \"ticks\": \"\"}}, \"title\": {\"x\": 0.05}, \"xaxis\": {\"automargin\": true, \"gridcolor\": \"white\", \"linecolor\": \"white\", \"ticks\": \"\", \"title\": {\"standoff\": 15}, \"zerolinecolor\": \"white\", \"zerolinewidth\": 2}, \"yaxis\": {\"automargin\": true, \"gridcolor\": \"white\", \"linecolor\": \"white\", \"ticks\": \"\", \"title\": {\"standoff\": 15}, \"zerolinecolor\": \"white\", \"zerolinewidth\": 2}}}, \"title\": {\"text\": \"Deaths  in 2023 between week 1 and week 52\"}, \"xaxis\": {\"title\": {\"text\": \"Week\"}}, \"yaxis\": {\"title\": {\"text\": \"Deaths\"}}},                        {\"responsive\": true}                    ).then(function(){\n",
       "                            \n",
       "var gd = document.getElementById('cddce2c1-b44f-4413-b343-9fdcff986275');\n",
       "var x = new MutationObserver(function (mutations, observer) {{\n",
       "        var display = window.getComputedStyle(gd).display;\n",
       "        if (!display || display === 'none') {{\n",
       "            console.log([gd, 'removed!']);\n",
       "            Plotly.purge(gd);\n",
       "            observer.disconnect();\n",
       "        }}\n",
       "}});\n",
       "\n",
       "// Listen for the removal of the full notebook cells\n",
       "var notebookContainer = gd.closest('#notebook-container');\n",
       "if (notebookContainer) {{\n",
       "    x.observe(notebookContainer, {childList: true});\n",
       "}}\n",
       "\n",
       "// Listen for the clearing of the current output cell\n",
       "var outputEl = gd.closest('.output');\n",
       "if (outputEl) {{\n",
       "    x.observe(outputEl, {childList: true});\n",
       "}}\n",
       "\n",
       "                        })                };                });            </script>        </div>"
      ]
     },
     "metadata": {},
     "output_type": "display_data"
    }
   ],
   "execution_count": 131
  },
  {
   "metadata": {
    "ExecuteTime": {
     "end_time": "2024-05-15T08:23:17.034409Z",
     "start_time": "2024-05-15T08:23:16.868411Z"
    }
   },
   "cell_type": "code",
   "source": [
    "\n",
    "\n",
    "#print(data_filtered_young[\"Value\"])\n",
    "#print(np.cumsum(data_filtered_young[\"Value\"]))\n",
    "\n",
    "fig_young = go.Figure()\n",
    "fig_young.add_trace(go.Scatter(x = data_filtered_young[\"Week\"], y = data_filtered_young[\"Value\"], name = \"Young Cases per Week\", line = dict(color = 'blue', width = 1,dash = 'dot')))\n",
    "fig_young.add_trace(go.Scatter(x = data_filtered_young[\"Week\"], y = np.cumsum(data_filtered_young[\"Value\"]), name = \"Young Cases Total\", line = dict(color = 'blue', width = 1)))\n",
    "\n",
    "\n",
    "\n",
    "#fig_young.add_hline(y=expected_value_per_age_group.loc[\"0-34\", \"Value\"], line_color = 'red', line_width = 1, name = \"Expected Young Cases Total\")\n",
    "fig_young.add_trace(go.Scatter(x = data_filtered_all[\"Week\"],y = np.repeat(expected_value_per_age_group.loc[\"0-34\",\"Value\"],kalenderwochen[1]-kalenderwochen[0]+1), name = \"expected Value\", line = dict(color = 'red')))\n",
    "\n",
    "#fig_young.add_hrect(y0=expected_value_per_age_group.loc[\"0-34\",\"Value_Low\"],y1=expected_value_per_age_group.loc[\"0-34\",\"Value_High\"],fillcolor = \"red\", line_width = 0, opacity = 0.2)\n",
    "fig_young.add_trace(go.Scatter(\n",
    "    x = data_filtered_all[\"Week\"].tolist() + data_filtered_all[\"Week\"].tolist()[::-1] ,\n",
    "    y = [expected_value_per_age_group.loc[\"0-34\",\"Value_Low\"]]*(kalenderwochen[1]-kalenderwochen[0]+1) + [expected_value_per_age_group.loc[\"0-34\",\"Value_High\"]]*(kalenderwochen[1]-kalenderwochen[0]+1),\n",
    "    fill = 'toself',\n",
    "    fillcolor = \"red\",\n",
    "    line_color = \"red\",\n",
    "    name = \"Varianzbereich\",\n",
    "    opacity=0.2\n",
    "))\n",
    "\n",
    "\n",
    "fig_young.update_layout(title = f\"Deaths  in {year} between week {kalenderwochen[0]} and week {kalenderwochen[1]}\",\n",
    "                        xaxis_title = \"Week\",\n",
    "                        yaxis_title = \"Deaths\")\n",
    "\n",
    "if show_events:\n",
    "    for i in happenings_filtered.index:\n",
    "        #print(happenings_filtered.loc[i,\"Week\"])\n",
    "        #print(happenings_filtered.loc[i, \"Title\"])\n",
    "        fig_young.add_vline(x = happenings_filtered.loc[i,\"Week\"], line_width = 2, line_color = \"green\", line_dash = \"dash\")\n",
    "\n",
    "fig_young.show()\n",
    "\n",
    "#fig_total = go.Figure()\n",
    "#fig_total.add_trace(go.Scatter())"
   ],
   "id": "c87f4b402e1f3fb9",
   "outputs": [
    {
     "data": {
      "application/vnd.plotly.v1+json": {
       "config": {
        "plotlyServerURL": "https://plot.ly"
       },
       "data": [
        {
         "line": {
          "color": "blue",
          "dash": "dot",
          "width": 1
         },
         "name": "Young Cases per Week",
         "type": "scatter",
         "x": [
          1,
          2,
          3,
          4,
          5,
          6,
          7,
          8,
          9,
          10,
          11,
          12,
          13,
          14,
          15,
          16,
          17,
          18,
          19,
          20,
          21,
          22,
          23,
          24,
          25,
          26,
          27,
          28,
          29,
          30,
          31,
          32,
          33,
          34,
          35,
          36,
          37,
          38,
          39,
          40,
          41,
          42,
          43,
          44,
          45,
          46,
          47,
          48,
          49,
          50,
          51,
          52
         ],
         "y": [
          157.0,
          172.0,
          180.0,
          199.0,
          194.0,
          152.0,
          150.0,
          181.0,
          194.0,
          175.0,
          199.0,
          159.0,
          188.0,
          173.0,
          195.0,
          207.0,
          173.0,
          200.0,
          173.0,
          205.0,
          193.0,
          203.0,
          186.0,
          208.0,
          218.0,
          196.0,
          202.0,
          202.0,
          200.0,
          190.0,
          193.0,
          195.0,
          198.0,
          180.0,
          192.0,
          219.0,
          205.0,
          203.0,
          187.0,
          193.0,
          179.0,
          218.0,
          216.0,
          186.0,
          179.0,
          212.0,
          195.0,
          215.0,
          183.0,
          194.0,
          193.0,
          181.0
         ]
        },
        {
         "line": {
          "color": "blue",
          "width": 1
         },
         "name": "Young Cases Total",
         "type": "scatter",
         "x": [
          1,
          2,
          3,
          4,
          5,
          6,
          7,
          8,
          9,
          10,
          11,
          12,
          13,
          14,
          15,
          16,
          17,
          18,
          19,
          20,
          21,
          22,
          23,
          24,
          25,
          26,
          27,
          28,
          29,
          30,
          31,
          32,
          33,
          34,
          35,
          36,
          37,
          38,
          39,
          40,
          41,
          42,
          43,
          44,
          45,
          46,
          47,
          48,
          49,
          50,
          51,
          52
         ],
         "y": [
          157.0,
          329.0,
          509.0,
          708.0,
          902.0,
          1054.0,
          1204.0,
          1385.0,
          1579.0,
          1754.0,
          1953.0,
          2112.0,
          2300.0,
          2473.0,
          2668.0,
          2875.0,
          3048.0,
          3248.0,
          3421.0,
          3626.0,
          3819.0,
          4022.0,
          4208.0,
          4416.0,
          4634.0,
          4830.0,
          5032.0,
          5234.0,
          5434.0,
          5624.0,
          5817.0,
          6012.0,
          6210.0,
          6390.0,
          6582.0,
          6801.0,
          7006.0,
          7209.0,
          7396.0,
          7589.0,
          7768.0,
          7986.0,
          8202.0,
          8388.0,
          8567.0,
          8779.0,
          8974.0,
          9189.0,
          9372.0,
          9566.0,
          9759.0,
          9940.0
         ]
        },
        {
         "line": {
          "color": "red"
         },
         "name": "expected Value",
         "type": "scatter",
         "x": [
          1,
          2,
          3,
          4,
          5,
          6,
          7,
          8,
          9,
          10,
          11,
          12,
          13,
          14,
          15,
          16,
          17,
          18,
          19,
          20,
          21,
          22,
          23,
          24,
          25,
          26,
          27,
          28,
          29,
          30,
          31,
          32,
          33,
          34,
          35,
          36,
          37,
          38,
          39,
          40,
          41,
          42,
          43,
          44,
          45,
          46,
          47,
          48,
          49,
          50,
          51,
          52
         ],
         "y": [
          10295.0,
          10295.0,
          10295.0,
          10295.0,
          10295.0,
          10295.0,
          10295.0,
          10295.0,
          10295.0,
          10295.0,
          10295.0,
          10295.0,
          10295.0,
          10295.0,
          10295.0,
          10295.0,
          10295.0,
          10295.0,
          10295.0,
          10295.0,
          10295.0,
          10295.0,
          10295.0,
          10295.0,
          10295.0,
          10295.0,
          10295.0,
          10295.0,
          10295.0,
          10295.0,
          10295.0,
          10295.0,
          10295.0,
          10295.0,
          10295.0,
          10295.0,
          10295.0,
          10295.0,
          10295.0,
          10295.0,
          10295.0,
          10295.0,
          10295.0,
          10295.0,
          10295.0,
          10295.0,
          10295.0,
          10295.0,
          10295.0,
          10295.0,
          10295.0,
          10295.0
         ]
        },
        {
         "fill": "toself",
         "fillcolor": "red",
         "line": {
          "color": "red"
         },
         "name": "Varianzbereich",
         "opacity": 0.2,
         "type": "scatter",
         "x": [
          1,
          2,
          3,
          4,
          5,
          6,
          7,
          8,
          9,
          10,
          11,
          12,
          13,
          14,
          15,
          16,
          17,
          18,
          19,
          20,
          21,
          22,
          23,
          24,
          25,
          26,
          27,
          28,
          29,
          30,
          31,
          32,
          33,
          34,
          35,
          36,
          37,
          38,
          39,
          40,
          41,
          42,
          43,
          44,
          45,
          46,
          47,
          48,
          49,
          50,
          51,
          52,
          52,
          51,
          50,
          49,
          48,
          47,
          46,
          45,
          44,
          43,
          42,
          41,
          40,
          39,
          38,
          37,
          36,
          35,
          34,
          33,
          32,
          31,
          30,
          29,
          28,
          27,
          26,
          25,
          24,
          23,
          22,
          21,
          20,
          19,
          18,
          17,
          16,
          15,
          14,
          13,
          12,
          11,
          10,
          9,
          8,
          7,
          6,
          5,
          4,
          3,
          2,
          1
         ],
         "y": [
          9898.222354460335,
          9898.222354460335,
          9898.222354460335,
          9898.222354460335,
          9898.222354460335,
          9898.222354460335,
          9898.222354460335,
          9898.222354460335,
          9898.222354460335,
          9898.222354460335,
          9898.222354460335,
          9898.222354460335,
          9898.222354460335,
          9898.222354460335,
          9898.222354460335,
          9898.222354460335,
          9898.222354460335,
          9898.222354460335,
          9898.222354460335,
          9898.222354460335,
          9898.222354460335,
          9898.222354460335,
          9898.222354460335,
          9898.222354460335,
          9898.222354460335,
          9898.222354460335,
          9898.222354460335,
          9898.222354460335,
          9898.222354460335,
          9898.222354460335,
          9898.222354460335,
          9898.222354460335,
          9898.222354460335,
          9898.222354460335,
          9898.222354460335,
          9898.222354460335,
          9898.222354460335,
          9898.222354460335,
          9898.222354460335,
          9898.222354460335,
          9898.222354460335,
          9898.222354460335,
          9898.222354460335,
          9898.222354460335,
          9898.222354460335,
          9898.222354460335,
          9898.222354460335,
          9898.222354460335,
          9898.222354460335,
          9898.222354460335,
          9898.222354460335,
          9898.222354460335,
          10691.777645539665,
          10691.777645539665,
          10691.777645539665,
          10691.777645539665,
          10691.777645539665,
          10691.777645539665,
          10691.777645539665,
          10691.777645539665,
          10691.777645539665,
          10691.777645539665,
          10691.777645539665,
          10691.777645539665,
          10691.777645539665,
          10691.777645539665,
          10691.777645539665,
          10691.777645539665,
          10691.777645539665,
          10691.777645539665,
          10691.777645539665,
          10691.777645539665,
          10691.777645539665,
          10691.777645539665,
          10691.777645539665,
          10691.777645539665,
          10691.777645539665,
          10691.777645539665,
          10691.777645539665,
          10691.777645539665,
          10691.777645539665,
          10691.777645539665,
          10691.777645539665,
          10691.777645539665,
          10691.777645539665,
          10691.777645539665,
          10691.777645539665,
          10691.777645539665,
          10691.777645539665,
          10691.777645539665,
          10691.777645539665,
          10691.777645539665,
          10691.777645539665,
          10691.777645539665,
          10691.777645539665,
          10691.777645539665,
          10691.777645539665,
          10691.777645539665,
          10691.777645539665,
          10691.777645539665,
          10691.777645539665,
          10691.777645539665,
          10691.777645539665,
          10691.777645539665
         ]
        }
       ],
       "layout": {
        "template": {
         "data": {
          "bar": [
           {
            "error_x": {
             "color": "#2a3f5f"
            },
            "error_y": {
             "color": "#2a3f5f"
            },
            "marker": {
             "line": {
              "color": "#E5ECF6",
              "width": 0.5
             }
            },
            "type": "bar"
           }
          ],
          "barpolar": [
           {
            "marker": {
             "line": {
              "color": "#E5ECF6",
              "width": 0.5
             }
            },
            "type": "barpolar"
           }
          ],
          "carpet": [
           {
            "aaxis": {
             "endlinecolor": "#2a3f5f",
             "gridcolor": "white",
             "linecolor": "white",
             "minorgridcolor": "white",
             "startlinecolor": "#2a3f5f"
            },
            "baxis": {
             "endlinecolor": "#2a3f5f",
             "gridcolor": "white",
             "linecolor": "white",
             "minorgridcolor": "white",
             "startlinecolor": "#2a3f5f"
            },
            "type": "carpet"
           }
          ],
          "choropleth": [
           {
            "colorbar": {
             "outlinewidth": 0,
             "ticks": ""
            },
            "type": "choropleth"
           }
          ],
          "contour": [
           {
            "colorbar": {
             "outlinewidth": 0,
             "ticks": ""
            },
            "colorscale": [
             [
              0.0,
              "#0d0887"
             ],
             [
              0.1111111111111111,
              "#46039f"
             ],
             [
              0.2222222222222222,
              "#7201a8"
             ],
             [
              0.3333333333333333,
              "#9c179e"
             ],
             [
              0.4444444444444444,
              "#bd3786"
             ],
             [
              0.5555555555555556,
              "#d8576b"
             ],
             [
              0.6666666666666666,
              "#ed7953"
             ],
             [
              0.7777777777777778,
              "#fb9f3a"
             ],
             [
              0.8888888888888888,
              "#fdca26"
             ],
             [
              1.0,
              "#f0f921"
             ]
            ],
            "type": "contour"
           }
          ],
          "contourcarpet": [
           {
            "colorbar": {
             "outlinewidth": 0,
             "ticks": ""
            },
            "type": "contourcarpet"
           }
          ],
          "heatmap": [
           {
            "colorbar": {
             "outlinewidth": 0,
             "ticks": ""
            },
            "colorscale": [
             [
              0.0,
              "#0d0887"
             ],
             [
              0.1111111111111111,
              "#46039f"
             ],
             [
              0.2222222222222222,
              "#7201a8"
             ],
             [
              0.3333333333333333,
              "#9c179e"
             ],
             [
              0.4444444444444444,
              "#bd3786"
             ],
             [
              0.5555555555555556,
              "#d8576b"
             ],
             [
              0.6666666666666666,
              "#ed7953"
             ],
             [
              0.7777777777777778,
              "#fb9f3a"
             ],
             [
              0.8888888888888888,
              "#fdca26"
             ],
             [
              1.0,
              "#f0f921"
             ]
            ],
            "type": "heatmap"
           }
          ],
          "heatmapgl": [
           {
            "colorbar": {
             "outlinewidth": 0,
             "ticks": ""
            },
            "colorscale": [
             [
              0.0,
              "#0d0887"
             ],
             [
              0.1111111111111111,
              "#46039f"
             ],
             [
              0.2222222222222222,
              "#7201a8"
             ],
             [
              0.3333333333333333,
              "#9c179e"
             ],
             [
              0.4444444444444444,
              "#bd3786"
             ],
             [
              0.5555555555555556,
              "#d8576b"
             ],
             [
              0.6666666666666666,
              "#ed7953"
             ],
             [
              0.7777777777777778,
              "#fb9f3a"
             ],
             [
              0.8888888888888888,
              "#fdca26"
             ],
             [
              1.0,
              "#f0f921"
             ]
            ],
            "type": "heatmapgl"
           }
          ],
          "histogram": [
           {
            "marker": {
             "colorbar": {
              "outlinewidth": 0,
              "ticks": ""
             }
            },
            "type": "histogram"
           }
          ],
          "histogram2d": [
           {
            "colorbar": {
             "outlinewidth": 0,
             "ticks": ""
            },
            "colorscale": [
             [
              0.0,
              "#0d0887"
             ],
             [
              0.1111111111111111,
              "#46039f"
             ],
             [
              0.2222222222222222,
              "#7201a8"
             ],
             [
              0.3333333333333333,
              "#9c179e"
             ],
             [
              0.4444444444444444,
              "#bd3786"
             ],
             [
              0.5555555555555556,
              "#d8576b"
             ],
             [
              0.6666666666666666,
              "#ed7953"
             ],
             [
              0.7777777777777778,
              "#fb9f3a"
             ],
             [
              0.8888888888888888,
              "#fdca26"
             ],
             [
              1.0,
              "#f0f921"
             ]
            ],
            "type": "histogram2d"
           }
          ],
          "histogram2dcontour": [
           {
            "colorbar": {
             "outlinewidth": 0,
             "ticks": ""
            },
            "colorscale": [
             [
              0.0,
              "#0d0887"
             ],
             [
              0.1111111111111111,
              "#46039f"
             ],
             [
              0.2222222222222222,
              "#7201a8"
             ],
             [
              0.3333333333333333,
              "#9c179e"
             ],
             [
              0.4444444444444444,
              "#bd3786"
             ],
             [
              0.5555555555555556,
              "#d8576b"
             ],
             [
              0.6666666666666666,
              "#ed7953"
             ],
             [
              0.7777777777777778,
              "#fb9f3a"
             ],
             [
              0.8888888888888888,
              "#fdca26"
             ],
             [
              1.0,
              "#f0f921"
             ]
            ],
            "type": "histogram2dcontour"
           }
          ],
          "mesh3d": [
           {
            "colorbar": {
             "outlinewidth": 0,
             "ticks": ""
            },
            "type": "mesh3d"
           }
          ],
          "parcoords": [
           {
            "line": {
             "colorbar": {
              "outlinewidth": 0,
              "ticks": ""
             }
            },
            "type": "parcoords"
           }
          ],
          "pie": [
           {
            "automargin": true,
            "type": "pie"
           }
          ],
          "scatter": [
           {
            "marker": {
             "colorbar": {
              "outlinewidth": 0,
              "ticks": ""
             }
            },
            "type": "scatter"
           }
          ],
          "scatter3d": [
           {
            "line": {
             "colorbar": {
              "outlinewidth": 0,
              "ticks": ""
             }
            },
            "marker": {
             "colorbar": {
              "outlinewidth": 0,
              "ticks": ""
             }
            },
            "type": "scatter3d"
           }
          ],
          "scattercarpet": [
           {
            "marker": {
             "colorbar": {
              "outlinewidth": 0,
              "ticks": ""
             }
            },
            "type": "scattercarpet"
           }
          ],
          "scattergeo": [
           {
            "marker": {
             "colorbar": {
              "outlinewidth": 0,
              "ticks": ""
             }
            },
            "type": "scattergeo"
           }
          ],
          "scattergl": [
           {
            "marker": {
             "colorbar": {
              "outlinewidth": 0,
              "ticks": ""
             }
            },
            "type": "scattergl"
           }
          ],
          "scattermapbox": [
           {
            "marker": {
             "colorbar": {
              "outlinewidth": 0,
              "ticks": ""
             }
            },
            "type": "scattermapbox"
           }
          ],
          "scatterpolar": [
           {
            "marker": {
             "colorbar": {
              "outlinewidth": 0,
              "ticks": ""
             }
            },
            "type": "scatterpolar"
           }
          ],
          "scatterpolargl": [
           {
            "marker": {
             "colorbar": {
              "outlinewidth": 0,
              "ticks": ""
             }
            },
            "type": "scatterpolargl"
           }
          ],
          "scatterternary": [
           {
            "marker": {
             "colorbar": {
              "outlinewidth": 0,
              "ticks": ""
             }
            },
            "type": "scatterternary"
           }
          ],
          "surface": [
           {
            "colorbar": {
             "outlinewidth": 0,
             "ticks": ""
            },
            "colorscale": [
             [
              0.0,
              "#0d0887"
             ],
             [
              0.1111111111111111,
              "#46039f"
             ],
             [
              0.2222222222222222,
              "#7201a8"
             ],
             [
              0.3333333333333333,
              "#9c179e"
             ],
             [
              0.4444444444444444,
              "#bd3786"
             ],
             [
              0.5555555555555556,
              "#d8576b"
             ],
             [
              0.6666666666666666,
              "#ed7953"
             ],
             [
              0.7777777777777778,
              "#fb9f3a"
             ],
             [
              0.8888888888888888,
              "#fdca26"
             ],
             [
              1.0,
              "#f0f921"
             ]
            ],
            "type": "surface"
           }
          ],
          "table": [
           {
            "cells": {
             "fill": {
              "color": "#EBF0F8"
             },
             "line": {
              "color": "white"
             }
            },
            "header": {
             "fill": {
              "color": "#C8D4E3"
             },
             "line": {
              "color": "white"
             }
            },
            "type": "table"
           }
          ]
         },
         "layout": {
          "annotationdefaults": {
           "arrowcolor": "#2a3f5f",
           "arrowhead": 0,
           "arrowwidth": 1
          },
          "autotypenumbers": "strict",
          "coloraxis": {
           "colorbar": {
            "outlinewidth": 0,
            "ticks": ""
           }
          },
          "colorscale": {
           "diverging": [
            [
             0,
             "#8e0152"
            ],
            [
             0.1,
             "#c51b7d"
            ],
            [
             0.2,
             "#de77ae"
            ],
            [
             0.3,
             "#f1b6da"
            ],
            [
             0.4,
             "#fde0ef"
            ],
            [
             0.5,
             "#f7f7f7"
            ],
            [
             0.6,
             "#e6f5d0"
            ],
            [
             0.7,
             "#b8e186"
            ],
            [
             0.8,
             "#7fbc41"
            ],
            [
             0.9,
             "#4d9221"
            ],
            [
             1,
             "#276419"
            ]
           ],
           "sequential": [
            [
             0.0,
             "#0d0887"
            ],
            [
             0.1111111111111111,
             "#46039f"
            ],
            [
             0.2222222222222222,
             "#7201a8"
            ],
            [
             0.3333333333333333,
             "#9c179e"
            ],
            [
             0.4444444444444444,
             "#bd3786"
            ],
            [
             0.5555555555555556,
             "#d8576b"
            ],
            [
             0.6666666666666666,
             "#ed7953"
            ],
            [
             0.7777777777777778,
             "#fb9f3a"
            ],
            [
             0.8888888888888888,
             "#fdca26"
            ],
            [
             1.0,
             "#f0f921"
            ]
           ],
           "sequentialminus": [
            [
             0.0,
             "#0d0887"
            ],
            [
             0.1111111111111111,
             "#46039f"
            ],
            [
             0.2222222222222222,
             "#7201a8"
            ],
            [
             0.3333333333333333,
             "#9c179e"
            ],
            [
             0.4444444444444444,
             "#bd3786"
            ],
            [
             0.5555555555555556,
             "#d8576b"
            ],
            [
             0.6666666666666666,
             "#ed7953"
            ],
            [
             0.7777777777777778,
             "#fb9f3a"
            ],
            [
             0.8888888888888888,
             "#fdca26"
            ],
            [
             1.0,
             "#f0f921"
            ]
           ]
          },
          "colorway": [
           "#636efa",
           "#EF553B",
           "#00cc96",
           "#ab63fa",
           "#FFA15A",
           "#19d3f3",
           "#FF6692",
           "#B6E880",
           "#FF97FF",
           "#FECB52"
          ],
          "font": {
           "color": "#2a3f5f"
          },
          "geo": {
           "bgcolor": "white",
           "lakecolor": "white",
           "landcolor": "#E5ECF6",
           "showlakes": true,
           "showland": true,
           "subunitcolor": "white"
          },
          "hoverlabel": {
           "align": "left"
          },
          "hovermode": "closest",
          "mapbox": {
           "style": "light"
          },
          "paper_bgcolor": "white",
          "plot_bgcolor": "#E5ECF6",
          "polar": {
           "angularaxis": {
            "gridcolor": "white",
            "linecolor": "white",
            "ticks": ""
           },
           "bgcolor": "#E5ECF6",
           "radialaxis": {
            "gridcolor": "white",
            "linecolor": "white",
            "ticks": ""
           }
          },
          "scene": {
           "xaxis": {
            "backgroundcolor": "#E5ECF6",
            "gridcolor": "white",
            "gridwidth": 2,
            "linecolor": "white",
            "showbackground": true,
            "ticks": "",
            "zerolinecolor": "white"
           },
           "yaxis": {
            "backgroundcolor": "#E5ECF6",
            "gridcolor": "white",
            "gridwidth": 2,
            "linecolor": "white",
            "showbackground": true,
            "ticks": "",
            "zerolinecolor": "white"
           },
           "zaxis": {
            "backgroundcolor": "#E5ECF6",
            "gridcolor": "white",
            "gridwidth": 2,
            "linecolor": "white",
            "showbackground": true,
            "ticks": "",
            "zerolinecolor": "white"
           }
          },
          "shapedefaults": {
           "line": {
            "color": "#2a3f5f"
           }
          },
          "ternary": {
           "aaxis": {
            "gridcolor": "white",
            "linecolor": "white",
            "ticks": ""
           },
           "baxis": {
            "gridcolor": "white",
            "linecolor": "white",
            "ticks": ""
           },
           "bgcolor": "#E5ECF6",
           "caxis": {
            "gridcolor": "white",
            "linecolor": "white",
            "ticks": ""
           }
          },
          "title": {
           "x": 0.05
          },
          "xaxis": {
           "automargin": true,
           "gridcolor": "white",
           "linecolor": "white",
           "ticks": "",
           "title": {
            "standoff": 15
           },
           "zerolinecolor": "white",
           "zerolinewidth": 2
          },
          "yaxis": {
           "automargin": true,
           "gridcolor": "white",
           "linecolor": "white",
           "ticks": "",
           "title": {
            "standoff": 15
           },
           "zerolinecolor": "white",
           "zerolinewidth": 2
          }
         }
        },
        "title": {
         "text": "Deaths  in 2021 between week 1 and week 52"
        },
        "xaxis": {
         "title": {
          "text": "Week"
         }
        },
        "yaxis": {
         "title": {
          "text": "Deaths"
         }
        }
       }
      },
      "text/html": [
       "<div>                            <div id=\"bbafa9c7-8505-4253-85d9-b5f9cec4d8fc\" class=\"plotly-graph-div\" style=\"height:525px; width:100%;\"></div>            <script type=\"text/javascript\">                require([\"plotly\"], function(Plotly) {                    window.PLOTLYENV=window.PLOTLYENV || {};                                    if (document.getElementById(\"bbafa9c7-8505-4253-85d9-b5f9cec4d8fc\")) {                    Plotly.newPlot(                        \"bbafa9c7-8505-4253-85d9-b5f9cec4d8fc\",                        [{\"line\": {\"color\": \"blue\", \"dash\": \"dot\", \"width\": 1}, \"name\": \"Young Cases per Week\", \"type\": \"scatter\", \"x\": [1, 2, 3, 4, 5, 6, 7, 8, 9, 10, 11, 12, 13, 14, 15, 16, 17, 18, 19, 20, 21, 22, 23, 24, 25, 26, 27, 28, 29, 30, 31, 32, 33, 34, 35, 36, 37, 38, 39, 40, 41, 42, 43, 44, 45, 46, 47, 48, 49, 50, 51, 52], \"y\": [157.0, 172.0, 180.0, 199.0, 194.0, 152.0, 150.0, 181.0, 194.0, 175.0, 199.0, 159.0, 188.0, 173.0, 195.0, 207.0, 173.0, 200.0, 173.0, 205.0, 193.0, 203.0, 186.0, 208.0, 218.0, 196.0, 202.0, 202.0, 200.0, 190.0, 193.0, 195.0, 198.0, 180.0, 192.0, 219.0, 205.0, 203.0, 187.0, 193.0, 179.0, 218.0, 216.0, 186.0, 179.0, 212.0, 195.0, 215.0, 183.0, 194.0, 193.0, 181.0]}, {\"line\": {\"color\": \"blue\", \"width\": 1}, \"name\": \"Young Cases Total\", \"type\": \"scatter\", \"x\": [1, 2, 3, 4, 5, 6, 7, 8, 9, 10, 11, 12, 13, 14, 15, 16, 17, 18, 19, 20, 21, 22, 23, 24, 25, 26, 27, 28, 29, 30, 31, 32, 33, 34, 35, 36, 37, 38, 39, 40, 41, 42, 43, 44, 45, 46, 47, 48, 49, 50, 51, 52], \"y\": [157.0, 329.0, 509.0, 708.0, 902.0, 1054.0, 1204.0, 1385.0, 1579.0, 1754.0, 1953.0, 2112.0, 2300.0, 2473.0, 2668.0, 2875.0, 3048.0, 3248.0, 3421.0, 3626.0, 3819.0, 4022.0, 4208.0, 4416.0, 4634.0, 4830.0, 5032.0, 5234.0, 5434.0, 5624.0, 5817.0, 6012.0, 6210.0, 6390.0, 6582.0, 6801.0, 7006.0, 7209.0, 7396.0, 7589.0, 7768.0, 7986.0, 8202.0, 8388.0, 8567.0, 8779.0, 8974.0, 9189.0, 9372.0, 9566.0, 9759.0, 9940.0]}, {\"line\": {\"color\": \"red\"}, \"name\": \"expected Value\", \"type\": \"scatter\", \"x\": [1, 2, 3, 4, 5, 6, 7, 8, 9, 10, 11, 12, 13, 14, 15, 16, 17, 18, 19, 20, 21, 22, 23, 24, 25, 26, 27, 28, 29, 30, 31, 32, 33, 34, 35, 36, 37, 38, 39, 40, 41, 42, 43, 44, 45, 46, 47, 48, 49, 50, 51, 52], \"y\": [10295.0, 10295.0, 10295.0, 10295.0, 10295.0, 10295.0, 10295.0, 10295.0, 10295.0, 10295.0, 10295.0, 10295.0, 10295.0, 10295.0, 10295.0, 10295.0, 10295.0, 10295.0, 10295.0, 10295.0, 10295.0, 10295.0, 10295.0, 10295.0, 10295.0, 10295.0, 10295.0, 10295.0, 10295.0, 10295.0, 10295.0, 10295.0, 10295.0, 10295.0, 10295.0, 10295.0, 10295.0, 10295.0, 10295.0, 10295.0, 10295.0, 10295.0, 10295.0, 10295.0, 10295.0, 10295.0, 10295.0, 10295.0, 10295.0, 10295.0, 10295.0, 10295.0]}, {\"fill\": \"toself\", \"fillcolor\": \"red\", \"line\": {\"color\": \"red\"}, \"name\": \"Varianzbereich\", \"opacity\": 0.2, \"type\": \"scatter\", \"x\": [1, 2, 3, 4, 5, 6, 7, 8, 9, 10, 11, 12, 13, 14, 15, 16, 17, 18, 19, 20, 21, 22, 23, 24, 25, 26, 27, 28, 29, 30, 31, 32, 33, 34, 35, 36, 37, 38, 39, 40, 41, 42, 43, 44, 45, 46, 47, 48, 49, 50, 51, 52, 52, 51, 50, 49, 48, 47, 46, 45, 44, 43, 42, 41, 40, 39, 38, 37, 36, 35, 34, 33, 32, 31, 30, 29, 28, 27, 26, 25, 24, 23, 22, 21, 20, 19, 18, 17, 16, 15, 14, 13, 12, 11, 10, 9, 8, 7, 6, 5, 4, 3, 2, 1], \"y\": [9898.222354460335, 9898.222354460335, 9898.222354460335, 9898.222354460335, 9898.222354460335, 9898.222354460335, 9898.222354460335, 9898.222354460335, 9898.222354460335, 9898.222354460335, 9898.222354460335, 9898.222354460335, 9898.222354460335, 9898.222354460335, 9898.222354460335, 9898.222354460335, 9898.222354460335, 9898.222354460335, 9898.222354460335, 9898.222354460335, 9898.222354460335, 9898.222354460335, 9898.222354460335, 9898.222354460335, 9898.222354460335, 9898.222354460335, 9898.222354460335, 9898.222354460335, 9898.222354460335, 9898.222354460335, 9898.222354460335, 9898.222354460335, 9898.222354460335, 9898.222354460335, 9898.222354460335, 9898.222354460335, 9898.222354460335, 9898.222354460335, 9898.222354460335, 9898.222354460335, 9898.222354460335, 9898.222354460335, 9898.222354460335, 9898.222354460335, 9898.222354460335, 9898.222354460335, 9898.222354460335, 9898.222354460335, 9898.222354460335, 9898.222354460335, 9898.222354460335, 9898.222354460335, 10691.777645539665, 10691.777645539665, 10691.777645539665, 10691.777645539665, 10691.777645539665, 10691.777645539665, 10691.777645539665, 10691.777645539665, 10691.777645539665, 10691.777645539665, 10691.777645539665, 10691.777645539665, 10691.777645539665, 10691.777645539665, 10691.777645539665, 10691.777645539665, 10691.777645539665, 10691.777645539665, 10691.777645539665, 10691.777645539665, 10691.777645539665, 10691.777645539665, 10691.777645539665, 10691.777645539665, 10691.777645539665, 10691.777645539665, 10691.777645539665, 10691.777645539665, 10691.777645539665, 10691.777645539665, 10691.777645539665, 10691.777645539665, 10691.777645539665, 10691.777645539665, 10691.777645539665, 10691.777645539665, 10691.777645539665, 10691.777645539665, 10691.777645539665, 10691.777645539665, 10691.777645539665, 10691.777645539665, 10691.777645539665, 10691.777645539665, 10691.777645539665, 10691.777645539665, 10691.777645539665, 10691.777645539665, 10691.777645539665, 10691.777645539665, 10691.777645539665, 10691.777645539665]}],                        {\"template\": {\"data\": {\"bar\": [{\"error_x\": {\"color\": \"#2a3f5f\"}, \"error_y\": {\"color\": \"#2a3f5f\"}, \"marker\": {\"line\": {\"color\": \"#E5ECF6\", \"width\": 0.5}}, \"type\": \"bar\"}], \"barpolar\": [{\"marker\": {\"line\": {\"color\": \"#E5ECF6\", \"width\": 0.5}}, \"type\": \"barpolar\"}], \"carpet\": [{\"aaxis\": {\"endlinecolor\": \"#2a3f5f\", \"gridcolor\": \"white\", \"linecolor\": \"white\", \"minorgridcolor\": \"white\", \"startlinecolor\": \"#2a3f5f\"}, \"baxis\": {\"endlinecolor\": \"#2a3f5f\", \"gridcolor\": \"white\", \"linecolor\": \"white\", \"minorgridcolor\": \"white\", \"startlinecolor\": \"#2a3f5f\"}, \"type\": \"carpet\"}], \"choropleth\": [{\"colorbar\": {\"outlinewidth\": 0, \"ticks\": \"\"}, \"type\": \"choropleth\"}], \"contour\": [{\"colorbar\": {\"outlinewidth\": 0, \"ticks\": \"\"}, \"colorscale\": [[0.0, \"#0d0887\"], [0.1111111111111111, \"#46039f\"], [0.2222222222222222, \"#7201a8\"], [0.3333333333333333, \"#9c179e\"], [0.4444444444444444, \"#bd3786\"], [0.5555555555555556, \"#d8576b\"], [0.6666666666666666, \"#ed7953\"], [0.7777777777777778, \"#fb9f3a\"], [0.8888888888888888, \"#fdca26\"], [1.0, \"#f0f921\"]], \"type\": \"contour\"}], \"contourcarpet\": [{\"colorbar\": {\"outlinewidth\": 0, \"ticks\": \"\"}, \"type\": \"contourcarpet\"}], \"heatmap\": [{\"colorbar\": {\"outlinewidth\": 0, \"ticks\": \"\"}, \"colorscale\": [[0.0, \"#0d0887\"], [0.1111111111111111, \"#46039f\"], [0.2222222222222222, \"#7201a8\"], [0.3333333333333333, \"#9c179e\"], [0.4444444444444444, \"#bd3786\"], [0.5555555555555556, \"#d8576b\"], [0.6666666666666666, \"#ed7953\"], [0.7777777777777778, \"#fb9f3a\"], [0.8888888888888888, \"#fdca26\"], [1.0, \"#f0f921\"]], \"type\": \"heatmap\"}], \"heatmapgl\": [{\"colorbar\": {\"outlinewidth\": 0, \"ticks\": \"\"}, \"colorscale\": [[0.0, \"#0d0887\"], [0.1111111111111111, \"#46039f\"], [0.2222222222222222, \"#7201a8\"], [0.3333333333333333, \"#9c179e\"], [0.4444444444444444, \"#bd3786\"], [0.5555555555555556, \"#d8576b\"], [0.6666666666666666, \"#ed7953\"], [0.7777777777777778, \"#fb9f3a\"], [0.8888888888888888, \"#fdca26\"], [1.0, \"#f0f921\"]], \"type\": \"heatmapgl\"}], \"histogram\": [{\"marker\": {\"colorbar\": {\"outlinewidth\": 0, \"ticks\": \"\"}}, \"type\": \"histogram\"}], \"histogram2d\": [{\"colorbar\": {\"outlinewidth\": 0, \"ticks\": \"\"}, \"colorscale\": [[0.0, \"#0d0887\"], [0.1111111111111111, \"#46039f\"], [0.2222222222222222, \"#7201a8\"], [0.3333333333333333, \"#9c179e\"], [0.4444444444444444, \"#bd3786\"], [0.5555555555555556, \"#d8576b\"], [0.6666666666666666, \"#ed7953\"], [0.7777777777777778, \"#fb9f3a\"], [0.8888888888888888, \"#fdca26\"], [1.0, \"#f0f921\"]], \"type\": \"histogram2d\"}], \"histogram2dcontour\": [{\"colorbar\": {\"outlinewidth\": 0, \"ticks\": \"\"}, \"colorscale\": [[0.0, \"#0d0887\"], [0.1111111111111111, \"#46039f\"], [0.2222222222222222, \"#7201a8\"], [0.3333333333333333, \"#9c179e\"], [0.4444444444444444, \"#bd3786\"], [0.5555555555555556, \"#d8576b\"], [0.6666666666666666, \"#ed7953\"], [0.7777777777777778, \"#fb9f3a\"], [0.8888888888888888, \"#fdca26\"], [1.0, \"#f0f921\"]], \"type\": \"histogram2dcontour\"}], \"mesh3d\": [{\"colorbar\": {\"outlinewidth\": 0, \"ticks\": \"\"}, \"type\": \"mesh3d\"}], \"parcoords\": [{\"line\": {\"colorbar\": {\"outlinewidth\": 0, \"ticks\": \"\"}}, \"type\": \"parcoords\"}], \"pie\": [{\"automargin\": true, \"type\": \"pie\"}], \"scatter\": [{\"marker\": {\"colorbar\": {\"outlinewidth\": 0, \"ticks\": \"\"}}, \"type\": \"scatter\"}], \"scatter3d\": [{\"line\": {\"colorbar\": {\"outlinewidth\": 0, \"ticks\": \"\"}}, \"marker\": {\"colorbar\": {\"outlinewidth\": 0, \"ticks\": \"\"}}, \"type\": \"scatter3d\"}], \"scattercarpet\": [{\"marker\": {\"colorbar\": {\"outlinewidth\": 0, \"ticks\": \"\"}}, \"type\": \"scattercarpet\"}], \"scattergeo\": [{\"marker\": {\"colorbar\": {\"outlinewidth\": 0, \"ticks\": \"\"}}, \"type\": \"scattergeo\"}], \"scattergl\": [{\"marker\": {\"colorbar\": {\"outlinewidth\": 0, \"ticks\": \"\"}}, \"type\": \"scattergl\"}], \"scattermapbox\": [{\"marker\": {\"colorbar\": {\"outlinewidth\": 0, \"ticks\": \"\"}}, \"type\": \"scattermapbox\"}], \"scatterpolar\": [{\"marker\": {\"colorbar\": {\"outlinewidth\": 0, \"ticks\": \"\"}}, \"type\": \"scatterpolar\"}], \"scatterpolargl\": [{\"marker\": {\"colorbar\": {\"outlinewidth\": 0, \"ticks\": \"\"}}, \"type\": \"scatterpolargl\"}], \"scatterternary\": [{\"marker\": {\"colorbar\": {\"outlinewidth\": 0, \"ticks\": \"\"}}, \"type\": \"scatterternary\"}], \"surface\": [{\"colorbar\": {\"outlinewidth\": 0, \"ticks\": \"\"}, \"colorscale\": [[0.0, \"#0d0887\"], [0.1111111111111111, \"#46039f\"], [0.2222222222222222, \"#7201a8\"], [0.3333333333333333, \"#9c179e\"], [0.4444444444444444, \"#bd3786\"], [0.5555555555555556, \"#d8576b\"], [0.6666666666666666, \"#ed7953\"], [0.7777777777777778, \"#fb9f3a\"], [0.8888888888888888, \"#fdca26\"], [1.0, \"#f0f921\"]], \"type\": \"surface\"}], \"table\": [{\"cells\": {\"fill\": {\"color\": \"#EBF0F8\"}, \"line\": {\"color\": \"white\"}}, \"header\": {\"fill\": {\"color\": \"#C8D4E3\"}, \"line\": {\"color\": \"white\"}}, \"type\": \"table\"}]}, \"layout\": {\"annotationdefaults\": {\"arrowcolor\": \"#2a3f5f\", \"arrowhead\": 0, \"arrowwidth\": 1}, \"autotypenumbers\": \"strict\", \"coloraxis\": {\"colorbar\": {\"outlinewidth\": 0, \"ticks\": \"\"}}, \"colorscale\": {\"diverging\": [[0, \"#8e0152\"], [0.1, \"#c51b7d\"], [0.2, \"#de77ae\"], [0.3, \"#f1b6da\"], [0.4, \"#fde0ef\"], [0.5, \"#f7f7f7\"], [0.6, \"#e6f5d0\"], [0.7, \"#b8e186\"], [0.8, \"#7fbc41\"], [0.9, \"#4d9221\"], [1, \"#276419\"]], \"sequential\": [[0.0, \"#0d0887\"], [0.1111111111111111, \"#46039f\"], [0.2222222222222222, \"#7201a8\"], [0.3333333333333333, \"#9c179e\"], [0.4444444444444444, \"#bd3786\"], [0.5555555555555556, \"#d8576b\"], [0.6666666666666666, \"#ed7953\"], [0.7777777777777778, \"#fb9f3a\"], [0.8888888888888888, \"#fdca26\"], [1.0, \"#f0f921\"]], \"sequentialminus\": [[0.0, \"#0d0887\"], [0.1111111111111111, \"#46039f\"], [0.2222222222222222, \"#7201a8\"], [0.3333333333333333, \"#9c179e\"], [0.4444444444444444, \"#bd3786\"], [0.5555555555555556, \"#d8576b\"], [0.6666666666666666, \"#ed7953\"], [0.7777777777777778, \"#fb9f3a\"], [0.8888888888888888, \"#fdca26\"], [1.0, \"#f0f921\"]]}, \"colorway\": [\"#636efa\", \"#EF553B\", \"#00cc96\", \"#ab63fa\", \"#FFA15A\", \"#19d3f3\", \"#FF6692\", \"#B6E880\", \"#FF97FF\", \"#FECB52\"], \"font\": {\"color\": \"#2a3f5f\"}, \"geo\": {\"bgcolor\": \"white\", \"lakecolor\": \"white\", \"landcolor\": \"#E5ECF6\", \"showlakes\": true, \"showland\": true, \"subunitcolor\": \"white\"}, \"hoverlabel\": {\"align\": \"left\"}, \"hovermode\": \"closest\", \"mapbox\": {\"style\": \"light\"}, \"paper_bgcolor\": \"white\", \"plot_bgcolor\": \"#E5ECF6\", \"polar\": {\"angularaxis\": {\"gridcolor\": \"white\", \"linecolor\": \"white\", \"ticks\": \"\"}, \"bgcolor\": \"#E5ECF6\", \"radialaxis\": {\"gridcolor\": \"white\", \"linecolor\": \"white\", \"ticks\": \"\"}}, \"scene\": {\"xaxis\": {\"backgroundcolor\": \"#E5ECF6\", \"gridcolor\": \"white\", \"gridwidth\": 2, \"linecolor\": \"white\", \"showbackground\": true, \"ticks\": \"\", \"zerolinecolor\": \"white\"}, \"yaxis\": {\"backgroundcolor\": \"#E5ECF6\", \"gridcolor\": \"white\", \"gridwidth\": 2, \"linecolor\": \"white\", \"showbackground\": true, \"ticks\": \"\", \"zerolinecolor\": \"white\"}, \"zaxis\": {\"backgroundcolor\": \"#E5ECF6\", \"gridcolor\": \"white\", \"gridwidth\": 2, \"linecolor\": \"white\", \"showbackground\": true, \"ticks\": \"\", \"zerolinecolor\": \"white\"}}, \"shapedefaults\": {\"line\": {\"color\": \"#2a3f5f\"}}, \"ternary\": {\"aaxis\": {\"gridcolor\": \"white\", \"linecolor\": \"white\", \"ticks\": \"\"}, \"baxis\": {\"gridcolor\": \"white\", \"linecolor\": \"white\", \"ticks\": \"\"}, \"bgcolor\": \"#E5ECF6\", \"caxis\": {\"gridcolor\": \"white\", \"linecolor\": \"white\", \"ticks\": \"\"}}, \"title\": {\"x\": 0.05}, \"xaxis\": {\"automargin\": true, \"gridcolor\": \"white\", \"linecolor\": \"white\", \"ticks\": \"\", \"title\": {\"standoff\": 15}, \"zerolinecolor\": \"white\", \"zerolinewidth\": 2}, \"yaxis\": {\"automargin\": true, \"gridcolor\": \"white\", \"linecolor\": \"white\", \"ticks\": \"\", \"title\": {\"standoff\": 15}, \"zerolinecolor\": \"white\", \"zerolinewidth\": 2}}}, \"title\": {\"text\": \"Deaths  in 2021 between week 1 and week 52\"}, \"xaxis\": {\"title\": {\"text\": \"Week\"}}, \"yaxis\": {\"title\": {\"text\": \"Deaths\"}}},                        {\"responsive\": true}                    ).then(function(){\n",
       "                            \n",
       "var gd = document.getElementById('bbafa9c7-8505-4253-85d9-b5f9cec4d8fc');\n",
       "var x = new MutationObserver(function (mutations, observer) {{\n",
       "        var display = window.getComputedStyle(gd).display;\n",
       "        if (!display || display === 'none') {{\n",
       "            console.log([gd, 'removed!']);\n",
       "            Plotly.purge(gd);\n",
       "            observer.disconnect();\n",
       "        }}\n",
       "}});\n",
       "\n",
       "// Listen for the removal of the full notebook cells\n",
       "var notebookContainer = gd.closest('#notebook-container');\n",
       "if (notebookContainer) {{\n",
       "    x.observe(notebookContainer, {childList: true});\n",
       "}}\n",
       "\n",
       "// Listen for the clearing of the current output cell\n",
       "var outputEl = gd.closest('.output');\n",
       "if (outputEl) {{\n",
       "    x.observe(outputEl, {childList: true});\n",
       "}}\n",
       "\n",
       "                        })                };                });            </script>        </div>"
      ]
     },
     "metadata": {},
     "output_type": "display_data"
    }
   ],
   "execution_count": 124
  },
  {
   "metadata": {
    "ExecuteTime": {
     "end_time": "2024-05-15T08:23:17.282408Z",
     "start_time": "2024-05-15T08:23:17.054408Z"
    }
   },
   "cell_type": "code",
   "source": [
    "fig_semi = go.Figure()\n",
    "fig_semi.add_trace(go.Scatter(x = data_filtered_semi[\"Week\"], y = data_filtered_semi[\"Value\"], name = \"semi Cases per Week\", line = dict(color = 'blue', width = 1,dash = 'dot')))\n",
    "fig_semi.add_trace(go.Scatter(x = data_filtered_semi[\"Week\"], y = np.cumsum(data_filtered_semi[\"Value\"]), name = \"semi Cases Total\", line = dict(color = 'blue', width = 1)))\n",
    "\n",
    "\n",
    "\n",
    "#fig_semi.add_hline(y=expected_value_per_age_group.loc[\"35-59\", \"Value\"], line_color = 'red', line_width = 1, name = \"Expected semi Cases Total\")\n",
    "fig_semi.add_trace(go.Scatter(x = data_filtered_semi[\"Week\"],y = np.repeat(expected_value_per_age_group.loc[\"35-59\",\"Value\"],kalenderwochen[1]-kalenderwochen[0]+1), name = \"expected Value\", line = dict(color = 'red')))\n",
    "\n",
    "#fig_semi.add_hrect(y0=expected_value_per_age_group.loc[\"35-59\",\"Value_Low\"],y1=expected_value_per_age_group.loc[\"35-59\",\"Value_High\"],fillcolor = \"red\", line_width = 0, opacity = 0.2)\n",
    "\n",
    "fig_semi.add_trace(go.Scatter(\n",
    "    x = data_filtered_semi[\"Week\"].tolist() + data_filtered_semi[\"Week\"].tolist()[::-1] ,\n",
    "    y = [expected_value_per_age_group.loc[\"35-59\",\"Value_High\"]]*(kalenderwochen[1]-kalenderwochen[0]+1) + [expected_value_per_age_group.loc[\"35-59\",\"Value_Low\"]]*(kalenderwochen[1]-kalenderwochen[0]+1),\n",
    "    fill = 'toself',\n",
    "    fillcolor = \"red\",\n",
    "    line_color = \"red\",\n",
    "    name = \"Varianzbereich\",\n",
    "    opacity=0.2\n",
    "))\n",
    "\n",
    "fig_semi.update_layout(title = f\"Deaths  in {year} between week {kalenderwochen[0]} and week {kalenderwochen[1]}\",\n",
    "                        xaxis_title = \"Week\",\n",
    "                        yaxis_title = \"Deaths\")\n",
    "\n",
    "if show_events:\n",
    "    for i in happenings_filtered.index:\n",
    "        #print(happenings_filtered.loc[i,\"Week\"])\n",
    "        #print(happenings_filtered.loc[i, \"Title\"])\n",
    "        fig_semi.add_vline(x = happenings_filtered.loc[i,\"Week\"], line_width = 2, line_color = \"green\", line_dash = \"dash\")\n",
    "\n",
    "fig_semi.show()"
   ],
   "id": "7d83d3c3443671a8",
   "outputs": [
    {
     "data": {
      "application/vnd.plotly.v1+json": {
       "config": {
        "plotlyServerURL": "https://plot.ly"
       },
       "data": [
        {
         "line": {
          "color": "blue",
          "dash": "dot",
          "width": 1
         },
         "name": "semi Cases per Week",
         "type": "scatter",
         "x": [
          1,
          2,
          3,
          4,
          5,
          6,
          7,
          8,
          9,
          10,
          11,
          12,
          13,
          14,
          15,
          16,
          17,
          18,
          19,
          20,
          21,
          22,
          23,
          24,
          25,
          26,
          27,
          28,
          29,
          30,
          31,
          32,
          33,
          34,
          35,
          36,
          37,
          38,
          39,
          40,
          41,
          42,
          43,
          44,
          45,
          46,
          47,
          48,
          49,
          50,
          51,
          52
         ],
         "y": [
          1615.0,
          1673.0,
          1623.0,
          1577.0,
          1608.0,
          1530.0,
          1558.0,
          1422.0,
          1526.0,
          1454.0,
          1425.0,
          1478.0,
          1527.0,
          1563.0,
          1601.0,
          1626.0,
          1663.0,
          1671.0,
          1498.0,
          1527.0,
          1426.0,
          1488.0,
          1509.0,
          1543.0,
          1394.0,
          1457.0,
          1388.0,
          1476.0,
          1424.0,
          1383.0,
          1429.0,
          1429.0,
          1437.0,
          1368.0,
          1434.0,
          1470.0,
          1416.0,
          1487.0,
          1410.0,
          1490.0,
          1528.0,
          1500.0,
          1533.0,
          1441.0,
          1571.0,
          1617.0,
          1699.0,
          1766.0,
          1742.0,
          1681.0,
          1632.0,
          1621.0
         ]
        },
        {
         "line": {
          "color": "blue",
          "width": 1
         },
         "name": "semi Cases Total",
         "type": "scatter",
         "x": [
          1,
          2,
          3,
          4,
          5,
          6,
          7,
          8,
          9,
          10,
          11,
          12,
          13,
          14,
          15,
          16,
          17,
          18,
          19,
          20,
          21,
          22,
          23,
          24,
          25,
          26,
          27,
          28,
          29,
          30,
          31,
          32,
          33,
          34,
          35,
          36,
          37,
          38,
          39,
          40,
          41,
          42,
          43,
          44,
          45,
          46,
          47,
          48,
          49,
          50,
          51,
          52
         ],
         "y": [
          1615.0,
          3288.0,
          4911.0,
          6488.0,
          8096.0,
          9626.0,
          11184.0,
          12606.0,
          14132.0,
          15586.0,
          17011.0,
          18489.0,
          20016.0,
          21579.0,
          23180.0,
          24806.0,
          26469.0,
          28140.0,
          29638.0,
          31165.0,
          32591.0,
          34079.0,
          35588.0,
          37131.0,
          38525.0,
          39982.0,
          41370.0,
          42846.0,
          44270.0,
          45653.0,
          47082.0,
          48511.0,
          49948.0,
          51316.0,
          52750.0,
          54220.0,
          55636.0,
          57123.0,
          58533.0,
          60023.0,
          61551.0,
          63051.0,
          64584.0,
          66025.0,
          67596.0,
          69213.0,
          70912.0,
          72678.0,
          74420.0,
          76101.0,
          77733.0,
          79354.0
         ]
        },
        {
         "line": {
          "color": "red"
         },
         "name": "expected Value",
         "type": "scatter",
         "x": [
          1,
          2,
          3,
          4,
          5,
          6,
          7,
          8,
          9,
          10,
          11,
          12,
          13,
          14,
          15,
          16,
          17,
          18,
          19,
          20,
          21,
          22,
          23,
          24,
          25,
          26,
          27,
          28,
          29,
          30,
          31,
          32,
          33,
          34,
          35,
          36,
          37,
          38,
          39,
          40,
          41,
          42,
          43,
          44,
          45,
          46,
          47,
          48,
          49,
          50,
          51,
          52
         ],
         "y": [
          78281.6,
          78281.6,
          78281.6,
          78281.6,
          78281.6,
          78281.6,
          78281.6,
          78281.6,
          78281.6,
          78281.6,
          78281.6,
          78281.6,
          78281.6,
          78281.6,
          78281.6,
          78281.6,
          78281.6,
          78281.6,
          78281.6,
          78281.6,
          78281.6,
          78281.6,
          78281.6,
          78281.6,
          78281.6,
          78281.6,
          78281.6,
          78281.6,
          78281.6,
          78281.6,
          78281.6,
          78281.6,
          78281.6,
          78281.6,
          78281.6,
          78281.6,
          78281.6,
          78281.6,
          78281.6,
          78281.6,
          78281.6,
          78281.6,
          78281.6,
          78281.6,
          78281.6,
          78281.6,
          78281.6,
          78281.6,
          78281.6,
          78281.6,
          78281.6,
          78281.6
         ]
        },
        {
         "fill": "toself",
         "fillcolor": "red",
         "line": {
          "color": "red"
         },
         "name": "Varianzbereich",
         "opacity": 0.2,
         "type": "scatter",
         "x": [
          1,
          2,
          3,
          4,
          5,
          6,
          7,
          8,
          9,
          10,
          11,
          12,
          13,
          14,
          15,
          16,
          17,
          18,
          19,
          20,
          21,
          22,
          23,
          24,
          25,
          26,
          27,
          28,
          29,
          30,
          31,
          32,
          33,
          34,
          35,
          36,
          37,
          38,
          39,
          40,
          41,
          42,
          43,
          44,
          45,
          46,
          47,
          48,
          49,
          50,
          51,
          52,
          52,
          51,
          50,
          49,
          48,
          47,
          46,
          45,
          44,
          43,
          42,
          41,
          40,
          39,
          38,
          37,
          36,
          35,
          34,
          33,
          32,
          31,
          30,
          29,
          28,
          27,
          26,
          25,
          24,
          23,
          22,
          21,
          20,
          19,
          18,
          17,
          16,
          15,
          14,
          13,
          12,
          11,
          10,
          9,
          8,
          7,
          6,
          5,
          4,
          3,
          2,
          1
         ],
         "y": [
          80295.73859999754,
          80295.73859999754,
          80295.73859999754,
          80295.73859999754,
          80295.73859999754,
          80295.73859999754,
          80295.73859999754,
          80295.73859999754,
          80295.73859999754,
          80295.73859999754,
          80295.73859999754,
          80295.73859999754,
          80295.73859999754,
          80295.73859999754,
          80295.73859999754,
          80295.73859999754,
          80295.73859999754,
          80295.73859999754,
          80295.73859999754,
          80295.73859999754,
          80295.73859999754,
          80295.73859999754,
          80295.73859999754,
          80295.73859999754,
          80295.73859999754,
          80295.73859999754,
          80295.73859999754,
          80295.73859999754,
          80295.73859999754,
          80295.73859999754,
          80295.73859999754,
          80295.73859999754,
          80295.73859999754,
          80295.73859999754,
          80295.73859999754,
          80295.73859999754,
          80295.73859999754,
          80295.73859999754,
          80295.73859999754,
          80295.73859999754,
          80295.73859999754,
          80295.73859999754,
          80295.73859999754,
          80295.73859999754,
          80295.73859999754,
          80295.73859999754,
          80295.73859999754,
          80295.73859999754,
          80295.73859999754,
          80295.73859999754,
          80295.73859999754,
          80295.73859999754,
          76267.46140000247,
          76267.46140000247,
          76267.46140000247,
          76267.46140000247,
          76267.46140000247,
          76267.46140000247,
          76267.46140000247,
          76267.46140000247,
          76267.46140000247,
          76267.46140000247,
          76267.46140000247,
          76267.46140000247,
          76267.46140000247,
          76267.46140000247,
          76267.46140000247,
          76267.46140000247,
          76267.46140000247,
          76267.46140000247,
          76267.46140000247,
          76267.46140000247,
          76267.46140000247,
          76267.46140000247,
          76267.46140000247,
          76267.46140000247,
          76267.46140000247,
          76267.46140000247,
          76267.46140000247,
          76267.46140000247,
          76267.46140000247,
          76267.46140000247,
          76267.46140000247,
          76267.46140000247,
          76267.46140000247,
          76267.46140000247,
          76267.46140000247,
          76267.46140000247,
          76267.46140000247,
          76267.46140000247,
          76267.46140000247,
          76267.46140000247,
          76267.46140000247,
          76267.46140000247,
          76267.46140000247,
          76267.46140000247,
          76267.46140000247,
          76267.46140000247,
          76267.46140000247,
          76267.46140000247,
          76267.46140000247,
          76267.46140000247,
          76267.46140000247,
          76267.46140000247
         ]
        }
       ],
       "layout": {
        "template": {
         "data": {
          "bar": [
           {
            "error_x": {
             "color": "#2a3f5f"
            },
            "error_y": {
             "color": "#2a3f5f"
            },
            "marker": {
             "line": {
              "color": "#E5ECF6",
              "width": 0.5
             }
            },
            "type": "bar"
           }
          ],
          "barpolar": [
           {
            "marker": {
             "line": {
              "color": "#E5ECF6",
              "width": 0.5
             }
            },
            "type": "barpolar"
           }
          ],
          "carpet": [
           {
            "aaxis": {
             "endlinecolor": "#2a3f5f",
             "gridcolor": "white",
             "linecolor": "white",
             "minorgridcolor": "white",
             "startlinecolor": "#2a3f5f"
            },
            "baxis": {
             "endlinecolor": "#2a3f5f",
             "gridcolor": "white",
             "linecolor": "white",
             "minorgridcolor": "white",
             "startlinecolor": "#2a3f5f"
            },
            "type": "carpet"
           }
          ],
          "choropleth": [
           {
            "colorbar": {
             "outlinewidth": 0,
             "ticks": ""
            },
            "type": "choropleth"
           }
          ],
          "contour": [
           {
            "colorbar": {
             "outlinewidth": 0,
             "ticks": ""
            },
            "colorscale": [
             [
              0.0,
              "#0d0887"
             ],
             [
              0.1111111111111111,
              "#46039f"
             ],
             [
              0.2222222222222222,
              "#7201a8"
             ],
             [
              0.3333333333333333,
              "#9c179e"
             ],
             [
              0.4444444444444444,
              "#bd3786"
             ],
             [
              0.5555555555555556,
              "#d8576b"
             ],
             [
              0.6666666666666666,
              "#ed7953"
             ],
             [
              0.7777777777777778,
              "#fb9f3a"
             ],
             [
              0.8888888888888888,
              "#fdca26"
             ],
             [
              1.0,
              "#f0f921"
             ]
            ],
            "type": "contour"
           }
          ],
          "contourcarpet": [
           {
            "colorbar": {
             "outlinewidth": 0,
             "ticks": ""
            },
            "type": "contourcarpet"
           }
          ],
          "heatmap": [
           {
            "colorbar": {
             "outlinewidth": 0,
             "ticks": ""
            },
            "colorscale": [
             [
              0.0,
              "#0d0887"
             ],
             [
              0.1111111111111111,
              "#46039f"
             ],
             [
              0.2222222222222222,
              "#7201a8"
             ],
             [
              0.3333333333333333,
              "#9c179e"
             ],
             [
              0.4444444444444444,
              "#bd3786"
             ],
             [
              0.5555555555555556,
              "#d8576b"
             ],
             [
              0.6666666666666666,
              "#ed7953"
             ],
             [
              0.7777777777777778,
              "#fb9f3a"
             ],
             [
              0.8888888888888888,
              "#fdca26"
             ],
             [
              1.0,
              "#f0f921"
             ]
            ],
            "type": "heatmap"
           }
          ],
          "heatmapgl": [
           {
            "colorbar": {
             "outlinewidth": 0,
             "ticks": ""
            },
            "colorscale": [
             [
              0.0,
              "#0d0887"
             ],
             [
              0.1111111111111111,
              "#46039f"
             ],
             [
              0.2222222222222222,
              "#7201a8"
             ],
             [
              0.3333333333333333,
              "#9c179e"
             ],
             [
              0.4444444444444444,
              "#bd3786"
             ],
             [
              0.5555555555555556,
              "#d8576b"
             ],
             [
              0.6666666666666666,
              "#ed7953"
             ],
             [
              0.7777777777777778,
              "#fb9f3a"
             ],
             [
              0.8888888888888888,
              "#fdca26"
             ],
             [
              1.0,
              "#f0f921"
             ]
            ],
            "type": "heatmapgl"
           }
          ],
          "histogram": [
           {
            "marker": {
             "colorbar": {
              "outlinewidth": 0,
              "ticks": ""
             }
            },
            "type": "histogram"
           }
          ],
          "histogram2d": [
           {
            "colorbar": {
             "outlinewidth": 0,
             "ticks": ""
            },
            "colorscale": [
             [
              0.0,
              "#0d0887"
             ],
             [
              0.1111111111111111,
              "#46039f"
             ],
             [
              0.2222222222222222,
              "#7201a8"
             ],
             [
              0.3333333333333333,
              "#9c179e"
             ],
             [
              0.4444444444444444,
              "#bd3786"
             ],
             [
              0.5555555555555556,
              "#d8576b"
             ],
             [
              0.6666666666666666,
              "#ed7953"
             ],
             [
              0.7777777777777778,
              "#fb9f3a"
             ],
             [
              0.8888888888888888,
              "#fdca26"
             ],
             [
              1.0,
              "#f0f921"
             ]
            ],
            "type": "histogram2d"
           }
          ],
          "histogram2dcontour": [
           {
            "colorbar": {
             "outlinewidth": 0,
             "ticks": ""
            },
            "colorscale": [
             [
              0.0,
              "#0d0887"
             ],
             [
              0.1111111111111111,
              "#46039f"
             ],
             [
              0.2222222222222222,
              "#7201a8"
             ],
             [
              0.3333333333333333,
              "#9c179e"
             ],
             [
              0.4444444444444444,
              "#bd3786"
             ],
             [
              0.5555555555555556,
              "#d8576b"
             ],
             [
              0.6666666666666666,
              "#ed7953"
             ],
             [
              0.7777777777777778,
              "#fb9f3a"
             ],
             [
              0.8888888888888888,
              "#fdca26"
             ],
             [
              1.0,
              "#f0f921"
             ]
            ],
            "type": "histogram2dcontour"
           }
          ],
          "mesh3d": [
           {
            "colorbar": {
             "outlinewidth": 0,
             "ticks": ""
            },
            "type": "mesh3d"
           }
          ],
          "parcoords": [
           {
            "line": {
             "colorbar": {
              "outlinewidth": 0,
              "ticks": ""
             }
            },
            "type": "parcoords"
           }
          ],
          "pie": [
           {
            "automargin": true,
            "type": "pie"
           }
          ],
          "scatter": [
           {
            "marker": {
             "colorbar": {
              "outlinewidth": 0,
              "ticks": ""
             }
            },
            "type": "scatter"
           }
          ],
          "scatter3d": [
           {
            "line": {
             "colorbar": {
              "outlinewidth": 0,
              "ticks": ""
             }
            },
            "marker": {
             "colorbar": {
              "outlinewidth": 0,
              "ticks": ""
             }
            },
            "type": "scatter3d"
           }
          ],
          "scattercarpet": [
           {
            "marker": {
             "colorbar": {
              "outlinewidth": 0,
              "ticks": ""
             }
            },
            "type": "scattercarpet"
           }
          ],
          "scattergeo": [
           {
            "marker": {
             "colorbar": {
              "outlinewidth": 0,
              "ticks": ""
             }
            },
            "type": "scattergeo"
           }
          ],
          "scattergl": [
           {
            "marker": {
             "colorbar": {
              "outlinewidth": 0,
              "ticks": ""
             }
            },
            "type": "scattergl"
           }
          ],
          "scattermapbox": [
           {
            "marker": {
             "colorbar": {
              "outlinewidth": 0,
              "ticks": ""
             }
            },
            "type": "scattermapbox"
           }
          ],
          "scatterpolar": [
           {
            "marker": {
             "colorbar": {
              "outlinewidth": 0,
              "ticks": ""
             }
            },
            "type": "scatterpolar"
           }
          ],
          "scatterpolargl": [
           {
            "marker": {
             "colorbar": {
              "outlinewidth": 0,
              "ticks": ""
             }
            },
            "type": "scatterpolargl"
           }
          ],
          "scatterternary": [
           {
            "marker": {
             "colorbar": {
              "outlinewidth": 0,
              "ticks": ""
             }
            },
            "type": "scatterternary"
           }
          ],
          "surface": [
           {
            "colorbar": {
             "outlinewidth": 0,
             "ticks": ""
            },
            "colorscale": [
             [
              0.0,
              "#0d0887"
             ],
             [
              0.1111111111111111,
              "#46039f"
             ],
             [
              0.2222222222222222,
              "#7201a8"
             ],
             [
              0.3333333333333333,
              "#9c179e"
             ],
             [
              0.4444444444444444,
              "#bd3786"
             ],
             [
              0.5555555555555556,
              "#d8576b"
             ],
             [
              0.6666666666666666,
              "#ed7953"
             ],
             [
              0.7777777777777778,
              "#fb9f3a"
             ],
             [
              0.8888888888888888,
              "#fdca26"
             ],
             [
              1.0,
              "#f0f921"
             ]
            ],
            "type": "surface"
           }
          ],
          "table": [
           {
            "cells": {
             "fill": {
              "color": "#EBF0F8"
             },
             "line": {
              "color": "white"
             }
            },
            "header": {
             "fill": {
              "color": "#C8D4E3"
             },
             "line": {
              "color": "white"
             }
            },
            "type": "table"
           }
          ]
         },
         "layout": {
          "annotationdefaults": {
           "arrowcolor": "#2a3f5f",
           "arrowhead": 0,
           "arrowwidth": 1
          },
          "autotypenumbers": "strict",
          "coloraxis": {
           "colorbar": {
            "outlinewidth": 0,
            "ticks": ""
           }
          },
          "colorscale": {
           "diverging": [
            [
             0,
             "#8e0152"
            ],
            [
             0.1,
             "#c51b7d"
            ],
            [
             0.2,
             "#de77ae"
            ],
            [
             0.3,
             "#f1b6da"
            ],
            [
             0.4,
             "#fde0ef"
            ],
            [
             0.5,
             "#f7f7f7"
            ],
            [
             0.6,
             "#e6f5d0"
            ],
            [
             0.7,
             "#b8e186"
            ],
            [
             0.8,
             "#7fbc41"
            ],
            [
             0.9,
             "#4d9221"
            ],
            [
             1,
             "#276419"
            ]
           ],
           "sequential": [
            [
             0.0,
             "#0d0887"
            ],
            [
             0.1111111111111111,
             "#46039f"
            ],
            [
             0.2222222222222222,
             "#7201a8"
            ],
            [
             0.3333333333333333,
             "#9c179e"
            ],
            [
             0.4444444444444444,
             "#bd3786"
            ],
            [
             0.5555555555555556,
             "#d8576b"
            ],
            [
             0.6666666666666666,
             "#ed7953"
            ],
            [
             0.7777777777777778,
             "#fb9f3a"
            ],
            [
             0.8888888888888888,
             "#fdca26"
            ],
            [
             1.0,
             "#f0f921"
            ]
           ],
           "sequentialminus": [
            [
             0.0,
             "#0d0887"
            ],
            [
             0.1111111111111111,
             "#46039f"
            ],
            [
             0.2222222222222222,
             "#7201a8"
            ],
            [
             0.3333333333333333,
             "#9c179e"
            ],
            [
             0.4444444444444444,
             "#bd3786"
            ],
            [
             0.5555555555555556,
             "#d8576b"
            ],
            [
             0.6666666666666666,
             "#ed7953"
            ],
            [
             0.7777777777777778,
             "#fb9f3a"
            ],
            [
             0.8888888888888888,
             "#fdca26"
            ],
            [
             1.0,
             "#f0f921"
            ]
           ]
          },
          "colorway": [
           "#636efa",
           "#EF553B",
           "#00cc96",
           "#ab63fa",
           "#FFA15A",
           "#19d3f3",
           "#FF6692",
           "#B6E880",
           "#FF97FF",
           "#FECB52"
          ],
          "font": {
           "color": "#2a3f5f"
          },
          "geo": {
           "bgcolor": "white",
           "lakecolor": "white",
           "landcolor": "#E5ECF6",
           "showlakes": true,
           "showland": true,
           "subunitcolor": "white"
          },
          "hoverlabel": {
           "align": "left"
          },
          "hovermode": "closest",
          "mapbox": {
           "style": "light"
          },
          "paper_bgcolor": "white",
          "plot_bgcolor": "#E5ECF6",
          "polar": {
           "angularaxis": {
            "gridcolor": "white",
            "linecolor": "white",
            "ticks": ""
           },
           "bgcolor": "#E5ECF6",
           "radialaxis": {
            "gridcolor": "white",
            "linecolor": "white",
            "ticks": ""
           }
          },
          "scene": {
           "xaxis": {
            "backgroundcolor": "#E5ECF6",
            "gridcolor": "white",
            "gridwidth": 2,
            "linecolor": "white",
            "showbackground": true,
            "ticks": "",
            "zerolinecolor": "white"
           },
           "yaxis": {
            "backgroundcolor": "#E5ECF6",
            "gridcolor": "white",
            "gridwidth": 2,
            "linecolor": "white",
            "showbackground": true,
            "ticks": "",
            "zerolinecolor": "white"
           },
           "zaxis": {
            "backgroundcolor": "#E5ECF6",
            "gridcolor": "white",
            "gridwidth": 2,
            "linecolor": "white",
            "showbackground": true,
            "ticks": "",
            "zerolinecolor": "white"
           }
          },
          "shapedefaults": {
           "line": {
            "color": "#2a3f5f"
           }
          },
          "ternary": {
           "aaxis": {
            "gridcolor": "white",
            "linecolor": "white",
            "ticks": ""
           },
           "baxis": {
            "gridcolor": "white",
            "linecolor": "white",
            "ticks": ""
           },
           "bgcolor": "#E5ECF6",
           "caxis": {
            "gridcolor": "white",
            "linecolor": "white",
            "ticks": ""
           }
          },
          "title": {
           "x": 0.05
          },
          "xaxis": {
           "automargin": true,
           "gridcolor": "white",
           "linecolor": "white",
           "ticks": "",
           "title": {
            "standoff": 15
           },
           "zerolinecolor": "white",
           "zerolinewidth": 2
          },
          "yaxis": {
           "automargin": true,
           "gridcolor": "white",
           "linecolor": "white",
           "ticks": "",
           "title": {
            "standoff": 15
           },
           "zerolinecolor": "white",
           "zerolinewidth": 2
          }
         }
        },
        "title": {
         "text": "Deaths  in 2021 between week 1 and week 52"
        },
        "xaxis": {
         "title": {
          "text": "Week"
         }
        },
        "yaxis": {
         "title": {
          "text": "Deaths"
         }
        }
       }
      },
      "text/html": [
       "<div>                            <div id=\"51d024e5-f85d-40f2-9c9e-a9a84b164a23\" class=\"plotly-graph-div\" style=\"height:525px; width:100%;\"></div>            <script type=\"text/javascript\">                require([\"plotly\"], function(Plotly) {                    window.PLOTLYENV=window.PLOTLYENV || {};                                    if (document.getElementById(\"51d024e5-f85d-40f2-9c9e-a9a84b164a23\")) {                    Plotly.newPlot(                        \"51d024e5-f85d-40f2-9c9e-a9a84b164a23\",                        [{\"line\": {\"color\": \"blue\", \"dash\": \"dot\", \"width\": 1}, \"name\": \"semi Cases per Week\", \"type\": \"scatter\", \"x\": [1, 2, 3, 4, 5, 6, 7, 8, 9, 10, 11, 12, 13, 14, 15, 16, 17, 18, 19, 20, 21, 22, 23, 24, 25, 26, 27, 28, 29, 30, 31, 32, 33, 34, 35, 36, 37, 38, 39, 40, 41, 42, 43, 44, 45, 46, 47, 48, 49, 50, 51, 52], \"y\": [1615.0, 1673.0, 1623.0, 1577.0, 1608.0, 1530.0, 1558.0, 1422.0, 1526.0, 1454.0, 1425.0, 1478.0, 1527.0, 1563.0, 1601.0, 1626.0, 1663.0, 1671.0, 1498.0, 1527.0, 1426.0, 1488.0, 1509.0, 1543.0, 1394.0, 1457.0, 1388.0, 1476.0, 1424.0, 1383.0, 1429.0, 1429.0, 1437.0, 1368.0, 1434.0, 1470.0, 1416.0, 1487.0, 1410.0, 1490.0, 1528.0, 1500.0, 1533.0, 1441.0, 1571.0, 1617.0, 1699.0, 1766.0, 1742.0, 1681.0, 1632.0, 1621.0]}, {\"line\": {\"color\": \"blue\", \"width\": 1}, \"name\": \"semi Cases Total\", \"type\": \"scatter\", \"x\": [1, 2, 3, 4, 5, 6, 7, 8, 9, 10, 11, 12, 13, 14, 15, 16, 17, 18, 19, 20, 21, 22, 23, 24, 25, 26, 27, 28, 29, 30, 31, 32, 33, 34, 35, 36, 37, 38, 39, 40, 41, 42, 43, 44, 45, 46, 47, 48, 49, 50, 51, 52], \"y\": [1615.0, 3288.0, 4911.0, 6488.0, 8096.0, 9626.0, 11184.0, 12606.0, 14132.0, 15586.0, 17011.0, 18489.0, 20016.0, 21579.0, 23180.0, 24806.0, 26469.0, 28140.0, 29638.0, 31165.0, 32591.0, 34079.0, 35588.0, 37131.0, 38525.0, 39982.0, 41370.0, 42846.0, 44270.0, 45653.0, 47082.0, 48511.0, 49948.0, 51316.0, 52750.0, 54220.0, 55636.0, 57123.0, 58533.0, 60023.0, 61551.0, 63051.0, 64584.0, 66025.0, 67596.0, 69213.0, 70912.0, 72678.0, 74420.0, 76101.0, 77733.0, 79354.0]}, {\"line\": {\"color\": \"red\"}, \"name\": \"expected Value\", \"type\": \"scatter\", \"x\": [1, 2, 3, 4, 5, 6, 7, 8, 9, 10, 11, 12, 13, 14, 15, 16, 17, 18, 19, 20, 21, 22, 23, 24, 25, 26, 27, 28, 29, 30, 31, 32, 33, 34, 35, 36, 37, 38, 39, 40, 41, 42, 43, 44, 45, 46, 47, 48, 49, 50, 51, 52], \"y\": [78281.6, 78281.6, 78281.6, 78281.6, 78281.6, 78281.6, 78281.6, 78281.6, 78281.6, 78281.6, 78281.6, 78281.6, 78281.6, 78281.6, 78281.6, 78281.6, 78281.6, 78281.6, 78281.6, 78281.6, 78281.6, 78281.6, 78281.6, 78281.6, 78281.6, 78281.6, 78281.6, 78281.6, 78281.6, 78281.6, 78281.6, 78281.6, 78281.6, 78281.6, 78281.6, 78281.6, 78281.6, 78281.6, 78281.6, 78281.6, 78281.6, 78281.6, 78281.6, 78281.6, 78281.6, 78281.6, 78281.6, 78281.6, 78281.6, 78281.6, 78281.6, 78281.6]}, {\"fill\": \"toself\", \"fillcolor\": \"red\", \"line\": {\"color\": \"red\"}, \"name\": \"Varianzbereich\", \"opacity\": 0.2, \"type\": \"scatter\", \"x\": [1, 2, 3, 4, 5, 6, 7, 8, 9, 10, 11, 12, 13, 14, 15, 16, 17, 18, 19, 20, 21, 22, 23, 24, 25, 26, 27, 28, 29, 30, 31, 32, 33, 34, 35, 36, 37, 38, 39, 40, 41, 42, 43, 44, 45, 46, 47, 48, 49, 50, 51, 52, 52, 51, 50, 49, 48, 47, 46, 45, 44, 43, 42, 41, 40, 39, 38, 37, 36, 35, 34, 33, 32, 31, 30, 29, 28, 27, 26, 25, 24, 23, 22, 21, 20, 19, 18, 17, 16, 15, 14, 13, 12, 11, 10, 9, 8, 7, 6, 5, 4, 3, 2, 1], \"y\": [80295.73859999754, 80295.73859999754, 80295.73859999754, 80295.73859999754, 80295.73859999754, 80295.73859999754, 80295.73859999754, 80295.73859999754, 80295.73859999754, 80295.73859999754, 80295.73859999754, 80295.73859999754, 80295.73859999754, 80295.73859999754, 80295.73859999754, 80295.73859999754, 80295.73859999754, 80295.73859999754, 80295.73859999754, 80295.73859999754, 80295.73859999754, 80295.73859999754, 80295.73859999754, 80295.73859999754, 80295.73859999754, 80295.73859999754, 80295.73859999754, 80295.73859999754, 80295.73859999754, 80295.73859999754, 80295.73859999754, 80295.73859999754, 80295.73859999754, 80295.73859999754, 80295.73859999754, 80295.73859999754, 80295.73859999754, 80295.73859999754, 80295.73859999754, 80295.73859999754, 80295.73859999754, 80295.73859999754, 80295.73859999754, 80295.73859999754, 80295.73859999754, 80295.73859999754, 80295.73859999754, 80295.73859999754, 80295.73859999754, 80295.73859999754, 80295.73859999754, 80295.73859999754, 76267.46140000247, 76267.46140000247, 76267.46140000247, 76267.46140000247, 76267.46140000247, 76267.46140000247, 76267.46140000247, 76267.46140000247, 76267.46140000247, 76267.46140000247, 76267.46140000247, 76267.46140000247, 76267.46140000247, 76267.46140000247, 76267.46140000247, 76267.46140000247, 76267.46140000247, 76267.46140000247, 76267.46140000247, 76267.46140000247, 76267.46140000247, 76267.46140000247, 76267.46140000247, 76267.46140000247, 76267.46140000247, 76267.46140000247, 76267.46140000247, 76267.46140000247, 76267.46140000247, 76267.46140000247, 76267.46140000247, 76267.46140000247, 76267.46140000247, 76267.46140000247, 76267.46140000247, 76267.46140000247, 76267.46140000247, 76267.46140000247, 76267.46140000247, 76267.46140000247, 76267.46140000247, 76267.46140000247, 76267.46140000247, 76267.46140000247, 76267.46140000247, 76267.46140000247, 76267.46140000247, 76267.46140000247, 76267.46140000247, 76267.46140000247, 76267.46140000247, 76267.46140000247]}],                        {\"template\": {\"data\": {\"bar\": [{\"error_x\": {\"color\": \"#2a3f5f\"}, \"error_y\": {\"color\": \"#2a3f5f\"}, \"marker\": {\"line\": {\"color\": \"#E5ECF6\", \"width\": 0.5}}, \"type\": \"bar\"}], \"barpolar\": [{\"marker\": {\"line\": {\"color\": \"#E5ECF6\", \"width\": 0.5}}, \"type\": \"barpolar\"}], \"carpet\": [{\"aaxis\": {\"endlinecolor\": \"#2a3f5f\", \"gridcolor\": \"white\", \"linecolor\": \"white\", \"minorgridcolor\": \"white\", \"startlinecolor\": \"#2a3f5f\"}, \"baxis\": {\"endlinecolor\": \"#2a3f5f\", \"gridcolor\": \"white\", \"linecolor\": \"white\", \"minorgridcolor\": \"white\", \"startlinecolor\": \"#2a3f5f\"}, \"type\": \"carpet\"}], \"choropleth\": [{\"colorbar\": {\"outlinewidth\": 0, \"ticks\": \"\"}, \"type\": \"choropleth\"}], \"contour\": [{\"colorbar\": {\"outlinewidth\": 0, \"ticks\": \"\"}, \"colorscale\": [[0.0, \"#0d0887\"], [0.1111111111111111, \"#46039f\"], [0.2222222222222222, \"#7201a8\"], [0.3333333333333333, \"#9c179e\"], [0.4444444444444444, \"#bd3786\"], [0.5555555555555556, \"#d8576b\"], [0.6666666666666666, \"#ed7953\"], [0.7777777777777778, \"#fb9f3a\"], [0.8888888888888888, \"#fdca26\"], [1.0, \"#f0f921\"]], \"type\": \"contour\"}], \"contourcarpet\": [{\"colorbar\": {\"outlinewidth\": 0, \"ticks\": \"\"}, \"type\": \"contourcarpet\"}], \"heatmap\": [{\"colorbar\": {\"outlinewidth\": 0, \"ticks\": \"\"}, \"colorscale\": [[0.0, \"#0d0887\"], [0.1111111111111111, \"#46039f\"], [0.2222222222222222, \"#7201a8\"], [0.3333333333333333, \"#9c179e\"], [0.4444444444444444, \"#bd3786\"], [0.5555555555555556, \"#d8576b\"], [0.6666666666666666, \"#ed7953\"], [0.7777777777777778, \"#fb9f3a\"], [0.8888888888888888, \"#fdca26\"], [1.0, \"#f0f921\"]], \"type\": \"heatmap\"}], \"heatmapgl\": [{\"colorbar\": {\"outlinewidth\": 0, \"ticks\": \"\"}, \"colorscale\": [[0.0, \"#0d0887\"], [0.1111111111111111, \"#46039f\"], [0.2222222222222222, \"#7201a8\"], [0.3333333333333333, \"#9c179e\"], [0.4444444444444444, \"#bd3786\"], [0.5555555555555556, \"#d8576b\"], [0.6666666666666666, \"#ed7953\"], [0.7777777777777778, \"#fb9f3a\"], [0.8888888888888888, \"#fdca26\"], [1.0, \"#f0f921\"]], \"type\": \"heatmapgl\"}], \"histogram\": [{\"marker\": {\"colorbar\": {\"outlinewidth\": 0, \"ticks\": \"\"}}, \"type\": \"histogram\"}], \"histogram2d\": [{\"colorbar\": {\"outlinewidth\": 0, \"ticks\": \"\"}, \"colorscale\": [[0.0, \"#0d0887\"], [0.1111111111111111, \"#46039f\"], [0.2222222222222222, \"#7201a8\"], [0.3333333333333333, \"#9c179e\"], [0.4444444444444444, \"#bd3786\"], [0.5555555555555556, \"#d8576b\"], [0.6666666666666666, \"#ed7953\"], [0.7777777777777778, \"#fb9f3a\"], [0.8888888888888888, \"#fdca26\"], [1.0, \"#f0f921\"]], \"type\": \"histogram2d\"}], \"histogram2dcontour\": [{\"colorbar\": {\"outlinewidth\": 0, \"ticks\": \"\"}, \"colorscale\": [[0.0, \"#0d0887\"], [0.1111111111111111, \"#46039f\"], [0.2222222222222222, \"#7201a8\"], [0.3333333333333333, \"#9c179e\"], [0.4444444444444444, \"#bd3786\"], [0.5555555555555556, \"#d8576b\"], [0.6666666666666666, \"#ed7953\"], [0.7777777777777778, \"#fb9f3a\"], [0.8888888888888888, \"#fdca26\"], [1.0, \"#f0f921\"]], \"type\": \"histogram2dcontour\"}], \"mesh3d\": [{\"colorbar\": {\"outlinewidth\": 0, \"ticks\": \"\"}, \"type\": \"mesh3d\"}], \"parcoords\": [{\"line\": {\"colorbar\": {\"outlinewidth\": 0, \"ticks\": \"\"}}, \"type\": \"parcoords\"}], \"pie\": [{\"automargin\": true, \"type\": \"pie\"}], \"scatter\": [{\"marker\": {\"colorbar\": {\"outlinewidth\": 0, \"ticks\": \"\"}}, \"type\": \"scatter\"}], \"scatter3d\": [{\"line\": {\"colorbar\": {\"outlinewidth\": 0, \"ticks\": \"\"}}, \"marker\": {\"colorbar\": {\"outlinewidth\": 0, \"ticks\": \"\"}}, \"type\": \"scatter3d\"}], \"scattercarpet\": [{\"marker\": {\"colorbar\": {\"outlinewidth\": 0, \"ticks\": \"\"}}, \"type\": \"scattercarpet\"}], \"scattergeo\": [{\"marker\": {\"colorbar\": {\"outlinewidth\": 0, \"ticks\": \"\"}}, \"type\": \"scattergeo\"}], \"scattergl\": [{\"marker\": {\"colorbar\": {\"outlinewidth\": 0, \"ticks\": \"\"}}, \"type\": \"scattergl\"}], \"scattermapbox\": [{\"marker\": {\"colorbar\": {\"outlinewidth\": 0, \"ticks\": \"\"}}, \"type\": \"scattermapbox\"}], \"scatterpolar\": [{\"marker\": {\"colorbar\": {\"outlinewidth\": 0, \"ticks\": \"\"}}, \"type\": \"scatterpolar\"}], \"scatterpolargl\": [{\"marker\": {\"colorbar\": {\"outlinewidth\": 0, \"ticks\": \"\"}}, \"type\": \"scatterpolargl\"}], \"scatterternary\": [{\"marker\": {\"colorbar\": {\"outlinewidth\": 0, \"ticks\": \"\"}}, \"type\": \"scatterternary\"}], \"surface\": [{\"colorbar\": {\"outlinewidth\": 0, \"ticks\": \"\"}, \"colorscale\": [[0.0, \"#0d0887\"], [0.1111111111111111, \"#46039f\"], [0.2222222222222222, \"#7201a8\"], [0.3333333333333333, \"#9c179e\"], [0.4444444444444444, \"#bd3786\"], [0.5555555555555556, \"#d8576b\"], [0.6666666666666666, \"#ed7953\"], [0.7777777777777778, \"#fb9f3a\"], [0.8888888888888888, \"#fdca26\"], [1.0, \"#f0f921\"]], \"type\": \"surface\"}], \"table\": [{\"cells\": {\"fill\": {\"color\": \"#EBF0F8\"}, \"line\": {\"color\": \"white\"}}, \"header\": {\"fill\": {\"color\": \"#C8D4E3\"}, \"line\": {\"color\": \"white\"}}, \"type\": \"table\"}]}, \"layout\": {\"annotationdefaults\": {\"arrowcolor\": \"#2a3f5f\", \"arrowhead\": 0, \"arrowwidth\": 1}, \"autotypenumbers\": \"strict\", \"coloraxis\": {\"colorbar\": {\"outlinewidth\": 0, \"ticks\": \"\"}}, \"colorscale\": {\"diverging\": [[0, \"#8e0152\"], [0.1, \"#c51b7d\"], [0.2, \"#de77ae\"], [0.3, \"#f1b6da\"], [0.4, \"#fde0ef\"], [0.5, \"#f7f7f7\"], [0.6, \"#e6f5d0\"], [0.7, \"#b8e186\"], [0.8, \"#7fbc41\"], [0.9, \"#4d9221\"], [1, \"#276419\"]], \"sequential\": [[0.0, \"#0d0887\"], [0.1111111111111111, \"#46039f\"], [0.2222222222222222, \"#7201a8\"], [0.3333333333333333, \"#9c179e\"], [0.4444444444444444, \"#bd3786\"], [0.5555555555555556, \"#d8576b\"], [0.6666666666666666, \"#ed7953\"], [0.7777777777777778, \"#fb9f3a\"], [0.8888888888888888, \"#fdca26\"], [1.0, \"#f0f921\"]], \"sequentialminus\": [[0.0, \"#0d0887\"], [0.1111111111111111, \"#46039f\"], [0.2222222222222222, \"#7201a8\"], [0.3333333333333333, \"#9c179e\"], [0.4444444444444444, \"#bd3786\"], [0.5555555555555556, \"#d8576b\"], [0.6666666666666666, \"#ed7953\"], [0.7777777777777778, \"#fb9f3a\"], [0.8888888888888888, \"#fdca26\"], [1.0, \"#f0f921\"]]}, \"colorway\": [\"#636efa\", \"#EF553B\", \"#00cc96\", \"#ab63fa\", \"#FFA15A\", \"#19d3f3\", \"#FF6692\", \"#B6E880\", \"#FF97FF\", \"#FECB52\"], \"font\": {\"color\": \"#2a3f5f\"}, \"geo\": {\"bgcolor\": \"white\", \"lakecolor\": \"white\", \"landcolor\": \"#E5ECF6\", \"showlakes\": true, \"showland\": true, \"subunitcolor\": \"white\"}, \"hoverlabel\": {\"align\": \"left\"}, \"hovermode\": \"closest\", \"mapbox\": {\"style\": \"light\"}, \"paper_bgcolor\": \"white\", \"plot_bgcolor\": \"#E5ECF6\", \"polar\": {\"angularaxis\": {\"gridcolor\": \"white\", \"linecolor\": \"white\", \"ticks\": \"\"}, \"bgcolor\": \"#E5ECF6\", \"radialaxis\": {\"gridcolor\": \"white\", \"linecolor\": \"white\", \"ticks\": \"\"}}, \"scene\": {\"xaxis\": {\"backgroundcolor\": \"#E5ECF6\", \"gridcolor\": \"white\", \"gridwidth\": 2, \"linecolor\": \"white\", \"showbackground\": true, \"ticks\": \"\", \"zerolinecolor\": \"white\"}, \"yaxis\": {\"backgroundcolor\": \"#E5ECF6\", \"gridcolor\": \"white\", \"gridwidth\": 2, \"linecolor\": \"white\", \"showbackground\": true, \"ticks\": \"\", \"zerolinecolor\": \"white\"}, \"zaxis\": {\"backgroundcolor\": \"#E5ECF6\", \"gridcolor\": \"white\", \"gridwidth\": 2, \"linecolor\": \"white\", \"showbackground\": true, \"ticks\": \"\", \"zerolinecolor\": \"white\"}}, \"shapedefaults\": {\"line\": {\"color\": \"#2a3f5f\"}}, \"ternary\": {\"aaxis\": {\"gridcolor\": \"white\", \"linecolor\": \"white\", \"ticks\": \"\"}, \"baxis\": {\"gridcolor\": \"white\", \"linecolor\": \"white\", \"ticks\": \"\"}, \"bgcolor\": \"#E5ECF6\", \"caxis\": {\"gridcolor\": \"white\", \"linecolor\": \"white\", \"ticks\": \"\"}}, \"title\": {\"x\": 0.05}, \"xaxis\": {\"automargin\": true, \"gridcolor\": \"white\", \"linecolor\": \"white\", \"ticks\": \"\", \"title\": {\"standoff\": 15}, \"zerolinecolor\": \"white\", \"zerolinewidth\": 2}, \"yaxis\": {\"automargin\": true, \"gridcolor\": \"white\", \"linecolor\": \"white\", \"ticks\": \"\", \"title\": {\"standoff\": 15}, \"zerolinecolor\": \"white\", \"zerolinewidth\": 2}}}, \"title\": {\"text\": \"Deaths  in 2021 between week 1 and week 52\"}, \"xaxis\": {\"title\": {\"text\": \"Week\"}}, \"yaxis\": {\"title\": {\"text\": \"Deaths\"}}},                        {\"responsive\": true}                    ).then(function(){\n",
       "                            \n",
       "var gd = document.getElementById('51d024e5-f85d-40f2-9c9e-a9a84b164a23');\n",
       "var x = new MutationObserver(function (mutations, observer) {{\n",
       "        var display = window.getComputedStyle(gd).display;\n",
       "        if (!display || display === 'none') {{\n",
       "            console.log([gd, 'removed!']);\n",
       "            Plotly.purge(gd);\n",
       "            observer.disconnect();\n",
       "        }}\n",
       "}});\n",
       "\n",
       "// Listen for the removal of the full notebook cells\n",
       "var notebookContainer = gd.closest('#notebook-container');\n",
       "if (notebookContainer) {{\n",
       "    x.observe(notebookContainer, {childList: true});\n",
       "}}\n",
       "\n",
       "// Listen for the clearing of the current output cell\n",
       "var outputEl = gd.closest('.output');\n",
       "if (outputEl) {{\n",
       "    x.observe(outputEl, {childList: true});\n",
       "}}\n",
       "\n",
       "                        })                };                });            </script>        </div>"
      ]
     },
     "metadata": {},
     "output_type": "display_data"
    }
   ],
   "execution_count": 125
  },
  {
   "metadata": {
    "ExecuteTime": {
     "end_time": "2024-05-15T08:23:17.472408Z",
     "start_time": "2024-05-15T08:23:17.291409Z"
    }
   },
   "cell_type": "code",
   "source": [
    "fig_old = go.Figure()\n",
    "fig_old.add_trace(go.Scatter(x = data_filtered_old[\"Week\"], y = data_filtered_old[\"Value\"], name = \"old Cases per Week\", line = dict(color = 'blue', width = 1,dash = 'dot')))\n",
    "fig_old.add_trace(go.Scatter(x = data_filtered_old[\"Week\"], y = np.cumsum(data_filtered_old[\"Value\"]), name = \"old Cases Total\", line = dict(color = 'blue', width = 1)))\n",
    "\n",
    "\n",
    "\n",
    "#fig_old.add_hline(y=expected_value_per_age_group.loc[\"60-79\", \"Value\"], line_color = 'red', line_width = 1, name = \"Expected old Cases Total\")\n",
    "fig_old.add_trace(go.Scatter(x = data_filtered_semi[\"Week\"],y = np.repeat(expected_value_per_age_group.loc[\"60-79\",\"Value\"],kalenderwochen[1]-kalenderwochen[0]+1), name = \"expected Value\", line = dict(color = 'red')))\n",
    "\n",
    "#fig_old.add_hrect(y0=expected_value_per_age_group.loc[\"60-79\",\"Value_Low\"],y1=expected_value_per_age_group.loc[\"60-79\",\"Value_High\"],fillcolor = \"red\", line_width = 0, opacity = 0.2)\n",
    "fig_old.add_trace(go.Scatter(\n",
    "    x = data_filtered_old[\"Week\"].tolist() + data_filtered_old[\"Week\"].tolist()[::-1] ,\n",
    "    y = [expected_value_per_age_group.loc[\"60-79\",\"Value_High\"]]*(kalenderwochen[1]-kalenderwochen[0]+1) + [expected_value_per_age_group.loc[\"60-79\",\"Value_Low\"]]*(kalenderwochen[1]-kalenderwochen[0]+1),\n",
    "    fill = 'toself',\n",
    "    fillcolor = \"red\",\n",
    "    line_color = \"red\",\n",
    "    name = \"Varianzbereich\",\n",
    "    opacity=0.2\n",
    "))\n",
    "\n",
    "fig_old.update_layout(title = f\"Deaths  in {year} between week {kalenderwochen[0]} and week {kalenderwochen[1]}\",\n",
    "                        xaxis_title = \"Week\",\n",
    "                        yaxis_title = \"Deaths\")\n",
    "\n",
    "if show_events:\n",
    "    for i in happenings_filtered.index:\n",
    "        #print(happenings_filtered.loc[i,\"Week\"])\n",
    "        #print(happenings_filtered.loc[i, \"Title\"])\n",
    "        fig_old.add_vline(x = happenings_filtered.loc[i,\"Week\"], line_width = 2, line_color = \"green\", line_dash = \"dash\")\n",
    "\n",
    "fig_old.show()"
   ],
   "id": "73aa903ecf79154f",
   "outputs": [
    {
     "data": {
      "application/vnd.plotly.v1+json": {
       "config": {
        "plotlyServerURL": "https://plot.ly"
       },
       "data": [
        {
         "line": {
          "color": "blue",
          "dash": "dot",
          "width": 1
         },
         "name": "old Cases per Week",
         "type": "scatter",
         "x": [
          1,
          2,
          3,
          4,
          5,
          6,
          7,
          8,
          9,
          10,
          11,
          12,
          13,
          14,
          15,
          16,
          17,
          18,
          19,
          20,
          21,
          22,
          23,
          24,
          25,
          26,
          27,
          28,
          29,
          30,
          31,
          32,
          33,
          34,
          35,
          36,
          37,
          38,
          39,
          40,
          41,
          42,
          43,
          44,
          45,
          46,
          47,
          48,
          49,
          50,
          51,
          52
         ],
         "y": [
          7489.0,
          7464.0,
          7370.0,
          6985.0,
          6876.0,
          6721.0,
          6593.0,
          6315.0,
          6026.0,
          6206.0,
          6038.0,
          6230.0,
          6234.0,
          6268.0,
          6498.0,
          6648.0,
          6705.0,
          6600.0,
          6296.0,
          6093.0,
          5814.0,
          5996.0,
          5806.0,
          6253.0,
          5669.0,
          5569.0,
          5671.0,
          5932.0,
          5759.0,
          5702.0,
          5580.0,
          5667.0,
          5681.0,
          5636.0,
          5661.0,
          6069.0,
          5783.0,
          5933.0,
          5917.0,
          5797.0,
          6060.0,
          6314.0,
          6366.0,
          6413.0,
          6557.0,
          7002.0,
          7359.0,
          7629.0,
          7546.0,
          7407.0,
          7140.0,
          7096.0
         ]
        },
        {
         "line": {
          "color": "blue",
          "width": 1
         },
         "name": "old Cases Total",
         "type": "scatter",
         "x": [
          1,
          2,
          3,
          4,
          5,
          6,
          7,
          8,
          9,
          10,
          11,
          12,
          13,
          14,
          15,
          16,
          17,
          18,
          19,
          20,
          21,
          22,
          23,
          24,
          25,
          26,
          27,
          28,
          29,
          30,
          31,
          32,
          33,
          34,
          35,
          36,
          37,
          38,
          39,
          40,
          41,
          42,
          43,
          44,
          45,
          46,
          47,
          48,
          49,
          50,
          51,
          52
         ],
         "y": [
          7489.0,
          14953.0,
          22323.0,
          29308.0,
          36184.0,
          42905.0,
          49498.0,
          55813.0,
          61839.0,
          68045.0,
          74083.0,
          80313.0,
          86547.0,
          92815.0,
          99313.0,
          105961.0,
          112666.0,
          119266.0,
          125562.0,
          131655.0,
          137469.0,
          143465.0,
          149271.0,
          155524.0,
          161193.0,
          166762.0,
          172433.0,
          178365.0,
          184124.0,
          189826.0,
          195406.0,
          201073.0,
          206754.0,
          212390.0,
          218051.0,
          224120.0,
          229903.0,
          235836.0,
          241753.0,
          247550.0,
          253610.0,
          259924.0,
          266290.0,
          272703.0,
          279260.0,
          286262.0,
          293621.0,
          301250.0,
          308796.0,
          316203.0,
          323343.0,
          330439.0
         ]
        },
        {
         "line": {
          "color": "red"
         },
         "name": "expected Value",
         "type": "scatter",
         "x": [
          1,
          2,
          3,
          4,
          5,
          6,
          7,
          8,
          9,
          10,
          11,
          12,
          13,
          14,
          15,
          16,
          17,
          18,
          19,
          20,
          21,
          22,
          23,
          24,
          25,
          26,
          27,
          28,
          29,
          30,
          31,
          32,
          33,
          34,
          35,
          36,
          37,
          38,
          39,
          40,
          41,
          42,
          43,
          44,
          45,
          46,
          47,
          48,
          49,
          50,
          51,
          52
         ],
         "y": [
          321868.4,
          321868.4,
          321868.4,
          321868.4,
          321868.4,
          321868.4,
          321868.4,
          321868.4,
          321868.4,
          321868.4,
          321868.4,
          321868.4,
          321868.4,
          321868.4,
          321868.4,
          321868.4,
          321868.4,
          321868.4,
          321868.4,
          321868.4,
          321868.4,
          321868.4,
          321868.4,
          321868.4,
          321868.4,
          321868.4,
          321868.4,
          321868.4,
          321868.4,
          321868.4,
          321868.4,
          321868.4,
          321868.4,
          321868.4,
          321868.4,
          321868.4,
          321868.4,
          321868.4,
          321868.4,
          321868.4,
          321868.4,
          321868.4,
          321868.4,
          321868.4,
          321868.4,
          321868.4,
          321868.4,
          321868.4,
          321868.4,
          321868.4,
          321868.4,
          321868.4
         ]
        },
        {
         "fill": "toself",
         "fillcolor": "red",
         "line": {
          "color": "red"
         },
         "name": "Varianzbereich",
         "opacity": 0.2,
         "type": "scatter",
         "x": [
          1,
          2,
          3,
          4,
          5,
          6,
          7,
          8,
          9,
          10,
          11,
          12,
          13,
          14,
          15,
          16,
          17,
          18,
          19,
          20,
          21,
          22,
          23,
          24,
          25,
          26,
          27,
          28,
          29,
          30,
          31,
          32,
          33,
          34,
          35,
          36,
          37,
          38,
          39,
          40,
          41,
          42,
          43,
          44,
          45,
          46,
          47,
          48,
          49,
          50,
          51,
          52,
          52,
          51,
          50,
          49,
          48,
          47,
          46,
          45,
          44,
          43,
          42,
          41,
          40,
          39,
          38,
          37,
          36,
          35,
          34,
          33,
          32,
          31,
          30,
          29,
          28,
          27,
          26,
          25,
          24,
          23,
          22,
          21,
          20,
          19,
          18,
          17,
          16,
          15,
          14,
          13,
          12,
          11,
          10,
          9,
          8,
          7,
          6,
          5,
          4,
          3,
          2,
          1
         ],
         "y": [
          326426.5995678119,
          326426.5995678119,
          326426.5995678119,
          326426.5995678119,
          326426.5995678119,
          326426.5995678119,
          326426.5995678119,
          326426.5995678119,
          326426.5995678119,
          326426.5995678119,
          326426.5995678119,
          326426.5995678119,
          326426.5995678119,
          326426.5995678119,
          326426.5995678119,
          326426.5995678119,
          326426.5995678119,
          326426.5995678119,
          326426.5995678119,
          326426.5995678119,
          326426.5995678119,
          326426.5995678119,
          326426.5995678119,
          326426.5995678119,
          326426.5995678119,
          326426.5995678119,
          326426.5995678119,
          326426.5995678119,
          326426.5995678119,
          326426.5995678119,
          326426.5995678119,
          326426.5995678119,
          326426.5995678119,
          326426.5995678119,
          326426.5995678119,
          326426.5995678119,
          326426.5995678119,
          326426.5995678119,
          326426.5995678119,
          326426.5995678119,
          326426.5995678119,
          326426.5995678119,
          326426.5995678119,
          326426.5995678119,
          326426.5995678119,
          326426.5995678119,
          326426.5995678119,
          326426.5995678119,
          326426.5995678119,
          326426.5995678119,
          326426.5995678119,
          326426.5995678119,
          317310.20043218817,
          317310.20043218817,
          317310.20043218817,
          317310.20043218817,
          317310.20043218817,
          317310.20043218817,
          317310.20043218817,
          317310.20043218817,
          317310.20043218817,
          317310.20043218817,
          317310.20043218817,
          317310.20043218817,
          317310.20043218817,
          317310.20043218817,
          317310.20043218817,
          317310.20043218817,
          317310.20043218817,
          317310.20043218817,
          317310.20043218817,
          317310.20043218817,
          317310.20043218817,
          317310.20043218817,
          317310.20043218817,
          317310.20043218817,
          317310.20043218817,
          317310.20043218817,
          317310.20043218817,
          317310.20043218817,
          317310.20043218817,
          317310.20043218817,
          317310.20043218817,
          317310.20043218817,
          317310.20043218817,
          317310.20043218817,
          317310.20043218817,
          317310.20043218817,
          317310.20043218817,
          317310.20043218817,
          317310.20043218817,
          317310.20043218817,
          317310.20043218817,
          317310.20043218817,
          317310.20043218817,
          317310.20043218817,
          317310.20043218817,
          317310.20043218817,
          317310.20043218817,
          317310.20043218817,
          317310.20043218817,
          317310.20043218817,
          317310.20043218817,
          317310.20043218817
         ]
        }
       ],
       "layout": {
        "template": {
         "data": {
          "bar": [
           {
            "error_x": {
             "color": "#2a3f5f"
            },
            "error_y": {
             "color": "#2a3f5f"
            },
            "marker": {
             "line": {
              "color": "#E5ECF6",
              "width": 0.5
             }
            },
            "type": "bar"
           }
          ],
          "barpolar": [
           {
            "marker": {
             "line": {
              "color": "#E5ECF6",
              "width": 0.5
             }
            },
            "type": "barpolar"
           }
          ],
          "carpet": [
           {
            "aaxis": {
             "endlinecolor": "#2a3f5f",
             "gridcolor": "white",
             "linecolor": "white",
             "minorgridcolor": "white",
             "startlinecolor": "#2a3f5f"
            },
            "baxis": {
             "endlinecolor": "#2a3f5f",
             "gridcolor": "white",
             "linecolor": "white",
             "minorgridcolor": "white",
             "startlinecolor": "#2a3f5f"
            },
            "type": "carpet"
           }
          ],
          "choropleth": [
           {
            "colorbar": {
             "outlinewidth": 0,
             "ticks": ""
            },
            "type": "choropleth"
           }
          ],
          "contour": [
           {
            "colorbar": {
             "outlinewidth": 0,
             "ticks": ""
            },
            "colorscale": [
             [
              0.0,
              "#0d0887"
             ],
             [
              0.1111111111111111,
              "#46039f"
             ],
             [
              0.2222222222222222,
              "#7201a8"
             ],
             [
              0.3333333333333333,
              "#9c179e"
             ],
             [
              0.4444444444444444,
              "#bd3786"
             ],
             [
              0.5555555555555556,
              "#d8576b"
             ],
             [
              0.6666666666666666,
              "#ed7953"
             ],
             [
              0.7777777777777778,
              "#fb9f3a"
             ],
             [
              0.8888888888888888,
              "#fdca26"
             ],
             [
              1.0,
              "#f0f921"
             ]
            ],
            "type": "contour"
           }
          ],
          "contourcarpet": [
           {
            "colorbar": {
             "outlinewidth": 0,
             "ticks": ""
            },
            "type": "contourcarpet"
           }
          ],
          "heatmap": [
           {
            "colorbar": {
             "outlinewidth": 0,
             "ticks": ""
            },
            "colorscale": [
             [
              0.0,
              "#0d0887"
             ],
             [
              0.1111111111111111,
              "#46039f"
             ],
             [
              0.2222222222222222,
              "#7201a8"
             ],
             [
              0.3333333333333333,
              "#9c179e"
             ],
             [
              0.4444444444444444,
              "#bd3786"
             ],
             [
              0.5555555555555556,
              "#d8576b"
             ],
             [
              0.6666666666666666,
              "#ed7953"
             ],
             [
              0.7777777777777778,
              "#fb9f3a"
             ],
             [
              0.8888888888888888,
              "#fdca26"
             ],
             [
              1.0,
              "#f0f921"
             ]
            ],
            "type": "heatmap"
           }
          ],
          "heatmapgl": [
           {
            "colorbar": {
             "outlinewidth": 0,
             "ticks": ""
            },
            "colorscale": [
             [
              0.0,
              "#0d0887"
             ],
             [
              0.1111111111111111,
              "#46039f"
             ],
             [
              0.2222222222222222,
              "#7201a8"
             ],
             [
              0.3333333333333333,
              "#9c179e"
             ],
             [
              0.4444444444444444,
              "#bd3786"
             ],
             [
              0.5555555555555556,
              "#d8576b"
             ],
             [
              0.6666666666666666,
              "#ed7953"
             ],
             [
              0.7777777777777778,
              "#fb9f3a"
             ],
             [
              0.8888888888888888,
              "#fdca26"
             ],
             [
              1.0,
              "#f0f921"
             ]
            ],
            "type": "heatmapgl"
           }
          ],
          "histogram": [
           {
            "marker": {
             "colorbar": {
              "outlinewidth": 0,
              "ticks": ""
             }
            },
            "type": "histogram"
           }
          ],
          "histogram2d": [
           {
            "colorbar": {
             "outlinewidth": 0,
             "ticks": ""
            },
            "colorscale": [
             [
              0.0,
              "#0d0887"
             ],
             [
              0.1111111111111111,
              "#46039f"
             ],
             [
              0.2222222222222222,
              "#7201a8"
             ],
             [
              0.3333333333333333,
              "#9c179e"
             ],
             [
              0.4444444444444444,
              "#bd3786"
             ],
             [
              0.5555555555555556,
              "#d8576b"
             ],
             [
              0.6666666666666666,
              "#ed7953"
             ],
             [
              0.7777777777777778,
              "#fb9f3a"
             ],
             [
              0.8888888888888888,
              "#fdca26"
             ],
             [
              1.0,
              "#f0f921"
             ]
            ],
            "type": "histogram2d"
           }
          ],
          "histogram2dcontour": [
           {
            "colorbar": {
             "outlinewidth": 0,
             "ticks": ""
            },
            "colorscale": [
             [
              0.0,
              "#0d0887"
             ],
             [
              0.1111111111111111,
              "#46039f"
             ],
             [
              0.2222222222222222,
              "#7201a8"
             ],
             [
              0.3333333333333333,
              "#9c179e"
             ],
             [
              0.4444444444444444,
              "#bd3786"
             ],
             [
              0.5555555555555556,
              "#d8576b"
             ],
             [
              0.6666666666666666,
              "#ed7953"
             ],
             [
              0.7777777777777778,
              "#fb9f3a"
             ],
             [
              0.8888888888888888,
              "#fdca26"
             ],
             [
              1.0,
              "#f0f921"
             ]
            ],
            "type": "histogram2dcontour"
           }
          ],
          "mesh3d": [
           {
            "colorbar": {
             "outlinewidth": 0,
             "ticks": ""
            },
            "type": "mesh3d"
           }
          ],
          "parcoords": [
           {
            "line": {
             "colorbar": {
              "outlinewidth": 0,
              "ticks": ""
             }
            },
            "type": "parcoords"
           }
          ],
          "pie": [
           {
            "automargin": true,
            "type": "pie"
           }
          ],
          "scatter": [
           {
            "marker": {
             "colorbar": {
              "outlinewidth": 0,
              "ticks": ""
             }
            },
            "type": "scatter"
           }
          ],
          "scatter3d": [
           {
            "line": {
             "colorbar": {
              "outlinewidth": 0,
              "ticks": ""
             }
            },
            "marker": {
             "colorbar": {
              "outlinewidth": 0,
              "ticks": ""
             }
            },
            "type": "scatter3d"
           }
          ],
          "scattercarpet": [
           {
            "marker": {
             "colorbar": {
              "outlinewidth": 0,
              "ticks": ""
             }
            },
            "type": "scattercarpet"
           }
          ],
          "scattergeo": [
           {
            "marker": {
             "colorbar": {
              "outlinewidth": 0,
              "ticks": ""
             }
            },
            "type": "scattergeo"
           }
          ],
          "scattergl": [
           {
            "marker": {
             "colorbar": {
              "outlinewidth": 0,
              "ticks": ""
             }
            },
            "type": "scattergl"
           }
          ],
          "scattermapbox": [
           {
            "marker": {
             "colorbar": {
              "outlinewidth": 0,
              "ticks": ""
             }
            },
            "type": "scattermapbox"
           }
          ],
          "scatterpolar": [
           {
            "marker": {
             "colorbar": {
              "outlinewidth": 0,
              "ticks": ""
             }
            },
            "type": "scatterpolar"
           }
          ],
          "scatterpolargl": [
           {
            "marker": {
             "colorbar": {
              "outlinewidth": 0,
              "ticks": ""
             }
            },
            "type": "scatterpolargl"
           }
          ],
          "scatterternary": [
           {
            "marker": {
             "colorbar": {
              "outlinewidth": 0,
              "ticks": ""
             }
            },
            "type": "scatterternary"
           }
          ],
          "surface": [
           {
            "colorbar": {
             "outlinewidth": 0,
             "ticks": ""
            },
            "colorscale": [
             [
              0.0,
              "#0d0887"
             ],
             [
              0.1111111111111111,
              "#46039f"
             ],
             [
              0.2222222222222222,
              "#7201a8"
             ],
             [
              0.3333333333333333,
              "#9c179e"
             ],
             [
              0.4444444444444444,
              "#bd3786"
             ],
             [
              0.5555555555555556,
              "#d8576b"
             ],
             [
              0.6666666666666666,
              "#ed7953"
             ],
             [
              0.7777777777777778,
              "#fb9f3a"
             ],
             [
              0.8888888888888888,
              "#fdca26"
             ],
             [
              1.0,
              "#f0f921"
             ]
            ],
            "type": "surface"
           }
          ],
          "table": [
           {
            "cells": {
             "fill": {
              "color": "#EBF0F8"
             },
             "line": {
              "color": "white"
             }
            },
            "header": {
             "fill": {
              "color": "#C8D4E3"
             },
             "line": {
              "color": "white"
             }
            },
            "type": "table"
           }
          ]
         },
         "layout": {
          "annotationdefaults": {
           "arrowcolor": "#2a3f5f",
           "arrowhead": 0,
           "arrowwidth": 1
          },
          "autotypenumbers": "strict",
          "coloraxis": {
           "colorbar": {
            "outlinewidth": 0,
            "ticks": ""
           }
          },
          "colorscale": {
           "diverging": [
            [
             0,
             "#8e0152"
            ],
            [
             0.1,
             "#c51b7d"
            ],
            [
             0.2,
             "#de77ae"
            ],
            [
             0.3,
             "#f1b6da"
            ],
            [
             0.4,
             "#fde0ef"
            ],
            [
             0.5,
             "#f7f7f7"
            ],
            [
             0.6,
             "#e6f5d0"
            ],
            [
             0.7,
             "#b8e186"
            ],
            [
             0.8,
             "#7fbc41"
            ],
            [
             0.9,
             "#4d9221"
            ],
            [
             1,
             "#276419"
            ]
           ],
           "sequential": [
            [
             0.0,
             "#0d0887"
            ],
            [
             0.1111111111111111,
             "#46039f"
            ],
            [
             0.2222222222222222,
             "#7201a8"
            ],
            [
             0.3333333333333333,
             "#9c179e"
            ],
            [
             0.4444444444444444,
             "#bd3786"
            ],
            [
             0.5555555555555556,
             "#d8576b"
            ],
            [
             0.6666666666666666,
             "#ed7953"
            ],
            [
             0.7777777777777778,
             "#fb9f3a"
            ],
            [
             0.8888888888888888,
             "#fdca26"
            ],
            [
             1.0,
             "#f0f921"
            ]
           ],
           "sequentialminus": [
            [
             0.0,
             "#0d0887"
            ],
            [
             0.1111111111111111,
             "#46039f"
            ],
            [
             0.2222222222222222,
             "#7201a8"
            ],
            [
             0.3333333333333333,
             "#9c179e"
            ],
            [
             0.4444444444444444,
             "#bd3786"
            ],
            [
             0.5555555555555556,
             "#d8576b"
            ],
            [
             0.6666666666666666,
             "#ed7953"
            ],
            [
             0.7777777777777778,
             "#fb9f3a"
            ],
            [
             0.8888888888888888,
             "#fdca26"
            ],
            [
             1.0,
             "#f0f921"
            ]
           ]
          },
          "colorway": [
           "#636efa",
           "#EF553B",
           "#00cc96",
           "#ab63fa",
           "#FFA15A",
           "#19d3f3",
           "#FF6692",
           "#B6E880",
           "#FF97FF",
           "#FECB52"
          ],
          "font": {
           "color": "#2a3f5f"
          },
          "geo": {
           "bgcolor": "white",
           "lakecolor": "white",
           "landcolor": "#E5ECF6",
           "showlakes": true,
           "showland": true,
           "subunitcolor": "white"
          },
          "hoverlabel": {
           "align": "left"
          },
          "hovermode": "closest",
          "mapbox": {
           "style": "light"
          },
          "paper_bgcolor": "white",
          "plot_bgcolor": "#E5ECF6",
          "polar": {
           "angularaxis": {
            "gridcolor": "white",
            "linecolor": "white",
            "ticks": ""
           },
           "bgcolor": "#E5ECF6",
           "radialaxis": {
            "gridcolor": "white",
            "linecolor": "white",
            "ticks": ""
           }
          },
          "scene": {
           "xaxis": {
            "backgroundcolor": "#E5ECF6",
            "gridcolor": "white",
            "gridwidth": 2,
            "linecolor": "white",
            "showbackground": true,
            "ticks": "",
            "zerolinecolor": "white"
           },
           "yaxis": {
            "backgroundcolor": "#E5ECF6",
            "gridcolor": "white",
            "gridwidth": 2,
            "linecolor": "white",
            "showbackground": true,
            "ticks": "",
            "zerolinecolor": "white"
           },
           "zaxis": {
            "backgroundcolor": "#E5ECF6",
            "gridcolor": "white",
            "gridwidth": 2,
            "linecolor": "white",
            "showbackground": true,
            "ticks": "",
            "zerolinecolor": "white"
           }
          },
          "shapedefaults": {
           "line": {
            "color": "#2a3f5f"
           }
          },
          "ternary": {
           "aaxis": {
            "gridcolor": "white",
            "linecolor": "white",
            "ticks": ""
           },
           "baxis": {
            "gridcolor": "white",
            "linecolor": "white",
            "ticks": ""
           },
           "bgcolor": "#E5ECF6",
           "caxis": {
            "gridcolor": "white",
            "linecolor": "white",
            "ticks": ""
           }
          },
          "title": {
           "x": 0.05
          },
          "xaxis": {
           "automargin": true,
           "gridcolor": "white",
           "linecolor": "white",
           "ticks": "",
           "title": {
            "standoff": 15
           },
           "zerolinecolor": "white",
           "zerolinewidth": 2
          },
          "yaxis": {
           "automargin": true,
           "gridcolor": "white",
           "linecolor": "white",
           "ticks": "",
           "title": {
            "standoff": 15
           },
           "zerolinecolor": "white",
           "zerolinewidth": 2
          }
         }
        },
        "title": {
         "text": "Deaths  in 2021 between week 1 and week 52"
        },
        "xaxis": {
         "title": {
          "text": "Week"
         }
        },
        "yaxis": {
         "title": {
          "text": "Deaths"
         }
        }
       }
      },
      "text/html": [
       "<div>                            <div id=\"149a93cc-37b1-4732-9b62-eaef18115e14\" class=\"plotly-graph-div\" style=\"height:525px; width:100%;\"></div>            <script type=\"text/javascript\">                require([\"plotly\"], function(Plotly) {                    window.PLOTLYENV=window.PLOTLYENV || {};                                    if (document.getElementById(\"149a93cc-37b1-4732-9b62-eaef18115e14\")) {                    Plotly.newPlot(                        \"149a93cc-37b1-4732-9b62-eaef18115e14\",                        [{\"line\": {\"color\": \"blue\", \"dash\": \"dot\", \"width\": 1}, \"name\": \"old Cases per Week\", \"type\": \"scatter\", \"x\": [1, 2, 3, 4, 5, 6, 7, 8, 9, 10, 11, 12, 13, 14, 15, 16, 17, 18, 19, 20, 21, 22, 23, 24, 25, 26, 27, 28, 29, 30, 31, 32, 33, 34, 35, 36, 37, 38, 39, 40, 41, 42, 43, 44, 45, 46, 47, 48, 49, 50, 51, 52], \"y\": [7489.0, 7464.0, 7370.0, 6985.0, 6876.0, 6721.0, 6593.0, 6315.0, 6026.0, 6206.0, 6038.0, 6230.0, 6234.0, 6268.0, 6498.0, 6648.0, 6705.0, 6600.0, 6296.0, 6093.0, 5814.0, 5996.0, 5806.0, 6253.0, 5669.0, 5569.0, 5671.0, 5932.0, 5759.0, 5702.0, 5580.0, 5667.0, 5681.0, 5636.0, 5661.0, 6069.0, 5783.0, 5933.0, 5917.0, 5797.0, 6060.0, 6314.0, 6366.0, 6413.0, 6557.0, 7002.0, 7359.0, 7629.0, 7546.0, 7407.0, 7140.0, 7096.0]}, {\"line\": {\"color\": \"blue\", \"width\": 1}, \"name\": \"old Cases Total\", \"type\": \"scatter\", \"x\": [1, 2, 3, 4, 5, 6, 7, 8, 9, 10, 11, 12, 13, 14, 15, 16, 17, 18, 19, 20, 21, 22, 23, 24, 25, 26, 27, 28, 29, 30, 31, 32, 33, 34, 35, 36, 37, 38, 39, 40, 41, 42, 43, 44, 45, 46, 47, 48, 49, 50, 51, 52], \"y\": [7489.0, 14953.0, 22323.0, 29308.0, 36184.0, 42905.0, 49498.0, 55813.0, 61839.0, 68045.0, 74083.0, 80313.0, 86547.0, 92815.0, 99313.0, 105961.0, 112666.0, 119266.0, 125562.0, 131655.0, 137469.0, 143465.0, 149271.0, 155524.0, 161193.0, 166762.0, 172433.0, 178365.0, 184124.0, 189826.0, 195406.0, 201073.0, 206754.0, 212390.0, 218051.0, 224120.0, 229903.0, 235836.0, 241753.0, 247550.0, 253610.0, 259924.0, 266290.0, 272703.0, 279260.0, 286262.0, 293621.0, 301250.0, 308796.0, 316203.0, 323343.0, 330439.0]}, {\"line\": {\"color\": \"red\"}, \"name\": \"expected Value\", \"type\": \"scatter\", \"x\": [1, 2, 3, 4, 5, 6, 7, 8, 9, 10, 11, 12, 13, 14, 15, 16, 17, 18, 19, 20, 21, 22, 23, 24, 25, 26, 27, 28, 29, 30, 31, 32, 33, 34, 35, 36, 37, 38, 39, 40, 41, 42, 43, 44, 45, 46, 47, 48, 49, 50, 51, 52], \"y\": [321868.4, 321868.4, 321868.4, 321868.4, 321868.4, 321868.4, 321868.4, 321868.4, 321868.4, 321868.4, 321868.4, 321868.4, 321868.4, 321868.4, 321868.4, 321868.4, 321868.4, 321868.4, 321868.4, 321868.4, 321868.4, 321868.4, 321868.4, 321868.4, 321868.4, 321868.4, 321868.4, 321868.4, 321868.4, 321868.4, 321868.4, 321868.4, 321868.4, 321868.4, 321868.4, 321868.4, 321868.4, 321868.4, 321868.4, 321868.4, 321868.4, 321868.4, 321868.4, 321868.4, 321868.4, 321868.4, 321868.4, 321868.4, 321868.4, 321868.4, 321868.4, 321868.4]}, {\"fill\": \"toself\", \"fillcolor\": \"red\", \"line\": {\"color\": \"red\"}, \"name\": \"Varianzbereich\", \"opacity\": 0.2, \"type\": \"scatter\", \"x\": [1, 2, 3, 4, 5, 6, 7, 8, 9, 10, 11, 12, 13, 14, 15, 16, 17, 18, 19, 20, 21, 22, 23, 24, 25, 26, 27, 28, 29, 30, 31, 32, 33, 34, 35, 36, 37, 38, 39, 40, 41, 42, 43, 44, 45, 46, 47, 48, 49, 50, 51, 52, 52, 51, 50, 49, 48, 47, 46, 45, 44, 43, 42, 41, 40, 39, 38, 37, 36, 35, 34, 33, 32, 31, 30, 29, 28, 27, 26, 25, 24, 23, 22, 21, 20, 19, 18, 17, 16, 15, 14, 13, 12, 11, 10, 9, 8, 7, 6, 5, 4, 3, 2, 1], \"y\": [326426.5995678119, 326426.5995678119, 326426.5995678119, 326426.5995678119, 326426.5995678119, 326426.5995678119, 326426.5995678119, 326426.5995678119, 326426.5995678119, 326426.5995678119, 326426.5995678119, 326426.5995678119, 326426.5995678119, 326426.5995678119, 326426.5995678119, 326426.5995678119, 326426.5995678119, 326426.5995678119, 326426.5995678119, 326426.5995678119, 326426.5995678119, 326426.5995678119, 326426.5995678119, 326426.5995678119, 326426.5995678119, 326426.5995678119, 326426.5995678119, 326426.5995678119, 326426.5995678119, 326426.5995678119, 326426.5995678119, 326426.5995678119, 326426.5995678119, 326426.5995678119, 326426.5995678119, 326426.5995678119, 326426.5995678119, 326426.5995678119, 326426.5995678119, 326426.5995678119, 326426.5995678119, 326426.5995678119, 326426.5995678119, 326426.5995678119, 326426.5995678119, 326426.5995678119, 326426.5995678119, 326426.5995678119, 326426.5995678119, 326426.5995678119, 326426.5995678119, 326426.5995678119, 317310.20043218817, 317310.20043218817, 317310.20043218817, 317310.20043218817, 317310.20043218817, 317310.20043218817, 317310.20043218817, 317310.20043218817, 317310.20043218817, 317310.20043218817, 317310.20043218817, 317310.20043218817, 317310.20043218817, 317310.20043218817, 317310.20043218817, 317310.20043218817, 317310.20043218817, 317310.20043218817, 317310.20043218817, 317310.20043218817, 317310.20043218817, 317310.20043218817, 317310.20043218817, 317310.20043218817, 317310.20043218817, 317310.20043218817, 317310.20043218817, 317310.20043218817, 317310.20043218817, 317310.20043218817, 317310.20043218817, 317310.20043218817, 317310.20043218817, 317310.20043218817, 317310.20043218817, 317310.20043218817, 317310.20043218817, 317310.20043218817, 317310.20043218817, 317310.20043218817, 317310.20043218817, 317310.20043218817, 317310.20043218817, 317310.20043218817, 317310.20043218817, 317310.20043218817, 317310.20043218817, 317310.20043218817, 317310.20043218817, 317310.20043218817, 317310.20043218817, 317310.20043218817]}],                        {\"template\": {\"data\": {\"bar\": [{\"error_x\": {\"color\": \"#2a3f5f\"}, \"error_y\": {\"color\": \"#2a3f5f\"}, \"marker\": {\"line\": {\"color\": \"#E5ECF6\", \"width\": 0.5}}, \"type\": \"bar\"}], \"barpolar\": [{\"marker\": {\"line\": {\"color\": \"#E5ECF6\", \"width\": 0.5}}, \"type\": \"barpolar\"}], \"carpet\": [{\"aaxis\": {\"endlinecolor\": \"#2a3f5f\", \"gridcolor\": \"white\", \"linecolor\": \"white\", \"minorgridcolor\": \"white\", \"startlinecolor\": \"#2a3f5f\"}, \"baxis\": {\"endlinecolor\": \"#2a3f5f\", \"gridcolor\": \"white\", \"linecolor\": \"white\", \"minorgridcolor\": \"white\", \"startlinecolor\": \"#2a3f5f\"}, \"type\": \"carpet\"}], \"choropleth\": [{\"colorbar\": {\"outlinewidth\": 0, \"ticks\": \"\"}, \"type\": \"choropleth\"}], \"contour\": [{\"colorbar\": {\"outlinewidth\": 0, \"ticks\": \"\"}, \"colorscale\": [[0.0, \"#0d0887\"], [0.1111111111111111, \"#46039f\"], [0.2222222222222222, \"#7201a8\"], [0.3333333333333333, \"#9c179e\"], [0.4444444444444444, \"#bd3786\"], [0.5555555555555556, \"#d8576b\"], [0.6666666666666666, \"#ed7953\"], [0.7777777777777778, \"#fb9f3a\"], [0.8888888888888888, \"#fdca26\"], [1.0, \"#f0f921\"]], \"type\": \"contour\"}], \"contourcarpet\": [{\"colorbar\": {\"outlinewidth\": 0, \"ticks\": \"\"}, \"type\": \"contourcarpet\"}], \"heatmap\": [{\"colorbar\": {\"outlinewidth\": 0, \"ticks\": \"\"}, \"colorscale\": [[0.0, \"#0d0887\"], [0.1111111111111111, \"#46039f\"], [0.2222222222222222, \"#7201a8\"], [0.3333333333333333, \"#9c179e\"], [0.4444444444444444, \"#bd3786\"], [0.5555555555555556, \"#d8576b\"], [0.6666666666666666, \"#ed7953\"], [0.7777777777777778, \"#fb9f3a\"], [0.8888888888888888, \"#fdca26\"], [1.0, \"#f0f921\"]], \"type\": \"heatmap\"}], \"heatmapgl\": [{\"colorbar\": {\"outlinewidth\": 0, \"ticks\": \"\"}, \"colorscale\": [[0.0, \"#0d0887\"], [0.1111111111111111, \"#46039f\"], [0.2222222222222222, \"#7201a8\"], [0.3333333333333333, \"#9c179e\"], [0.4444444444444444, \"#bd3786\"], [0.5555555555555556, \"#d8576b\"], [0.6666666666666666, \"#ed7953\"], [0.7777777777777778, \"#fb9f3a\"], [0.8888888888888888, \"#fdca26\"], [1.0, \"#f0f921\"]], \"type\": \"heatmapgl\"}], \"histogram\": [{\"marker\": {\"colorbar\": {\"outlinewidth\": 0, \"ticks\": \"\"}}, \"type\": \"histogram\"}], \"histogram2d\": [{\"colorbar\": {\"outlinewidth\": 0, \"ticks\": \"\"}, \"colorscale\": [[0.0, \"#0d0887\"], [0.1111111111111111, \"#46039f\"], [0.2222222222222222, \"#7201a8\"], [0.3333333333333333, \"#9c179e\"], [0.4444444444444444, \"#bd3786\"], [0.5555555555555556, \"#d8576b\"], [0.6666666666666666, \"#ed7953\"], [0.7777777777777778, \"#fb9f3a\"], [0.8888888888888888, \"#fdca26\"], [1.0, \"#f0f921\"]], \"type\": \"histogram2d\"}], \"histogram2dcontour\": [{\"colorbar\": {\"outlinewidth\": 0, \"ticks\": \"\"}, \"colorscale\": [[0.0, \"#0d0887\"], [0.1111111111111111, \"#46039f\"], [0.2222222222222222, \"#7201a8\"], [0.3333333333333333, \"#9c179e\"], [0.4444444444444444, \"#bd3786\"], [0.5555555555555556, \"#d8576b\"], [0.6666666666666666, \"#ed7953\"], [0.7777777777777778, \"#fb9f3a\"], [0.8888888888888888, \"#fdca26\"], [1.0, \"#f0f921\"]], \"type\": \"histogram2dcontour\"}], \"mesh3d\": [{\"colorbar\": {\"outlinewidth\": 0, \"ticks\": \"\"}, \"type\": \"mesh3d\"}], \"parcoords\": [{\"line\": {\"colorbar\": {\"outlinewidth\": 0, \"ticks\": \"\"}}, \"type\": \"parcoords\"}], \"pie\": [{\"automargin\": true, \"type\": \"pie\"}], \"scatter\": [{\"marker\": {\"colorbar\": {\"outlinewidth\": 0, \"ticks\": \"\"}}, \"type\": \"scatter\"}], \"scatter3d\": [{\"line\": {\"colorbar\": {\"outlinewidth\": 0, \"ticks\": \"\"}}, \"marker\": {\"colorbar\": {\"outlinewidth\": 0, \"ticks\": \"\"}}, \"type\": \"scatter3d\"}], \"scattercarpet\": [{\"marker\": {\"colorbar\": {\"outlinewidth\": 0, \"ticks\": \"\"}}, \"type\": \"scattercarpet\"}], \"scattergeo\": [{\"marker\": {\"colorbar\": {\"outlinewidth\": 0, \"ticks\": \"\"}}, \"type\": \"scattergeo\"}], \"scattergl\": [{\"marker\": {\"colorbar\": {\"outlinewidth\": 0, \"ticks\": \"\"}}, \"type\": \"scattergl\"}], \"scattermapbox\": [{\"marker\": {\"colorbar\": {\"outlinewidth\": 0, \"ticks\": \"\"}}, \"type\": \"scattermapbox\"}], \"scatterpolar\": [{\"marker\": {\"colorbar\": {\"outlinewidth\": 0, \"ticks\": \"\"}}, \"type\": \"scatterpolar\"}], \"scatterpolargl\": [{\"marker\": {\"colorbar\": {\"outlinewidth\": 0, \"ticks\": \"\"}}, \"type\": \"scatterpolargl\"}], \"scatterternary\": [{\"marker\": {\"colorbar\": {\"outlinewidth\": 0, \"ticks\": \"\"}}, \"type\": \"scatterternary\"}], \"surface\": [{\"colorbar\": {\"outlinewidth\": 0, \"ticks\": \"\"}, \"colorscale\": [[0.0, \"#0d0887\"], [0.1111111111111111, \"#46039f\"], [0.2222222222222222, \"#7201a8\"], [0.3333333333333333, \"#9c179e\"], [0.4444444444444444, \"#bd3786\"], [0.5555555555555556, \"#d8576b\"], [0.6666666666666666, \"#ed7953\"], [0.7777777777777778, \"#fb9f3a\"], [0.8888888888888888, \"#fdca26\"], [1.0, \"#f0f921\"]], \"type\": \"surface\"}], \"table\": [{\"cells\": {\"fill\": {\"color\": \"#EBF0F8\"}, \"line\": {\"color\": \"white\"}}, \"header\": {\"fill\": {\"color\": \"#C8D4E3\"}, \"line\": {\"color\": \"white\"}}, \"type\": \"table\"}]}, \"layout\": {\"annotationdefaults\": {\"arrowcolor\": \"#2a3f5f\", \"arrowhead\": 0, \"arrowwidth\": 1}, \"autotypenumbers\": \"strict\", \"coloraxis\": {\"colorbar\": {\"outlinewidth\": 0, \"ticks\": \"\"}}, \"colorscale\": {\"diverging\": [[0, \"#8e0152\"], [0.1, \"#c51b7d\"], [0.2, \"#de77ae\"], [0.3, \"#f1b6da\"], [0.4, \"#fde0ef\"], [0.5, \"#f7f7f7\"], [0.6, \"#e6f5d0\"], [0.7, \"#b8e186\"], [0.8, \"#7fbc41\"], [0.9, \"#4d9221\"], [1, \"#276419\"]], \"sequential\": [[0.0, \"#0d0887\"], [0.1111111111111111, \"#46039f\"], [0.2222222222222222, \"#7201a8\"], [0.3333333333333333, \"#9c179e\"], [0.4444444444444444, \"#bd3786\"], [0.5555555555555556, \"#d8576b\"], [0.6666666666666666, \"#ed7953\"], [0.7777777777777778, \"#fb9f3a\"], [0.8888888888888888, \"#fdca26\"], [1.0, \"#f0f921\"]], \"sequentialminus\": [[0.0, \"#0d0887\"], [0.1111111111111111, \"#46039f\"], [0.2222222222222222, \"#7201a8\"], [0.3333333333333333, \"#9c179e\"], [0.4444444444444444, \"#bd3786\"], [0.5555555555555556, \"#d8576b\"], [0.6666666666666666, \"#ed7953\"], [0.7777777777777778, \"#fb9f3a\"], [0.8888888888888888, \"#fdca26\"], [1.0, \"#f0f921\"]]}, \"colorway\": [\"#636efa\", \"#EF553B\", \"#00cc96\", \"#ab63fa\", \"#FFA15A\", \"#19d3f3\", \"#FF6692\", \"#B6E880\", \"#FF97FF\", \"#FECB52\"], \"font\": {\"color\": \"#2a3f5f\"}, \"geo\": {\"bgcolor\": \"white\", \"lakecolor\": \"white\", \"landcolor\": \"#E5ECF6\", \"showlakes\": true, \"showland\": true, \"subunitcolor\": \"white\"}, \"hoverlabel\": {\"align\": \"left\"}, \"hovermode\": \"closest\", \"mapbox\": {\"style\": \"light\"}, \"paper_bgcolor\": \"white\", \"plot_bgcolor\": \"#E5ECF6\", \"polar\": {\"angularaxis\": {\"gridcolor\": \"white\", \"linecolor\": \"white\", \"ticks\": \"\"}, \"bgcolor\": \"#E5ECF6\", \"radialaxis\": {\"gridcolor\": \"white\", \"linecolor\": \"white\", \"ticks\": \"\"}}, \"scene\": {\"xaxis\": {\"backgroundcolor\": \"#E5ECF6\", \"gridcolor\": \"white\", \"gridwidth\": 2, \"linecolor\": \"white\", \"showbackground\": true, \"ticks\": \"\", \"zerolinecolor\": \"white\"}, \"yaxis\": {\"backgroundcolor\": \"#E5ECF6\", \"gridcolor\": \"white\", \"gridwidth\": 2, \"linecolor\": \"white\", \"showbackground\": true, \"ticks\": \"\", \"zerolinecolor\": \"white\"}, \"zaxis\": {\"backgroundcolor\": \"#E5ECF6\", \"gridcolor\": \"white\", \"gridwidth\": 2, \"linecolor\": \"white\", \"showbackground\": true, \"ticks\": \"\", \"zerolinecolor\": \"white\"}}, \"shapedefaults\": {\"line\": {\"color\": \"#2a3f5f\"}}, \"ternary\": {\"aaxis\": {\"gridcolor\": \"white\", \"linecolor\": \"white\", \"ticks\": \"\"}, \"baxis\": {\"gridcolor\": \"white\", \"linecolor\": \"white\", \"ticks\": \"\"}, \"bgcolor\": \"#E5ECF6\", \"caxis\": {\"gridcolor\": \"white\", \"linecolor\": \"white\", \"ticks\": \"\"}}, \"title\": {\"x\": 0.05}, \"xaxis\": {\"automargin\": true, \"gridcolor\": \"white\", \"linecolor\": \"white\", \"ticks\": \"\", \"title\": {\"standoff\": 15}, \"zerolinecolor\": \"white\", \"zerolinewidth\": 2}, \"yaxis\": {\"automargin\": true, \"gridcolor\": \"white\", \"linecolor\": \"white\", \"ticks\": \"\", \"title\": {\"standoff\": 15}, \"zerolinecolor\": \"white\", \"zerolinewidth\": 2}}}, \"title\": {\"text\": \"Deaths  in 2021 between week 1 and week 52\"}, \"xaxis\": {\"title\": {\"text\": \"Week\"}}, \"yaxis\": {\"title\": {\"text\": \"Deaths\"}}},                        {\"responsive\": true}                    ).then(function(){\n",
       "                            \n",
       "var gd = document.getElementById('149a93cc-37b1-4732-9b62-eaef18115e14');\n",
       "var x = new MutationObserver(function (mutations, observer) {{\n",
       "        var display = window.getComputedStyle(gd).display;\n",
       "        if (!display || display === 'none') {{\n",
       "            console.log([gd, 'removed!']);\n",
       "            Plotly.purge(gd);\n",
       "            observer.disconnect();\n",
       "        }}\n",
       "}});\n",
       "\n",
       "// Listen for the removal of the full notebook cells\n",
       "var notebookContainer = gd.closest('#notebook-container');\n",
       "if (notebookContainer) {{\n",
       "    x.observe(notebookContainer, {childList: true});\n",
       "}}\n",
       "\n",
       "// Listen for the clearing of the current output cell\n",
       "var outputEl = gd.closest('.output');\n",
       "if (outputEl) {{\n",
       "    x.observe(outputEl, {childList: true});\n",
       "}}\n",
       "\n",
       "                        })                };                });            </script>        </div>"
      ]
     },
     "metadata": {},
     "output_type": "display_data"
    }
   ],
   "execution_count": 126
  },
  {
   "metadata": {
    "ExecuteTime": {
     "end_time": "2024-05-15T08:23:17.753413Z",
     "start_time": "2024-05-15T08:23:17.480412Z"
    }
   },
   "cell_type": "code",
   "source": [
    "fig_vold = go.Figure()\n",
    "fig_vold.add_trace(go.Scatter(x = data_filtered_vold[\"Week\"], y = data_filtered_vold[\"Value\"], name = \"vold Cases per Week\", line = dict(color = 'blue', width = 1,dash = 'dot')))\n",
    "fig_vold.add_trace(go.Scatter(x = data_filtered_vold[\"Week\"], y = np.cumsum(data_filtered_vold[\"Value\"]), name = \"vold Cases Total\", line = dict(color = 'blue', width = 1)))\n",
    "\n",
    "\n",
    "#fig_vold.add_hline(y=expected_value_per_age_group.loc[\"80+\", \"Value\"], line_color = 'red', line_width = 1, name = \"Expected vold Cases Total\")\n",
    "fig_vold.add_trace(go.Scatter(x = data_filtered_semi[\"Week\"],y = np.repeat(expected_value_per_age_group.loc[\"80+\",\"Value\"],kalenderwochen[1]-kalenderwochen[0]+1), name = \"expected Value\", line = dict(color = 'red')))\n",
    "\n",
    "#fig_vold.add_hrect(y0=expected_value_per_age_group.loc[\"80+\",\"Value_Low\"],y1=expected_value_per_age_group.loc[\"80+\",\"Value_High\"],fillcolor = \"red\", line_width = 0, opacity = 0.2)\n",
    "fig_vold.add_trace(go.Scatter(\n",
    "    x = data_filtered_vold[\"Week\"].tolist() + data_filtered_vold[\"Week\"].tolist()[::-1] ,\n",
    "    y = [expected_value_per_age_group.loc[\"80+\",\"Value_High\"]]*(kalenderwochen[1]-kalenderwochen[0]+1) + [expected_value_per_age_group.loc[\"80+\",\"Value_Low\"]]*(kalenderwochen[1]-kalenderwochen[0]+1),\n",
    "    fill = 'toself',\n",
    "    fillcolor = \"red\",\n",
    "    line_color = \"red\",\n",
    "    name = \"Varianzbereich\",\n",
    "    opacity=0.2\n",
    "))\n",
    "\n",
    "\n",
    "fig_vold.update_layout(title = f\"Deaths in {year} between week {kalenderwochen[0]} and week {kalenderwochen[1]}\",\n",
    "                        xaxis_title = \"Week\",\n",
    "                        yaxis_title = \"Deaths\")\n",
    "\n",
    "if show_events:\n",
    "    for i in happenings_filtered.index:\n",
    "        #print(happenings_filtered.loc[i,\"Week\"])\n",
    "        #print(happenings_filtered.loc[i, \"Title\"])\n",
    "        fig_vold.add_vline(x = happenings_filtered.loc[i,\"Week\"], line_width = 2, line_color = \"green\", line_dash = \"dash\")\n",
    "\n",
    "fig_vold.show()"
   ],
   "id": "286ce64d098b7efc",
   "outputs": [
    {
     "data": {
      "application/vnd.plotly.v1+json": {
       "config": {
        "plotlyServerURL": "https://plot.ly"
       },
       "data": [
        {
         "line": {
          "color": "blue",
          "dash": "dot",
          "width": 1
         },
         "name": "vold Cases per Week",
         "type": "scatter",
         "x": [
          1,
          2,
          3,
          4,
          5,
          6,
          7,
          8,
          9,
          10,
          11,
          12,
          13,
          14,
          15,
          16,
          17,
          18,
          19,
          20,
          21,
          22,
          23,
          24,
          25,
          26,
          27,
          28,
          29,
          30,
          31,
          32,
          33,
          34,
          35,
          36,
          37,
          38,
          39,
          40,
          41,
          42,
          43,
          44,
          45,
          46,
          47,
          48,
          49,
          50,
          51,
          52
         ],
         "y": [
          15658.0,
          15223.0,
          14956.0,
          13913.0,
          13095.0,
          12543.0,
          12192.0,
          11061.0,
          10709.0,
          10771.0,
          10712.0,
          10570.0,
          10571.0,
          10869.0,
          10804.0,
          10801.0,
          11014.0,
          10858.0,
          10612.0,
          9986.0,
          9760.0,
          10504.0,
          9941.0,
          11072.0,
          9910.0,
          9791.0,
          9733.0,
          10052.0,
          10230.0,
          9936.0,
          9819.0,
          10269.0,
          10185.0,
          9967.0,
          10054.0,
          11121.0,
          10653.0,
          10534.0,
          10615.0,
          10729.0,
          11182.0,
          11729.0,
          12272.0,
          12386.0,
          12764.0,
          13513.0,
          14020.0,
          14575.0,
          14561.0,
          13727.0,
          13514.0,
          13276.0
         ]
        },
        {
         "line": {
          "color": "blue",
          "width": 1
         },
         "name": "vold Cases Total",
         "type": "scatter",
         "x": [
          1,
          2,
          3,
          4,
          5,
          6,
          7,
          8,
          9,
          10,
          11,
          12,
          13,
          14,
          15,
          16,
          17,
          18,
          19,
          20,
          21,
          22,
          23,
          24,
          25,
          26,
          27,
          28,
          29,
          30,
          31,
          32,
          33,
          34,
          35,
          36,
          37,
          38,
          39,
          40,
          41,
          42,
          43,
          44,
          45,
          46,
          47,
          48,
          49,
          50,
          51,
          52
         ],
         "y": [
          15658.0,
          30881.0,
          45837.0,
          59750.0,
          72845.0,
          85388.0,
          97580.0,
          108641.0,
          119350.0,
          130121.0,
          140833.0,
          151403.0,
          161974.0,
          172843.0,
          183647.0,
          194448.0,
          205462.0,
          216320.0,
          226932.0,
          236918.0,
          246678.0,
          257182.0,
          267123.0,
          278195.0,
          288105.0,
          297896.0,
          307629.0,
          317681.0,
          327911.0,
          337847.0,
          347666.0,
          357935.0,
          368120.0,
          378087.0,
          388141.0,
          399262.0,
          409915.0,
          420449.0,
          431064.0,
          441793.0,
          452975.0,
          464704.0,
          476976.0,
          489362.0,
          502126.0,
          515639.0,
          529659.0,
          544234.0,
          558795.0,
          572522.0,
          586036.0,
          599312.0
         ]
        },
        {
         "line": {
          "color": "red"
         },
         "name": "expected Value",
         "type": "scatter",
         "x": [
          1,
          2,
          3,
          4,
          5,
          6,
          7,
          8,
          9,
          10,
          11,
          12,
          13,
          14,
          15,
          16,
          17,
          18,
          19,
          20,
          21,
          22,
          23,
          24,
          25,
          26,
          27,
          28,
          29,
          30,
          31,
          32,
          33,
          34,
          35,
          36,
          37,
          38,
          39,
          40,
          41,
          42,
          43,
          44,
          45,
          46,
          47,
          48,
          49,
          50,
          51,
          52
         ],
         "y": [
          529681.8,
          529681.8,
          529681.8,
          529681.8,
          529681.8,
          529681.8,
          529681.8,
          529681.8,
          529681.8,
          529681.8,
          529681.8,
          529681.8,
          529681.8,
          529681.8,
          529681.8,
          529681.8,
          529681.8,
          529681.8,
          529681.8,
          529681.8,
          529681.8,
          529681.8,
          529681.8,
          529681.8,
          529681.8,
          529681.8,
          529681.8,
          529681.8,
          529681.8,
          529681.8,
          529681.8,
          529681.8,
          529681.8,
          529681.8,
          529681.8,
          529681.8,
          529681.8,
          529681.8,
          529681.8,
          529681.8,
          529681.8,
          529681.8,
          529681.8,
          529681.8,
          529681.8,
          529681.8,
          529681.8,
          529681.8,
          529681.8,
          529681.8,
          529681.8,
          529681.8
         ]
        },
        {
         "fill": "toself",
         "fillcolor": "red",
         "line": {
          "color": "red"
         },
         "name": "Varianzbereich",
         "opacity": 0.2,
         "type": "scatter",
         "x": [
          1,
          2,
          3,
          4,
          5,
          6,
          7,
          8,
          9,
          10,
          11,
          12,
          13,
          14,
          15,
          16,
          17,
          18,
          19,
          20,
          21,
          22,
          23,
          24,
          25,
          26,
          27,
          28,
          29,
          30,
          31,
          32,
          33,
          34,
          35,
          36,
          37,
          38,
          39,
          40,
          41,
          42,
          43,
          44,
          45,
          46,
          47,
          48,
          49,
          50,
          51,
          52,
          52,
          51,
          50,
          49,
          48,
          47,
          46,
          45,
          44,
          43,
          42,
          41,
          40,
          39,
          38,
          37,
          36,
          35,
          34,
          33,
          32,
          31,
          30,
          29,
          28,
          27,
          26,
          25,
          24,
          23,
          22,
          21,
          20,
          19,
          18,
          17,
          16,
          15,
          14,
          13,
          12,
          11,
          10,
          9,
          8,
          7,
          6,
          5,
          4,
          3,
          2,
          1
         ],
         "y": [
          559531.5807898149,
          559531.5807898149,
          559531.5807898149,
          559531.5807898149,
          559531.5807898149,
          559531.5807898149,
          559531.5807898149,
          559531.5807898149,
          559531.5807898149,
          559531.5807898149,
          559531.5807898149,
          559531.5807898149,
          559531.5807898149,
          559531.5807898149,
          559531.5807898149,
          559531.5807898149,
          559531.5807898149,
          559531.5807898149,
          559531.5807898149,
          559531.5807898149,
          559531.5807898149,
          559531.5807898149,
          559531.5807898149,
          559531.5807898149,
          559531.5807898149,
          559531.5807898149,
          559531.5807898149,
          559531.5807898149,
          559531.5807898149,
          559531.5807898149,
          559531.5807898149,
          559531.5807898149,
          559531.5807898149,
          559531.5807898149,
          559531.5807898149,
          559531.5807898149,
          559531.5807898149,
          559531.5807898149,
          559531.5807898149,
          559531.5807898149,
          559531.5807898149,
          559531.5807898149,
          559531.5807898149,
          559531.5807898149,
          559531.5807898149,
          559531.5807898149,
          559531.5807898149,
          559531.5807898149,
          559531.5807898149,
          559531.5807898149,
          559531.5807898149,
          559531.5807898149,
          499832.0192101852,
          499832.0192101852,
          499832.0192101852,
          499832.0192101852,
          499832.0192101852,
          499832.0192101852,
          499832.0192101852,
          499832.0192101852,
          499832.0192101852,
          499832.0192101852,
          499832.0192101852,
          499832.0192101852,
          499832.0192101852,
          499832.0192101852,
          499832.0192101852,
          499832.0192101852,
          499832.0192101852,
          499832.0192101852,
          499832.0192101852,
          499832.0192101852,
          499832.0192101852,
          499832.0192101852,
          499832.0192101852,
          499832.0192101852,
          499832.0192101852,
          499832.0192101852,
          499832.0192101852,
          499832.0192101852,
          499832.0192101852,
          499832.0192101852,
          499832.0192101852,
          499832.0192101852,
          499832.0192101852,
          499832.0192101852,
          499832.0192101852,
          499832.0192101852,
          499832.0192101852,
          499832.0192101852,
          499832.0192101852,
          499832.0192101852,
          499832.0192101852,
          499832.0192101852,
          499832.0192101852,
          499832.0192101852,
          499832.0192101852,
          499832.0192101852,
          499832.0192101852,
          499832.0192101852,
          499832.0192101852,
          499832.0192101852,
          499832.0192101852,
          499832.0192101852
         ]
        }
       ],
       "layout": {
        "template": {
         "data": {
          "bar": [
           {
            "error_x": {
             "color": "#2a3f5f"
            },
            "error_y": {
             "color": "#2a3f5f"
            },
            "marker": {
             "line": {
              "color": "#E5ECF6",
              "width": 0.5
             }
            },
            "type": "bar"
           }
          ],
          "barpolar": [
           {
            "marker": {
             "line": {
              "color": "#E5ECF6",
              "width": 0.5
             }
            },
            "type": "barpolar"
           }
          ],
          "carpet": [
           {
            "aaxis": {
             "endlinecolor": "#2a3f5f",
             "gridcolor": "white",
             "linecolor": "white",
             "minorgridcolor": "white",
             "startlinecolor": "#2a3f5f"
            },
            "baxis": {
             "endlinecolor": "#2a3f5f",
             "gridcolor": "white",
             "linecolor": "white",
             "minorgridcolor": "white",
             "startlinecolor": "#2a3f5f"
            },
            "type": "carpet"
           }
          ],
          "choropleth": [
           {
            "colorbar": {
             "outlinewidth": 0,
             "ticks": ""
            },
            "type": "choropleth"
           }
          ],
          "contour": [
           {
            "colorbar": {
             "outlinewidth": 0,
             "ticks": ""
            },
            "colorscale": [
             [
              0.0,
              "#0d0887"
             ],
             [
              0.1111111111111111,
              "#46039f"
             ],
             [
              0.2222222222222222,
              "#7201a8"
             ],
             [
              0.3333333333333333,
              "#9c179e"
             ],
             [
              0.4444444444444444,
              "#bd3786"
             ],
             [
              0.5555555555555556,
              "#d8576b"
             ],
             [
              0.6666666666666666,
              "#ed7953"
             ],
             [
              0.7777777777777778,
              "#fb9f3a"
             ],
             [
              0.8888888888888888,
              "#fdca26"
             ],
             [
              1.0,
              "#f0f921"
             ]
            ],
            "type": "contour"
           }
          ],
          "contourcarpet": [
           {
            "colorbar": {
             "outlinewidth": 0,
             "ticks": ""
            },
            "type": "contourcarpet"
           }
          ],
          "heatmap": [
           {
            "colorbar": {
             "outlinewidth": 0,
             "ticks": ""
            },
            "colorscale": [
             [
              0.0,
              "#0d0887"
             ],
             [
              0.1111111111111111,
              "#46039f"
             ],
             [
              0.2222222222222222,
              "#7201a8"
             ],
             [
              0.3333333333333333,
              "#9c179e"
             ],
             [
              0.4444444444444444,
              "#bd3786"
             ],
             [
              0.5555555555555556,
              "#d8576b"
             ],
             [
              0.6666666666666666,
              "#ed7953"
             ],
             [
              0.7777777777777778,
              "#fb9f3a"
             ],
             [
              0.8888888888888888,
              "#fdca26"
             ],
             [
              1.0,
              "#f0f921"
             ]
            ],
            "type": "heatmap"
           }
          ],
          "heatmapgl": [
           {
            "colorbar": {
             "outlinewidth": 0,
             "ticks": ""
            },
            "colorscale": [
             [
              0.0,
              "#0d0887"
             ],
             [
              0.1111111111111111,
              "#46039f"
             ],
             [
              0.2222222222222222,
              "#7201a8"
             ],
             [
              0.3333333333333333,
              "#9c179e"
             ],
             [
              0.4444444444444444,
              "#bd3786"
             ],
             [
              0.5555555555555556,
              "#d8576b"
             ],
             [
              0.6666666666666666,
              "#ed7953"
             ],
             [
              0.7777777777777778,
              "#fb9f3a"
             ],
             [
              0.8888888888888888,
              "#fdca26"
             ],
             [
              1.0,
              "#f0f921"
             ]
            ],
            "type": "heatmapgl"
           }
          ],
          "histogram": [
           {
            "marker": {
             "colorbar": {
              "outlinewidth": 0,
              "ticks": ""
             }
            },
            "type": "histogram"
           }
          ],
          "histogram2d": [
           {
            "colorbar": {
             "outlinewidth": 0,
             "ticks": ""
            },
            "colorscale": [
             [
              0.0,
              "#0d0887"
             ],
             [
              0.1111111111111111,
              "#46039f"
             ],
             [
              0.2222222222222222,
              "#7201a8"
             ],
             [
              0.3333333333333333,
              "#9c179e"
             ],
             [
              0.4444444444444444,
              "#bd3786"
             ],
             [
              0.5555555555555556,
              "#d8576b"
             ],
             [
              0.6666666666666666,
              "#ed7953"
             ],
             [
              0.7777777777777778,
              "#fb9f3a"
             ],
             [
              0.8888888888888888,
              "#fdca26"
             ],
             [
              1.0,
              "#f0f921"
             ]
            ],
            "type": "histogram2d"
           }
          ],
          "histogram2dcontour": [
           {
            "colorbar": {
             "outlinewidth": 0,
             "ticks": ""
            },
            "colorscale": [
             [
              0.0,
              "#0d0887"
             ],
             [
              0.1111111111111111,
              "#46039f"
             ],
             [
              0.2222222222222222,
              "#7201a8"
             ],
             [
              0.3333333333333333,
              "#9c179e"
             ],
             [
              0.4444444444444444,
              "#bd3786"
             ],
             [
              0.5555555555555556,
              "#d8576b"
             ],
             [
              0.6666666666666666,
              "#ed7953"
             ],
             [
              0.7777777777777778,
              "#fb9f3a"
             ],
             [
              0.8888888888888888,
              "#fdca26"
             ],
             [
              1.0,
              "#f0f921"
             ]
            ],
            "type": "histogram2dcontour"
           }
          ],
          "mesh3d": [
           {
            "colorbar": {
             "outlinewidth": 0,
             "ticks": ""
            },
            "type": "mesh3d"
           }
          ],
          "parcoords": [
           {
            "line": {
             "colorbar": {
              "outlinewidth": 0,
              "ticks": ""
             }
            },
            "type": "parcoords"
           }
          ],
          "pie": [
           {
            "automargin": true,
            "type": "pie"
           }
          ],
          "scatter": [
           {
            "marker": {
             "colorbar": {
              "outlinewidth": 0,
              "ticks": ""
             }
            },
            "type": "scatter"
           }
          ],
          "scatter3d": [
           {
            "line": {
             "colorbar": {
              "outlinewidth": 0,
              "ticks": ""
             }
            },
            "marker": {
             "colorbar": {
              "outlinewidth": 0,
              "ticks": ""
             }
            },
            "type": "scatter3d"
           }
          ],
          "scattercarpet": [
           {
            "marker": {
             "colorbar": {
              "outlinewidth": 0,
              "ticks": ""
             }
            },
            "type": "scattercarpet"
           }
          ],
          "scattergeo": [
           {
            "marker": {
             "colorbar": {
              "outlinewidth": 0,
              "ticks": ""
             }
            },
            "type": "scattergeo"
           }
          ],
          "scattergl": [
           {
            "marker": {
             "colorbar": {
              "outlinewidth": 0,
              "ticks": ""
             }
            },
            "type": "scattergl"
           }
          ],
          "scattermapbox": [
           {
            "marker": {
             "colorbar": {
              "outlinewidth": 0,
              "ticks": ""
             }
            },
            "type": "scattermapbox"
           }
          ],
          "scatterpolar": [
           {
            "marker": {
             "colorbar": {
              "outlinewidth": 0,
              "ticks": ""
             }
            },
            "type": "scatterpolar"
           }
          ],
          "scatterpolargl": [
           {
            "marker": {
             "colorbar": {
              "outlinewidth": 0,
              "ticks": ""
             }
            },
            "type": "scatterpolargl"
           }
          ],
          "scatterternary": [
           {
            "marker": {
             "colorbar": {
              "outlinewidth": 0,
              "ticks": ""
             }
            },
            "type": "scatterternary"
           }
          ],
          "surface": [
           {
            "colorbar": {
             "outlinewidth": 0,
             "ticks": ""
            },
            "colorscale": [
             [
              0.0,
              "#0d0887"
             ],
             [
              0.1111111111111111,
              "#46039f"
             ],
             [
              0.2222222222222222,
              "#7201a8"
             ],
             [
              0.3333333333333333,
              "#9c179e"
             ],
             [
              0.4444444444444444,
              "#bd3786"
             ],
             [
              0.5555555555555556,
              "#d8576b"
             ],
             [
              0.6666666666666666,
              "#ed7953"
             ],
             [
              0.7777777777777778,
              "#fb9f3a"
             ],
             [
              0.8888888888888888,
              "#fdca26"
             ],
             [
              1.0,
              "#f0f921"
             ]
            ],
            "type": "surface"
           }
          ],
          "table": [
           {
            "cells": {
             "fill": {
              "color": "#EBF0F8"
             },
             "line": {
              "color": "white"
             }
            },
            "header": {
             "fill": {
              "color": "#C8D4E3"
             },
             "line": {
              "color": "white"
             }
            },
            "type": "table"
           }
          ]
         },
         "layout": {
          "annotationdefaults": {
           "arrowcolor": "#2a3f5f",
           "arrowhead": 0,
           "arrowwidth": 1
          },
          "autotypenumbers": "strict",
          "coloraxis": {
           "colorbar": {
            "outlinewidth": 0,
            "ticks": ""
           }
          },
          "colorscale": {
           "diverging": [
            [
             0,
             "#8e0152"
            ],
            [
             0.1,
             "#c51b7d"
            ],
            [
             0.2,
             "#de77ae"
            ],
            [
             0.3,
             "#f1b6da"
            ],
            [
             0.4,
             "#fde0ef"
            ],
            [
             0.5,
             "#f7f7f7"
            ],
            [
             0.6,
             "#e6f5d0"
            ],
            [
             0.7,
             "#b8e186"
            ],
            [
             0.8,
             "#7fbc41"
            ],
            [
             0.9,
             "#4d9221"
            ],
            [
             1,
             "#276419"
            ]
           ],
           "sequential": [
            [
             0.0,
             "#0d0887"
            ],
            [
             0.1111111111111111,
             "#46039f"
            ],
            [
             0.2222222222222222,
             "#7201a8"
            ],
            [
             0.3333333333333333,
             "#9c179e"
            ],
            [
             0.4444444444444444,
             "#bd3786"
            ],
            [
             0.5555555555555556,
             "#d8576b"
            ],
            [
             0.6666666666666666,
             "#ed7953"
            ],
            [
             0.7777777777777778,
             "#fb9f3a"
            ],
            [
             0.8888888888888888,
             "#fdca26"
            ],
            [
             1.0,
             "#f0f921"
            ]
           ],
           "sequentialminus": [
            [
             0.0,
             "#0d0887"
            ],
            [
             0.1111111111111111,
             "#46039f"
            ],
            [
             0.2222222222222222,
             "#7201a8"
            ],
            [
             0.3333333333333333,
             "#9c179e"
            ],
            [
             0.4444444444444444,
             "#bd3786"
            ],
            [
             0.5555555555555556,
             "#d8576b"
            ],
            [
             0.6666666666666666,
             "#ed7953"
            ],
            [
             0.7777777777777778,
             "#fb9f3a"
            ],
            [
             0.8888888888888888,
             "#fdca26"
            ],
            [
             1.0,
             "#f0f921"
            ]
           ]
          },
          "colorway": [
           "#636efa",
           "#EF553B",
           "#00cc96",
           "#ab63fa",
           "#FFA15A",
           "#19d3f3",
           "#FF6692",
           "#B6E880",
           "#FF97FF",
           "#FECB52"
          ],
          "font": {
           "color": "#2a3f5f"
          },
          "geo": {
           "bgcolor": "white",
           "lakecolor": "white",
           "landcolor": "#E5ECF6",
           "showlakes": true,
           "showland": true,
           "subunitcolor": "white"
          },
          "hoverlabel": {
           "align": "left"
          },
          "hovermode": "closest",
          "mapbox": {
           "style": "light"
          },
          "paper_bgcolor": "white",
          "plot_bgcolor": "#E5ECF6",
          "polar": {
           "angularaxis": {
            "gridcolor": "white",
            "linecolor": "white",
            "ticks": ""
           },
           "bgcolor": "#E5ECF6",
           "radialaxis": {
            "gridcolor": "white",
            "linecolor": "white",
            "ticks": ""
           }
          },
          "scene": {
           "xaxis": {
            "backgroundcolor": "#E5ECF6",
            "gridcolor": "white",
            "gridwidth": 2,
            "linecolor": "white",
            "showbackground": true,
            "ticks": "",
            "zerolinecolor": "white"
           },
           "yaxis": {
            "backgroundcolor": "#E5ECF6",
            "gridcolor": "white",
            "gridwidth": 2,
            "linecolor": "white",
            "showbackground": true,
            "ticks": "",
            "zerolinecolor": "white"
           },
           "zaxis": {
            "backgroundcolor": "#E5ECF6",
            "gridcolor": "white",
            "gridwidth": 2,
            "linecolor": "white",
            "showbackground": true,
            "ticks": "",
            "zerolinecolor": "white"
           }
          },
          "shapedefaults": {
           "line": {
            "color": "#2a3f5f"
           }
          },
          "ternary": {
           "aaxis": {
            "gridcolor": "white",
            "linecolor": "white",
            "ticks": ""
           },
           "baxis": {
            "gridcolor": "white",
            "linecolor": "white",
            "ticks": ""
           },
           "bgcolor": "#E5ECF6",
           "caxis": {
            "gridcolor": "white",
            "linecolor": "white",
            "ticks": ""
           }
          },
          "title": {
           "x": 0.05
          },
          "xaxis": {
           "automargin": true,
           "gridcolor": "white",
           "linecolor": "white",
           "ticks": "",
           "title": {
            "standoff": 15
           },
           "zerolinecolor": "white",
           "zerolinewidth": 2
          },
          "yaxis": {
           "automargin": true,
           "gridcolor": "white",
           "linecolor": "white",
           "ticks": "",
           "title": {
            "standoff": 15
           },
           "zerolinecolor": "white",
           "zerolinewidth": 2
          }
         }
        },
        "title": {
         "text": "Deaths in 2021 between week 1 and week 52"
        },
        "xaxis": {
         "title": {
          "text": "Week"
         }
        },
        "yaxis": {
         "title": {
          "text": "Deaths"
         }
        }
       }
      },
      "text/html": [
       "<div>                            <div id=\"be99aa57-5fd0-4d62-8ee5-dc198de59b6a\" class=\"plotly-graph-div\" style=\"height:525px; width:100%;\"></div>            <script type=\"text/javascript\">                require([\"plotly\"], function(Plotly) {                    window.PLOTLYENV=window.PLOTLYENV || {};                                    if (document.getElementById(\"be99aa57-5fd0-4d62-8ee5-dc198de59b6a\")) {                    Plotly.newPlot(                        \"be99aa57-5fd0-4d62-8ee5-dc198de59b6a\",                        [{\"line\": {\"color\": \"blue\", \"dash\": \"dot\", \"width\": 1}, \"name\": \"vold Cases per Week\", \"type\": \"scatter\", \"x\": [1, 2, 3, 4, 5, 6, 7, 8, 9, 10, 11, 12, 13, 14, 15, 16, 17, 18, 19, 20, 21, 22, 23, 24, 25, 26, 27, 28, 29, 30, 31, 32, 33, 34, 35, 36, 37, 38, 39, 40, 41, 42, 43, 44, 45, 46, 47, 48, 49, 50, 51, 52], \"y\": [15658.0, 15223.0, 14956.0, 13913.0, 13095.0, 12543.0, 12192.0, 11061.0, 10709.0, 10771.0, 10712.0, 10570.0, 10571.0, 10869.0, 10804.0, 10801.0, 11014.0, 10858.0, 10612.0, 9986.0, 9760.0, 10504.0, 9941.0, 11072.0, 9910.0, 9791.0, 9733.0, 10052.0, 10230.0, 9936.0, 9819.0, 10269.0, 10185.0, 9967.0, 10054.0, 11121.0, 10653.0, 10534.0, 10615.0, 10729.0, 11182.0, 11729.0, 12272.0, 12386.0, 12764.0, 13513.0, 14020.0, 14575.0, 14561.0, 13727.0, 13514.0, 13276.0]}, {\"line\": {\"color\": \"blue\", \"width\": 1}, \"name\": \"vold Cases Total\", \"type\": \"scatter\", \"x\": [1, 2, 3, 4, 5, 6, 7, 8, 9, 10, 11, 12, 13, 14, 15, 16, 17, 18, 19, 20, 21, 22, 23, 24, 25, 26, 27, 28, 29, 30, 31, 32, 33, 34, 35, 36, 37, 38, 39, 40, 41, 42, 43, 44, 45, 46, 47, 48, 49, 50, 51, 52], \"y\": [15658.0, 30881.0, 45837.0, 59750.0, 72845.0, 85388.0, 97580.0, 108641.0, 119350.0, 130121.0, 140833.0, 151403.0, 161974.0, 172843.0, 183647.0, 194448.0, 205462.0, 216320.0, 226932.0, 236918.0, 246678.0, 257182.0, 267123.0, 278195.0, 288105.0, 297896.0, 307629.0, 317681.0, 327911.0, 337847.0, 347666.0, 357935.0, 368120.0, 378087.0, 388141.0, 399262.0, 409915.0, 420449.0, 431064.0, 441793.0, 452975.0, 464704.0, 476976.0, 489362.0, 502126.0, 515639.0, 529659.0, 544234.0, 558795.0, 572522.0, 586036.0, 599312.0]}, {\"line\": {\"color\": \"red\"}, \"name\": \"expected Value\", \"type\": \"scatter\", \"x\": [1, 2, 3, 4, 5, 6, 7, 8, 9, 10, 11, 12, 13, 14, 15, 16, 17, 18, 19, 20, 21, 22, 23, 24, 25, 26, 27, 28, 29, 30, 31, 32, 33, 34, 35, 36, 37, 38, 39, 40, 41, 42, 43, 44, 45, 46, 47, 48, 49, 50, 51, 52], \"y\": [529681.8, 529681.8, 529681.8, 529681.8, 529681.8, 529681.8, 529681.8, 529681.8, 529681.8, 529681.8, 529681.8, 529681.8, 529681.8, 529681.8, 529681.8, 529681.8, 529681.8, 529681.8, 529681.8, 529681.8, 529681.8, 529681.8, 529681.8, 529681.8, 529681.8, 529681.8, 529681.8, 529681.8, 529681.8, 529681.8, 529681.8, 529681.8, 529681.8, 529681.8, 529681.8, 529681.8, 529681.8, 529681.8, 529681.8, 529681.8, 529681.8, 529681.8, 529681.8, 529681.8, 529681.8, 529681.8, 529681.8, 529681.8, 529681.8, 529681.8, 529681.8, 529681.8]}, {\"fill\": \"toself\", \"fillcolor\": \"red\", \"line\": {\"color\": \"red\"}, \"name\": \"Varianzbereich\", \"opacity\": 0.2, \"type\": \"scatter\", \"x\": [1, 2, 3, 4, 5, 6, 7, 8, 9, 10, 11, 12, 13, 14, 15, 16, 17, 18, 19, 20, 21, 22, 23, 24, 25, 26, 27, 28, 29, 30, 31, 32, 33, 34, 35, 36, 37, 38, 39, 40, 41, 42, 43, 44, 45, 46, 47, 48, 49, 50, 51, 52, 52, 51, 50, 49, 48, 47, 46, 45, 44, 43, 42, 41, 40, 39, 38, 37, 36, 35, 34, 33, 32, 31, 30, 29, 28, 27, 26, 25, 24, 23, 22, 21, 20, 19, 18, 17, 16, 15, 14, 13, 12, 11, 10, 9, 8, 7, 6, 5, 4, 3, 2, 1], \"y\": [559531.5807898149, 559531.5807898149, 559531.5807898149, 559531.5807898149, 559531.5807898149, 559531.5807898149, 559531.5807898149, 559531.5807898149, 559531.5807898149, 559531.5807898149, 559531.5807898149, 559531.5807898149, 559531.5807898149, 559531.5807898149, 559531.5807898149, 559531.5807898149, 559531.5807898149, 559531.5807898149, 559531.5807898149, 559531.5807898149, 559531.5807898149, 559531.5807898149, 559531.5807898149, 559531.5807898149, 559531.5807898149, 559531.5807898149, 559531.5807898149, 559531.5807898149, 559531.5807898149, 559531.5807898149, 559531.5807898149, 559531.5807898149, 559531.5807898149, 559531.5807898149, 559531.5807898149, 559531.5807898149, 559531.5807898149, 559531.5807898149, 559531.5807898149, 559531.5807898149, 559531.5807898149, 559531.5807898149, 559531.5807898149, 559531.5807898149, 559531.5807898149, 559531.5807898149, 559531.5807898149, 559531.5807898149, 559531.5807898149, 559531.5807898149, 559531.5807898149, 559531.5807898149, 499832.0192101852, 499832.0192101852, 499832.0192101852, 499832.0192101852, 499832.0192101852, 499832.0192101852, 499832.0192101852, 499832.0192101852, 499832.0192101852, 499832.0192101852, 499832.0192101852, 499832.0192101852, 499832.0192101852, 499832.0192101852, 499832.0192101852, 499832.0192101852, 499832.0192101852, 499832.0192101852, 499832.0192101852, 499832.0192101852, 499832.0192101852, 499832.0192101852, 499832.0192101852, 499832.0192101852, 499832.0192101852, 499832.0192101852, 499832.0192101852, 499832.0192101852, 499832.0192101852, 499832.0192101852, 499832.0192101852, 499832.0192101852, 499832.0192101852, 499832.0192101852, 499832.0192101852, 499832.0192101852, 499832.0192101852, 499832.0192101852, 499832.0192101852, 499832.0192101852, 499832.0192101852, 499832.0192101852, 499832.0192101852, 499832.0192101852, 499832.0192101852, 499832.0192101852, 499832.0192101852, 499832.0192101852, 499832.0192101852, 499832.0192101852, 499832.0192101852, 499832.0192101852]}],                        {\"template\": {\"data\": {\"bar\": [{\"error_x\": {\"color\": \"#2a3f5f\"}, \"error_y\": {\"color\": \"#2a3f5f\"}, \"marker\": {\"line\": {\"color\": \"#E5ECF6\", \"width\": 0.5}}, \"type\": \"bar\"}], \"barpolar\": [{\"marker\": {\"line\": {\"color\": \"#E5ECF6\", \"width\": 0.5}}, \"type\": \"barpolar\"}], \"carpet\": [{\"aaxis\": {\"endlinecolor\": \"#2a3f5f\", \"gridcolor\": \"white\", \"linecolor\": \"white\", \"minorgridcolor\": \"white\", \"startlinecolor\": \"#2a3f5f\"}, \"baxis\": {\"endlinecolor\": \"#2a3f5f\", \"gridcolor\": \"white\", \"linecolor\": \"white\", \"minorgridcolor\": \"white\", \"startlinecolor\": \"#2a3f5f\"}, \"type\": \"carpet\"}], \"choropleth\": [{\"colorbar\": {\"outlinewidth\": 0, \"ticks\": \"\"}, \"type\": \"choropleth\"}], \"contour\": [{\"colorbar\": {\"outlinewidth\": 0, \"ticks\": \"\"}, \"colorscale\": [[0.0, \"#0d0887\"], [0.1111111111111111, \"#46039f\"], [0.2222222222222222, \"#7201a8\"], [0.3333333333333333, \"#9c179e\"], [0.4444444444444444, \"#bd3786\"], [0.5555555555555556, \"#d8576b\"], [0.6666666666666666, \"#ed7953\"], [0.7777777777777778, \"#fb9f3a\"], [0.8888888888888888, \"#fdca26\"], [1.0, \"#f0f921\"]], \"type\": \"contour\"}], \"contourcarpet\": [{\"colorbar\": {\"outlinewidth\": 0, \"ticks\": \"\"}, \"type\": \"contourcarpet\"}], \"heatmap\": [{\"colorbar\": {\"outlinewidth\": 0, \"ticks\": \"\"}, \"colorscale\": [[0.0, \"#0d0887\"], [0.1111111111111111, \"#46039f\"], [0.2222222222222222, \"#7201a8\"], [0.3333333333333333, \"#9c179e\"], [0.4444444444444444, \"#bd3786\"], [0.5555555555555556, \"#d8576b\"], [0.6666666666666666, \"#ed7953\"], [0.7777777777777778, \"#fb9f3a\"], [0.8888888888888888, \"#fdca26\"], [1.0, \"#f0f921\"]], \"type\": \"heatmap\"}], \"heatmapgl\": [{\"colorbar\": {\"outlinewidth\": 0, \"ticks\": \"\"}, \"colorscale\": [[0.0, \"#0d0887\"], [0.1111111111111111, \"#46039f\"], [0.2222222222222222, \"#7201a8\"], [0.3333333333333333, \"#9c179e\"], [0.4444444444444444, \"#bd3786\"], [0.5555555555555556, \"#d8576b\"], [0.6666666666666666, \"#ed7953\"], [0.7777777777777778, \"#fb9f3a\"], [0.8888888888888888, \"#fdca26\"], [1.0, \"#f0f921\"]], \"type\": \"heatmapgl\"}], \"histogram\": [{\"marker\": {\"colorbar\": {\"outlinewidth\": 0, \"ticks\": \"\"}}, \"type\": \"histogram\"}], \"histogram2d\": [{\"colorbar\": {\"outlinewidth\": 0, \"ticks\": \"\"}, \"colorscale\": [[0.0, \"#0d0887\"], [0.1111111111111111, \"#46039f\"], [0.2222222222222222, \"#7201a8\"], [0.3333333333333333, \"#9c179e\"], [0.4444444444444444, \"#bd3786\"], [0.5555555555555556, \"#d8576b\"], [0.6666666666666666, \"#ed7953\"], [0.7777777777777778, \"#fb9f3a\"], [0.8888888888888888, \"#fdca26\"], [1.0, \"#f0f921\"]], \"type\": \"histogram2d\"}], \"histogram2dcontour\": [{\"colorbar\": {\"outlinewidth\": 0, \"ticks\": \"\"}, \"colorscale\": [[0.0, \"#0d0887\"], [0.1111111111111111, \"#46039f\"], [0.2222222222222222, \"#7201a8\"], [0.3333333333333333, \"#9c179e\"], [0.4444444444444444, \"#bd3786\"], [0.5555555555555556, \"#d8576b\"], [0.6666666666666666, \"#ed7953\"], [0.7777777777777778, \"#fb9f3a\"], [0.8888888888888888, \"#fdca26\"], [1.0, \"#f0f921\"]], \"type\": \"histogram2dcontour\"}], \"mesh3d\": [{\"colorbar\": {\"outlinewidth\": 0, \"ticks\": \"\"}, \"type\": \"mesh3d\"}], \"parcoords\": [{\"line\": {\"colorbar\": {\"outlinewidth\": 0, \"ticks\": \"\"}}, \"type\": \"parcoords\"}], \"pie\": [{\"automargin\": true, \"type\": \"pie\"}], \"scatter\": [{\"marker\": {\"colorbar\": {\"outlinewidth\": 0, \"ticks\": \"\"}}, \"type\": \"scatter\"}], \"scatter3d\": [{\"line\": {\"colorbar\": {\"outlinewidth\": 0, \"ticks\": \"\"}}, \"marker\": {\"colorbar\": {\"outlinewidth\": 0, \"ticks\": \"\"}}, \"type\": \"scatter3d\"}], \"scattercarpet\": [{\"marker\": {\"colorbar\": {\"outlinewidth\": 0, \"ticks\": \"\"}}, \"type\": \"scattercarpet\"}], \"scattergeo\": [{\"marker\": {\"colorbar\": {\"outlinewidth\": 0, \"ticks\": \"\"}}, \"type\": \"scattergeo\"}], \"scattergl\": [{\"marker\": {\"colorbar\": {\"outlinewidth\": 0, \"ticks\": \"\"}}, \"type\": \"scattergl\"}], \"scattermapbox\": [{\"marker\": {\"colorbar\": {\"outlinewidth\": 0, \"ticks\": \"\"}}, \"type\": \"scattermapbox\"}], \"scatterpolar\": [{\"marker\": {\"colorbar\": {\"outlinewidth\": 0, \"ticks\": \"\"}}, \"type\": \"scatterpolar\"}], \"scatterpolargl\": [{\"marker\": {\"colorbar\": {\"outlinewidth\": 0, \"ticks\": \"\"}}, \"type\": \"scatterpolargl\"}], \"scatterternary\": [{\"marker\": {\"colorbar\": {\"outlinewidth\": 0, \"ticks\": \"\"}}, \"type\": \"scatterternary\"}], \"surface\": [{\"colorbar\": {\"outlinewidth\": 0, \"ticks\": \"\"}, \"colorscale\": [[0.0, \"#0d0887\"], [0.1111111111111111, \"#46039f\"], [0.2222222222222222, \"#7201a8\"], [0.3333333333333333, \"#9c179e\"], [0.4444444444444444, \"#bd3786\"], [0.5555555555555556, \"#d8576b\"], [0.6666666666666666, \"#ed7953\"], [0.7777777777777778, \"#fb9f3a\"], [0.8888888888888888, \"#fdca26\"], [1.0, \"#f0f921\"]], \"type\": \"surface\"}], \"table\": [{\"cells\": {\"fill\": {\"color\": \"#EBF0F8\"}, \"line\": {\"color\": \"white\"}}, \"header\": {\"fill\": {\"color\": \"#C8D4E3\"}, \"line\": {\"color\": \"white\"}}, \"type\": \"table\"}]}, \"layout\": {\"annotationdefaults\": {\"arrowcolor\": \"#2a3f5f\", \"arrowhead\": 0, \"arrowwidth\": 1}, \"autotypenumbers\": \"strict\", \"coloraxis\": {\"colorbar\": {\"outlinewidth\": 0, \"ticks\": \"\"}}, \"colorscale\": {\"diverging\": [[0, \"#8e0152\"], [0.1, \"#c51b7d\"], [0.2, \"#de77ae\"], [0.3, \"#f1b6da\"], [0.4, \"#fde0ef\"], [0.5, \"#f7f7f7\"], [0.6, \"#e6f5d0\"], [0.7, \"#b8e186\"], [0.8, \"#7fbc41\"], [0.9, \"#4d9221\"], [1, \"#276419\"]], \"sequential\": [[0.0, \"#0d0887\"], [0.1111111111111111, \"#46039f\"], [0.2222222222222222, \"#7201a8\"], [0.3333333333333333, \"#9c179e\"], [0.4444444444444444, \"#bd3786\"], [0.5555555555555556, \"#d8576b\"], [0.6666666666666666, \"#ed7953\"], [0.7777777777777778, \"#fb9f3a\"], [0.8888888888888888, \"#fdca26\"], [1.0, \"#f0f921\"]], \"sequentialminus\": [[0.0, \"#0d0887\"], [0.1111111111111111, \"#46039f\"], [0.2222222222222222, \"#7201a8\"], [0.3333333333333333, \"#9c179e\"], [0.4444444444444444, \"#bd3786\"], [0.5555555555555556, \"#d8576b\"], [0.6666666666666666, \"#ed7953\"], [0.7777777777777778, \"#fb9f3a\"], [0.8888888888888888, \"#fdca26\"], [1.0, \"#f0f921\"]]}, \"colorway\": [\"#636efa\", \"#EF553B\", \"#00cc96\", \"#ab63fa\", \"#FFA15A\", \"#19d3f3\", \"#FF6692\", \"#B6E880\", \"#FF97FF\", \"#FECB52\"], \"font\": {\"color\": \"#2a3f5f\"}, \"geo\": {\"bgcolor\": \"white\", \"lakecolor\": \"white\", \"landcolor\": \"#E5ECF6\", \"showlakes\": true, \"showland\": true, \"subunitcolor\": \"white\"}, \"hoverlabel\": {\"align\": \"left\"}, \"hovermode\": \"closest\", \"mapbox\": {\"style\": \"light\"}, \"paper_bgcolor\": \"white\", \"plot_bgcolor\": \"#E5ECF6\", \"polar\": {\"angularaxis\": {\"gridcolor\": \"white\", \"linecolor\": \"white\", \"ticks\": \"\"}, \"bgcolor\": \"#E5ECF6\", \"radialaxis\": {\"gridcolor\": \"white\", \"linecolor\": \"white\", \"ticks\": \"\"}}, \"scene\": {\"xaxis\": {\"backgroundcolor\": \"#E5ECF6\", \"gridcolor\": \"white\", \"gridwidth\": 2, \"linecolor\": \"white\", \"showbackground\": true, \"ticks\": \"\", \"zerolinecolor\": \"white\"}, \"yaxis\": {\"backgroundcolor\": \"#E5ECF6\", \"gridcolor\": \"white\", \"gridwidth\": 2, \"linecolor\": \"white\", \"showbackground\": true, \"ticks\": \"\", \"zerolinecolor\": \"white\"}, \"zaxis\": {\"backgroundcolor\": \"#E5ECF6\", \"gridcolor\": \"white\", \"gridwidth\": 2, \"linecolor\": \"white\", \"showbackground\": true, \"ticks\": \"\", \"zerolinecolor\": \"white\"}}, \"shapedefaults\": {\"line\": {\"color\": \"#2a3f5f\"}}, \"ternary\": {\"aaxis\": {\"gridcolor\": \"white\", \"linecolor\": \"white\", \"ticks\": \"\"}, \"baxis\": {\"gridcolor\": \"white\", \"linecolor\": \"white\", \"ticks\": \"\"}, \"bgcolor\": \"#E5ECF6\", \"caxis\": {\"gridcolor\": \"white\", \"linecolor\": \"white\", \"ticks\": \"\"}}, \"title\": {\"x\": 0.05}, \"xaxis\": {\"automargin\": true, \"gridcolor\": \"white\", \"linecolor\": \"white\", \"ticks\": \"\", \"title\": {\"standoff\": 15}, \"zerolinecolor\": \"white\", \"zerolinewidth\": 2}, \"yaxis\": {\"automargin\": true, \"gridcolor\": \"white\", \"linecolor\": \"white\", \"ticks\": \"\", \"title\": {\"standoff\": 15}, \"zerolinecolor\": \"white\", \"zerolinewidth\": 2}}}, \"title\": {\"text\": \"Deaths in 2021 between week 1 and week 52\"}, \"xaxis\": {\"title\": {\"text\": \"Week\"}}, \"yaxis\": {\"title\": {\"text\": \"Deaths\"}}},                        {\"responsive\": true}                    ).then(function(){\n",
       "                            \n",
       "var gd = document.getElementById('be99aa57-5fd0-4d62-8ee5-dc198de59b6a');\n",
       "var x = new MutationObserver(function (mutations, observer) {{\n",
       "        var display = window.getComputedStyle(gd).display;\n",
       "        if (!display || display === 'none') {{\n",
       "            console.log([gd, 'removed!']);\n",
       "            Plotly.purge(gd);\n",
       "            observer.disconnect();\n",
       "        }}\n",
       "}});\n",
       "\n",
       "// Listen for the removal of the full notebook cells\n",
       "var notebookContainer = gd.closest('#notebook-container');\n",
       "if (notebookContainer) {{\n",
       "    x.observe(notebookContainer, {childList: true});\n",
       "}}\n",
       "\n",
       "// Listen for the clearing of the current output cell\n",
       "var outputEl = gd.closest('.output');\n",
       "if (outputEl) {{\n",
       "    x.observe(outputEl, {childList: true});\n",
       "}}\n",
       "\n",
       "                        })                };                });            </script>        </div>"
      ]
     },
     "metadata": {},
     "output_type": "display_data"
    }
   ],
   "execution_count": 127
  },
  {
   "metadata": {
    "ExecuteTime": {
     "end_time": "2024-05-15T08:23:17.768408Z",
     "start_time": "2024-05-15T08:23:17.761410Z"
    }
   },
   "cell_type": "code",
   "source": "",
   "id": "1f075f50ec9ccff2",
   "outputs": [],
   "execution_count": 127
  }
 ],
 "metadata": {
  "kernelspec": {
   "display_name": "Python 3",
   "language": "python",
   "name": "python3"
  },
  "language_info": {
   "codemirror_mode": {
    "name": "ipython",
    "version": 2
   },
   "file_extension": ".py",
   "mimetype": "text/x-python",
   "name": "python",
   "nbconvert_exporter": "python",
   "pygments_lexer": "ipython2",
   "version": "2.7.6"
  }
 },
 "nbformat": 4,
 "nbformat_minor": 5
}
